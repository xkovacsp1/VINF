{
  "nbformat": 4,
  "nbformat_minor": 0,
  "metadata": {
    "colab": {
      "name": "VINF.ipynb",
      "provenance": [],
      "collapsed_sections": [],
      "toc_visible": true,
      "machine_shape": "hm"
    },
    "kernelspec": {
      "name": "python3",
      "display_name": "Python 3"
    },
    "accelerator": "GPU"
  },
  "cells": [
    {
      "cell_type": "markdown",
      "metadata": {
        "id": "omhmaqd4uLrq"
      },
      "source": [
        "# <center>Searching in scientific papers</center>\n",
        "##  <center>Patrik Kovács</center>\n",
        "###  <center>Subject: Information retrieval </center>"
      ]
    },
    {
      "cell_type": "markdown",
      "metadata": {
        "id": "ZMqqvYurbQH_"
      },
      "source": [
        "#Preprocessing"
      ]
    },
    {
      "cell_type": "code",
      "metadata": {
        "id": "Ef3HQgKBbPhR",
        "outputId": "c5fb39d1-6425-49f7-fc0f-849002a606b5",
        "colab": {
          "base_uri": "https://localhost:8080/",
          "height": 35
        }
      },
      "source": [
        "from google.colab import drive\n",
        "drive.mount('/gdrive')"
      ],
      "execution_count": null,
      "outputs": [
        {
          "output_type": "stream",
          "text": [
            "Mounted at /gdrive\n"
          ],
          "name": "stdout"
        }
      ]
    },
    {
      "cell_type": "code",
      "metadata": {
        "id": "D51CoNk9bPqo"
      },
      "source": [
        "!pip install -U -q PyDrive\n",
        "from pydrive.auth import GoogleAuth\n",
        "from pydrive.drive import GoogleDrive\n",
        "from google.colab import auth\n",
        "from oauth2client.client import GoogleCredentials\n",
        "# Authenticate and create the PyDrive client.\n",
        "auth.authenticate_user()\n",
        "gauth = GoogleAuth()\n",
        "gauth.credentials = GoogleCredentials.get_application_default()\n",
        "drive = GoogleDrive(gauth)"
      ],
      "execution_count": null,
      "outputs": []
    },
    {
      "cell_type": "markdown",
      "metadata": {
        "id": "PwwKoyK8Ctlf"
      },
      "source": [
        "# Used libraries"
      ]
    },
    {
      "cell_type": "code",
      "metadata": {
        "id": "wht1aEI7bayq",
        "outputId": "953c66c8-dd3c-42ac-e72c-1623dd8987d7",
        "colab": {
          "base_uri": "https://localhost:8080/",
          "height": 52
        }
      },
      "source": [
        "import json\n",
        "import pandas as pd\n",
        "import re\n",
        "import numpy as np\n",
        "from sklearn.feature_extraction.text import TfidfVectorizer\n",
        "from sklearn.base import BaseEstimator, TransformerMixin\n",
        "from sklearn.pipeline import Pipeline\n",
        "import nltk\n",
        "import json\n",
        "from nltk.corpus import stopwords\n",
        "nltk.download('stopwords')\n",
        "stop_words = set(stopwords.words('english'))\n",
        "%matplotlib inline"
      ],
      "execution_count": null,
      "outputs": [
        {
          "output_type": "stream",
          "text": [
            "[nltk_data] Downloading package stopwords to /root/nltk_data...\n",
            "[nltk_data]   Unzipping corpora/stopwords.zip.\n"
          ],
          "name": "stdout"
        }
      ]
    },
    {
      "cell_type": "code",
      "metadata": {
        "id": "Pq6fmRX0qia2"
      },
      "source": [
        "#downloaded = drive.CreateFile({'id':'1JRSqi4HDhIHXtOBo4P6M30qrX2o-IS2z'}) \n",
        "#downloaded.GetContentFile('arxiv-metadata-oai-snapshot.json')"
      ],
      "execution_count": null,
      "outputs": []
    },
    {
      "cell_type": "code",
      "metadata": {
        "id": "2q3bTGr3p5yT"
      },
      "source": [
        "#df.to_pickle(\"arxiv_df.p\")"
      ],
      "execution_count": null,
      "outputs": []
    },
    {
      "cell_type": "code",
      "metadata": {
        "id": "MdXflVUTrDmi"
      },
      "source": [
        "#pickle_file = drive.CreateFile()\n",
        "#pickle_file.SetContentFile('arxiv_df.p')\n",
        "#!cp arxiv_df.p \"/gdrive/My Drive/ING/VINF/\""
      ],
      "execution_count": null,
      "outputs": []
    },
    {
      "cell_type": "code",
      "metadata": {
        "id": "wtTdrfEirOU6"
      },
      "source": [
        "downloaded = drive.CreateFile({'id':'1T5Af-pgZNou18KIUbpbyy75hrD7BId4T'}) \n",
        "downloaded.GetContentFile('arxiv_df.p')"
      ],
      "execution_count": null,
      "outputs": []
    },
    {
      "cell_type": "code",
      "metadata": {
        "id": "vhz3Q62Dba-P"
      },
      "source": [
        "pd.set_option('display.max_columns', None)\n",
        "pd.set_option('display.max_rows', None)"
      ],
      "execution_count": null,
      "outputs": []
    },
    {
      "cell_type": "code",
      "metadata": {
        "id": "OOE3dGCnroE7"
      },
      "source": [
        "df = pd.read_pickle('arxiv_df.p')"
      ],
      "execution_count": null,
      "outputs": []
    },
    {
      "cell_type": "code",
      "metadata": {
        "id": "PTzNn29Unyn3"
      },
      "source": [
        "#df=pd.read_json('arxiv-metadata-oai-snapshot.json',lines = True)"
      ],
      "execution_count": null,
      "outputs": []
    },
    {
      "cell_type": "code",
      "metadata": {
        "id": "TIT-Zw0xnyPE",
        "outputId": "c0bdd511-75cf-418c-a2a7-0195db749c0d",
        "colab": {
          "base_uri": "https://localhost:8080/",
          "height": 35
        }
      },
      "source": [
        "df.shape"
      ],
      "execution_count": null,
      "outputs": [
        {
          "output_type": "execute_result",
          "data": {
            "text/plain": [
              "(1765688, 14)"
            ]
          },
          "metadata": {
            "tags": []
          },
          "execution_count": 63
        }
      ]
    },
    {
      "cell_type": "code",
      "metadata": {
        "id": "4kN231ihGeHX",
        "outputId": "553055cb-d874-4ba4-9c3b-a6e29ab12d7d",
        "colab": {
          "base_uri": "https://localhost:8080/",
          "height": 335
        }
      },
      "source": [
        "df.head(2)"
      ],
      "execution_count": null,
      "outputs": [
        {
          "output_type": "execute_result",
          "data": {
            "text/html": [
              "<div>\n",
              "<style scoped>\n",
              "    .dataframe tbody tr th:only-of-type {\n",
              "        vertical-align: middle;\n",
              "    }\n",
              "\n",
              "    .dataframe tbody tr th {\n",
              "        vertical-align: top;\n",
              "    }\n",
              "\n",
              "    .dataframe thead th {\n",
              "        text-align: right;\n",
              "    }\n",
              "</style>\n",
              "<table border=\"1\" class=\"dataframe\">\n",
              "  <thead>\n",
              "    <tr style=\"text-align: right;\">\n",
              "      <th></th>\n",
              "      <th>id</th>\n",
              "      <th>submitter</th>\n",
              "      <th>authors</th>\n",
              "      <th>title</th>\n",
              "      <th>comments</th>\n",
              "      <th>journal-ref</th>\n",
              "      <th>doi</th>\n",
              "      <th>report-no</th>\n",
              "      <th>categories</th>\n",
              "      <th>license</th>\n",
              "      <th>abstract</th>\n",
              "      <th>versions</th>\n",
              "      <th>update_date</th>\n",
              "      <th>authors_parsed</th>\n",
              "    </tr>\n",
              "  </thead>\n",
              "  <tbody>\n",
              "    <tr>\n",
              "      <th>0</th>\n",
              "      <td>0704.0001</td>\n",
              "      <td>Pavel Nadolsky</td>\n",
              "      <td>C. Bal\\'azs, E. L. Berger, P. M. Nadolsky, C.-...</td>\n",
              "      <td>Calculation of prompt diphoton production cros...</td>\n",
              "      <td>37 pages, 15 figures; published version</td>\n",
              "      <td>Phys.Rev.D76:013009,2007</td>\n",
              "      <td>10.1103/PhysRevD.76.013009</td>\n",
              "      <td>ANL-HEP-PR-07-12</td>\n",
              "      <td>hep-ph</td>\n",
              "      <td>None</td>\n",
              "      <td>A fully differential calculation in perturba...</td>\n",
              "      <td>[{'version': 'v1', 'created': 'Mon, 2 Apr 2007...</td>\n",
              "      <td>2008-11-26</td>\n",
              "      <td>[[Balázs, C., ], [Berger, E. L., ], [Nadolsky,...</td>\n",
              "    </tr>\n",
              "    <tr>\n",
              "      <th>1</th>\n",
              "      <td>0704.0002</td>\n",
              "      <td>Louis Theran</td>\n",
              "      <td>Ileana Streinu and Louis Theran</td>\n",
              "      <td>Sparsity-certifying Graph Decompositions</td>\n",
              "      <td>To appear in Graphs and Combinatorics</td>\n",
              "      <td>None</td>\n",
              "      <td>None</td>\n",
              "      <td>None</td>\n",
              "      <td>math.CO cs.CG</td>\n",
              "      <td>http://arxiv.org/licenses/nonexclusive-distrib...</td>\n",
              "      <td>We describe a new algorithm, the $(k,\\ell)$-...</td>\n",
              "      <td>[{'version': 'v1', 'created': 'Sat, 31 Mar 200...</td>\n",
              "      <td>2008-12-13</td>\n",
              "      <td>[[Streinu, Ileana, ], [Theran, Louis, ]]</td>\n",
              "    </tr>\n",
              "  </tbody>\n",
              "</table>\n",
              "</div>"
            ],
            "text/plain": [
              "          id       submitter  \\\n",
              "0  0704.0001  Pavel Nadolsky   \n",
              "1  0704.0002    Louis Theran   \n",
              "\n",
              "                                             authors  \\\n",
              "0  C. Bal\\'azs, E. L. Berger, P. M. Nadolsky, C.-...   \n",
              "1                    Ileana Streinu and Louis Theran   \n",
              "\n",
              "                                               title  \\\n",
              "0  Calculation of prompt diphoton production cros...   \n",
              "1           Sparsity-certifying Graph Decompositions   \n",
              "\n",
              "                                  comments               journal-ref  \\\n",
              "0  37 pages, 15 figures; published version  Phys.Rev.D76:013009,2007   \n",
              "1    To appear in Graphs and Combinatorics                      None   \n",
              "\n",
              "                          doi         report-no     categories  \\\n",
              "0  10.1103/PhysRevD.76.013009  ANL-HEP-PR-07-12         hep-ph   \n",
              "1                        None              None  math.CO cs.CG   \n",
              "\n",
              "                                             license  \\\n",
              "0                                               None   \n",
              "1  http://arxiv.org/licenses/nonexclusive-distrib...   \n",
              "\n",
              "                                            abstract  \\\n",
              "0    A fully differential calculation in perturba...   \n",
              "1    We describe a new algorithm, the $(k,\\ell)$-...   \n",
              "\n",
              "                                            versions update_date  \\\n",
              "0  [{'version': 'v1', 'created': 'Mon, 2 Apr 2007...  2008-11-26   \n",
              "1  [{'version': 'v1', 'created': 'Sat, 31 Mar 200...  2008-12-13   \n",
              "\n",
              "                                      authors_parsed  \n",
              "0  [[Balázs, C., ], [Berger, E. L., ], [Nadolsky,...  \n",
              "1           [[Streinu, Ileana, ], [Theran, Louis, ]]  "
            ]
          },
          "metadata": {
            "tags": []
          },
          "execution_count": 64
        }
      ]
    },
    {
      "cell_type": "code",
      "metadata": {
        "id": "MjMtKQVxwb7o",
        "outputId": "8f1d7036-dbcf-4ca5-f332-dfcba3a4e715",
        "colab": {
          "base_uri": "https://localhost:8080/",
          "height": 90
        }
      },
      "source": [
        "df.columns"
      ],
      "execution_count": null,
      "outputs": [
        {
          "output_type": "execute_result",
          "data": {
            "text/plain": [
              "Index(['id', 'submitter', 'authors', 'title', 'comments', 'journal-ref', 'doi',\n",
              "       'report-no', 'categories', 'license', 'abstract', 'versions',\n",
              "       'update_date', 'authors_parsed'],\n",
              "      dtype='object')"
            ]
          },
          "metadata": {
            "tags": []
          },
          "execution_count": 10
        }
      ]
    },
    {
      "cell_type": "code",
      "metadata": {
        "id": "xKkpK488xPrR",
        "outputId": "040e00e5-497b-4337-c425-006dfba53e74",
        "colab": {
          "base_uri": "https://localhost:8080/",
          "height": 35
        }
      },
      "source": [
        "df.shape"
      ],
      "execution_count": null,
      "outputs": [
        {
          "output_type": "execute_result",
          "data": {
            "text/plain": [
              "(1765688, 14)"
            ]
          },
          "metadata": {
            "tags": []
          },
          "execution_count": 12
        }
      ]
    },
    {
      "cell_type": "code",
      "metadata": {
        "id": "t3G2Ylhcxcuz",
        "outputId": "3cb48b56-92f7-43cb-c708-ff2ac9f3311f",
        "colab": {
          "base_uri": "https://localhost:8080/",
          "height": 399
        }
      },
      "source": [
        "df.info()"
      ],
      "execution_count": null,
      "outputs": [
        {
          "output_type": "stream",
          "text": [
            "<class 'pandas.core.frame.DataFrame'>\n",
            "RangeIndex: 1765688 entries, 0 to 1765687\n",
            "Data columns (total 14 columns):\n",
            " #   Column          Dtype \n",
            "---  ------          ----- \n",
            " 0   id              object\n",
            " 1   submitter       object\n",
            " 2   authors         object\n",
            " 3   title           object\n",
            " 4   comments        object\n",
            " 5   journal-ref     object\n",
            " 6   doi             object\n",
            " 7   report-no       object\n",
            " 8   categories      object\n",
            " 9   license         object\n",
            " 10  abstract        object\n",
            " 11  versions        object\n",
            " 12  update_date     object\n",
            " 13  authors_parsed  object\n",
            "dtypes: object(14)\n",
            "memory usage: 188.6+ MB\n"
          ],
          "name": "stdout"
        }
      ]
    },
    {
      "cell_type": "markdown",
      "metadata": {
        "id": "68PKd9kOy2N_"
      },
      "source": [
        "### Removing of duplicit instances"
      ]
    },
    {
      "cell_type": "code",
      "metadata": {
        "id": "eUGkIfnCweOZ",
        "outputId": "43b4d6e9-04df-43b2-97af-d44f6854a9a4",
        "colab": {
          "base_uri": "https://localhost:8080/",
          "height": 35
        }
      },
      "source": [
        "df['id'].is_unique"
      ],
      "execution_count": null,
      "outputs": [
        {
          "output_type": "execute_result",
          "data": {
            "text/plain": [
              "False"
            ]
          },
          "metadata": {
            "tags": []
          },
          "execution_count": 14
        }
      ]
    },
    {
      "cell_type": "code",
      "metadata": {
        "id": "g1F6jJcex9Bn",
        "outputId": "24148519-7e0d-4dae-a290-14f68493bf40",
        "colab": {
          "base_uri": "https://localhost:8080/",
          "height": 35
        }
      },
      "source": [
        "df.duplicated(subset=['id']).any()"
      ],
      "execution_count": null,
      "outputs": [
        {
          "output_type": "execute_result",
          "data": {
            "text/plain": [
              "True"
            ]
          },
          "metadata": {
            "tags": []
          },
          "execution_count": 65
        }
      ]
    },
    {
      "cell_type": "code",
      "metadata": {
        "id": "YuTpo9B_ysLt",
        "outputId": "052efd90-a13e-455d-c343-52a5efa15861",
        "colab": {
          "base_uri": "https://localhost:8080/",
          "height": 35
        }
      },
      "source": [
        "df.shape"
      ],
      "execution_count": null,
      "outputs": [
        {
          "output_type": "execute_result",
          "data": {
            "text/plain": [
              "(1765688, 14)"
            ]
          },
          "metadata": {
            "tags": []
          },
          "execution_count": 5
        }
      ]
    },
    {
      "cell_type": "code",
      "metadata": {
        "id": "Zu00cIsJynKi"
      },
      "source": [
        "df_new=df.drop_duplicates(subset=['id'])"
      ],
      "execution_count": null,
      "outputs": []
    },
    {
      "cell_type": "code",
      "metadata": {
        "id": "HSz3iiIDyuX1",
        "outputId": "e3229baf-620e-4b2b-d91f-e1bc2909de9d",
        "colab": {
          "base_uri": "https://localhost:8080/",
          "height": 35
        }
      },
      "source": [
        "df_new.shape"
      ],
      "execution_count": null,
      "outputs": [
        {
          "output_type": "execute_result",
          "data": {
            "text/plain": [
              "(1765685, 14)"
            ]
          },
          "metadata": {
            "tags": []
          },
          "execution_count": 5
        }
      ]
    },
    {
      "cell_type": "markdown",
      "metadata": {
        "id": "zGi5Ip7Cz21a"
      },
      "source": [
        "# Attribute submitter\n"
      ]
    },
    {
      "cell_type": "code",
      "metadata": {
        "id": "pVeo_bUd1UBz",
        "outputId": "850fccac-2009-4b4b-c413-4b58ca085563",
        "colab": {
          "base_uri": "https://localhost:8080/",
          "height": 126
        }
      },
      "source": [
        "df_new['submitter'].head()"
      ],
      "execution_count": null,
      "outputs": [
        {
          "output_type": "execute_result",
          "data": {
            "text/plain": [
              "0        Pavel Nadolsky\n",
              "1          Louis Theran\n",
              "2           Hongjun Pan\n",
              "3          David Callan\n",
              "4    Alberto Torchinsky\n",
              "Name: submitter, dtype: object"
            ]
          },
          "metadata": {
            "tags": []
          },
          "execution_count": 38
        }
      ]
    },
    {
      "cell_type": "code",
      "metadata": {
        "id": "gd5QbLuezvGY",
        "outputId": "7f85bffa-8180-499b-e58b-b22f97d60c3a",
        "colab": {
          "base_uri": "https://localhost:8080/",
          "height": 35
        }
      },
      "source": [
        "df_new['submitter'].isnull().sum()"
      ],
      "execution_count": null,
      "outputs": [
        {
          "output_type": "execute_result",
          "data": {
            "text/plain": [
              "15191"
            ]
          },
          "metadata": {
            "tags": []
          },
          "execution_count": 30
        }
      ]
    },
    {
      "cell_type": "markdown",
      "metadata": {
        "id": "57T8lMN40z11"
      },
      "source": [
        "Show top 20 submitters with most publication"
      ]
    },
    {
      "cell_type": "code",
      "metadata": {
        "id": "wYC2c08pzwGs",
        "outputId": "50190a89-7fc8-43e4-e00d-74f35ecd8324",
        "colab": {
          "base_uri": "https://localhost:8080/",
          "height": 453
        }
      },
      "source": [
        "df_new['submitter'].value_counts()[:20].plot.bar()"
      ],
      "execution_count": null,
      "outputs": [
        {
          "output_type": "execute_result",
          "data": {
            "text/plain": [
              "<matplotlib.axes._subplots.AxesSubplot at 0x7f973970ffd0>"
            ]
          },
          "metadata": {
            "tags": []
          },
          "execution_count": 36
        },
        {
          "output_type": "display_data",
          "data": {
            "image/png": "[encoded data removed]",
            "text/plain": [
              "<Figure size 432x288 with 1 Axes>"
            ]
          },
          "metadata": {
            "tags": [],
            "needs_background": "light"
          }
        }
      ]
    },
    {
      "cell_type": "markdown",
      "metadata": {
        "id": "UzpXPdoS4ZM8"
      },
      "source": [
        "# Attribute authors         \n"
      ]
    },
    {
      "cell_type": "code",
      "metadata": {
        "id": "v1156NF04n_8",
        "outputId": "9c25fc82-1e25-4fe2-afcb-0bdf002d369c",
        "colab": {
          "base_uri": "https://localhost:8080/",
          "height": 126
        }
      },
      "source": [
        "df_new['authors'].head()"
      ],
      "execution_count": null,
      "outputs": [
        {
          "output_type": "execute_result",
          "data": {
            "text/plain": [
              "0    C. Bal\\'azs, E. L. Berger, P. M. Nadolsky, C.-...\n",
              "1                      Ileana Streinu and Louis Theran\n",
              "2                                          Hongjun Pan\n",
              "3                                         David Callan\n",
              "4             Wael Abu-Shammala and Alberto Torchinsky\n",
              "Name: authors, dtype: object"
            ]
          },
          "metadata": {
            "tags": []
          },
          "execution_count": 97
        }
      ]
    },
    {
      "cell_type": "code",
      "metadata": {
        "id": "mN9svGOH4wnc",
        "outputId": "31c0a6e2-656e-47ac-fc33-187169e69679",
        "colab": {
          "base_uri": "https://localhost:8080/",
          "height": 35
        }
      },
      "source": [
        "df_new['authors'].isnull().sum()"
      ],
      "execution_count": null,
      "outputs": [
        {
          "output_type": "execute_result",
          "data": {
            "text/plain": [
              "0"
            ]
          },
          "metadata": {
            "tags": []
          },
          "execution_count": 98
        }
      ]
    },
    {
      "cell_type": "markdown",
      "metadata": {
        "id": "qm_N_Srq43mt"
      },
      "source": [
        "Show top 20 authors with most publication"
      ]
    },
    {
      "cell_type": "code",
      "metadata": {
        "id": "JYcT-M805FaM",
        "outputId": "960e4327-cd4a-4cf4-e1b2-8f4d825b07ab",
        "colab": {
          "base_uri": "https://localhost:8080/",
          "height": 480
        }
      },
      "source": [
        "df_new['authors'].value_counts()[:20].plot.bar()"
      ],
      "execution_count": null,
      "outputs": [
        {
          "output_type": "execute_result",
          "data": {
            "text/plain": [
              "<matplotlib.axes._subplots.AxesSubplot at 0x7f97380fd048>"
            ]
          },
          "metadata": {
            "tags": []
          },
          "execution_count": 81
        },
        {
          "output_type": "display_data",
          "data": {
            "image/png": "[encoded data removed]",
            "text/plain": [
              "<Figure size 432x288 with 1 Axes>"
            ]
          },
          "metadata": {
            "tags": [],
            "needs_background": "light"
          }
        }
      ]
    },
    {
      "cell_type": "markdown",
      "metadata": {
        "id": "J3p7IIOd5f0i"
      },
      "source": [
        "# Attribute title         \n",
        "\n"
      ]
    },
    {
      "cell_type": "code",
      "metadata": {
        "id": "CpUa-usa5fi2",
        "outputId": "78b2a4c0-919a-40d3-83ac-ec7dec848ca3",
        "colab": {
          "base_uri": "https://localhost:8080/",
          "height": 126
        }
      },
      "source": [
        "df_new['title'].head()"
      ],
      "execution_count": null,
      "outputs": [
        {
          "output_type": "execute_result",
          "data": {
            "text/plain": [
              "0    Calculation of prompt diphoton production cros...\n",
              "1             Sparsity-certifying Graph Decompositions\n",
              "2    The evolution of the Earth-Moon system based o...\n",
              "3    A determinant of Stirling cycle numbers counts...\n",
              "4    From dyadic $\\Lambda_{\\alpha}$ to $\\Lambda_{\\a...\n",
              "Name: title, dtype: object"
            ]
          },
          "metadata": {
            "tags": []
          },
          "execution_count": 83
        }
      ]
    },
    {
      "cell_type": "code",
      "metadata": {
        "id": "f3u7ABG05yPU",
        "outputId": "d9ea110e-42bb-4265-aef4-6fcbca0a409e",
        "colab": {
          "base_uri": "https://localhost:8080/",
          "height": 35
        }
      },
      "source": [
        "df_new['title'].isnull().sum()"
      ],
      "execution_count": null,
      "outputs": [
        {
          "output_type": "execute_result",
          "data": {
            "text/plain": [
              "0"
            ]
          },
          "metadata": {
            "tags": []
          },
          "execution_count": 95
        }
      ]
    },
    {
      "cell_type": "markdown",
      "metadata": {
        "id": "qlokHSDn7diN"
      },
      "source": [
        "# Attribute comments       \n",
        "\n",
        "\n"
      ]
    },
    {
      "cell_type": "code",
      "metadata": {
        "id": "ySpozll89Ocg",
        "outputId": "b8183a3a-6eee-4f9d-a4d6-cb2496b26511",
        "colab": {
          "base_uri": "https://localhost:8080/",
          "height": 126
        }
      },
      "source": [
        "df_new['comments'].head()"
      ],
      "execution_count": null,
      "outputs": [
        {
          "output_type": "execute_result",
          "data": {
            "text/plain": [
              "0    37 pages, 15 figures; published version\n",
              "1      To appear in Graphs and Combinatorics\n",
              "2                        23 pages, 3 figures\n",
              "3                                   11 pages\n",
              "4                                       None\n",
              "Name: comments, dtype: object"
            ]
          },
          "metadata": {
            "tags": []
          },
          "execution_count": 203
        }
      ]
    },
    {
      "cell_type": "code",
      "metadata": {
        "id": "hQ-A_AdF7dWS",
        "outputId": "51e3190d-cd35-4e50-891f-aade2f8bbf20",
        "colab": {
          "base_uri": "https://localhost:8080/",
          "height": 126
        }
      },
      "source": [
        "df_new['comments'].tail()"
      ],
      "execution_count": null,
      "outputs": [
        {
          "output_type": "execute_result",
          "data": {
            "text/plain": [
              "1765683    19 pages, LaTex, 6 PostScript figures; Author'...\n",
              "1765684    4 pages, LaTeX type, Uses IEEE style files, 60...\n",
              "1765685    20 pages, LaTeX type, Uses REVTeX style files,...\n",
              "1765686    7 pages, 4 PostScript Figures, LaTeX, to appea...\n",
              "1765687    12 pages including 8 eps figs, LaTeX with jpsj...\n",
              "Name: comments, dtype: object"
            ]
          },
          "metadata": {
            "tags": []
          },
          "execution_count": 106
        }
      ]
    },
    {
      "cell_type": "code",
      "metadata": {
        "id": "jnEUZLJv8IPT",
        "outputId": "d49613e6-531e-4ab8-a8c7-3c0b43348199",
        "colab": {
          "base_uri": "https://localhost:8080/",
          "height": 35
        }
      },
      "source": [
        "df_new['comments'].isnull().sum()"
      ],
      "execution_count": null,
      "outputs": [
        {
          "output_type": "execute_result",
          "data": {
            "text/plain": [
              "362164"
            ]
          },
          "metadata": {
            "tags": []
          },
          "execution_count": 99
        }
      ]
    },
    {
      "cell_type": "code",
      "metadata": {
        "id": "TQbxgW_P8kPA",
        "outputId": "6d088a16-2f03-480a-ba2c-d64e0ad4290c",
        "colab": {
          "base_uri": "https://localhost:8080/",
          "height": 72
        }
      },
      "source": [
        "df[df['comments'].isnull()]['comments'][:2]"
      ],
      "execution_count": null,
      "outputs": [
        {
          "output_type": "execute_result",
          "data": {
            "text/plain": [
              "4    None\n",
              "8    None\n",
              "Name: comments, dtype: object"
            ]
          },
          "metadata": {
            "tags": []
          },
          "execution_count": 101
        }
      ]
    },
    {
      "cell_type": "code",
      "metadata": {
        "id": "4Ajo3xG2_Vpc"
      },
      "source": [
        "#a=df.comments[:15].str.split(',', expand=True)"
      ],
      "execution_count": null,
      "outputs": []
    },
    {
      "cell_type": "markdown",
      "metadata": {
        "id": "-F-6MujeJvyo"
      },
      "source": [
        "### Get count of pages and figures with regex"
      ]
    },
    {
      "cell_type": "code",
      "metadata": {
        "id": "d7130HOkBYHt"
      },
      "source": [
        "def GetPageNumber(str):\n",
        "  try:\n",
        "    found = re.search('([0-9]+) +[pP]ages?', str).group(1)\n",
        "  except AttributeError:\n",
        "    # AAA, ZZZ not found in the original string\n",
        "    found = 'No data' # apply your error handling\n",
        "  return found\n",
        "\n",
        "\n",
        "def GetFigureNumber(str):\n",
        "  try:\n",
        "    found = re.search('([0-9]+) +[fF]igures?', str).group(1)\n",
        "  except AttributeError:\n",
        "    # AAA, ZZZ not found in the original string\n",
        "    found = 'No data' # apply your error handling\n",
        "  return found"
      ],
      "execution_count": null,
      "outputs": []
    },
    {
      "cell_type": "code",
      "metadata": {
        "id": "wV-UrKUrB9AU",
        "outputId": "89b2e2bc-3f5d-449b-8d70-5587c16eaf76",
        "colab": {
          "base_uri": "https://localhost:8080/",
          "height": 54
        }
      },
      "source": [
        "GetPageNumber('To appear in Graphs and Combinatorics')\n"
      ],
      "execution_count": null,
      "outputs": [
        {
          "output_type": "stream",
          "text": [
            "chyba =  To appear in Graphs and Combinatorics id =  0\n"
          ],
          "name": "stdout"
        },
        {
          "output_type": "execute_result",
          "data": {
            "application/vnd.google.colaboratory.intrinsic+json": {
              "type": "string"
            },
            "text/plain": [
              "'No data'"
            ]
          },
          "metadata": {
            "tags": []
          },
          "execution_count": 183
        }
      ]
    },
    {
      "cell_type": "code",
      "metadata": {
        "id": "1VAtwaowI9OC",
        "outputId": "e50492da-a071-49f2-b33c-afae2b20f75c",
        "colab": {
          "base_uri": "https://localhost:8080/",
          "height": 35
        }
      },
      "source": [
        "GetFigureNumber('6 pages, 4 figures, accepted by PRA')"
      ],
      "execution_count": null,
      "outputs": [
        {
          "output_type": "execute_result",
          "data": {
            "application/vnd.google.colaboratory.intrinsic+json": {
              "type": "string"
            },
            "text/plain": [
              "'4'"
            ]
          },
          "metadata": {
            "tags": []
          },
          "execution_count": 201
        }
      ]
    },
    {
      "cell_type": "code",
      "metadata": {
        "id": "msZ0iM3CH7s9",
        "outputId": "6ca0066f-7420-4ca5-c1da-bc8f4dfed769",
        "colab": {
          "base_uri": "https://localhost:8080/",
          "height": 146
        }
      },
      "source": [
        "df_new['comments'] = df_new['comments'].astype(str)"
      ],
      "execution_count": null,
      "outputs": [
        {
          "output_type": "stream",
          "text": [
            "/usr/local/lib/python3.6/dist-packages/ipykernel_launcher.py:1: SettingWithCopyWarning: \n",
            "A value is trying to be set on a copy of a slice from a DataFrame.\n",
            "Try using .loc[row_indexer,col_indexer] = value instead\n",
            "\n",
            "See the caveats in the documentation: https://pandas.pydata.org/pandas-docs/stable/user_guide/indexing.html#returning-a-view-versus-a-copy\n",
            "  \"\"\"Entry point for launching an IPython kernel.\n"
          ],
          "name": "stderr"
        }
      ]
    },
    {
      "cell_type": "code",
      "metadata": {
        "id": "VbsoU7RLEyDB",
        "outputId": "40033d24-fd0c-4bfb-8a23-8d64da218a6a",
        "colab": {
          "base_uri": "https://localhost:8080/",
          "height": 255
        }
      },
      "source": [
        "df_new['pages']=df_new['comments'].apply(GetPageNumber)\n",
        "df_new['figures']=df_new['comments'].apply(GetFigureNumber)"
      ],
      "execution_count": null,
      "outputs": [
        {
          "output_type": "stream",
          "text": [
            "/usr/local/lib/python3.6/dist-packages/ipykernel_launcher.py:1: SettingWithCopyWarning: \n",
            "A value is trying to be set on a copy of a slice from a DataFrame.\n",
            "Try using .loc[row_indexer,col_indexer] = value instead\n",
            "\n",
            "See the caveats in the documentation: https://pandas.pydata.org/pandas-docs/stable/user_guide/indexing.html#returning-a-view-versus-a-copy\n",
            "  \"\"\"Entry point for launching an IPython kernel.\n",
            "/usr/local/lib/python3.6/dist-packages/ipykernel_launcher.py:2: SettingWithCopyWarning: \n",
            "A value is trying to be set on a copy of a slice from a DataFrame.\n",
            "Try using .loc[row_indexer,col_indexer] = value instead\n",
            "\n",
            "See the caveats in the documentation: https://pandas.pydata.org/pandas-docs/stable/user_guide/indexing.html#returning-a-view-versus-a-copy\n",
            "  \n"
          ],
          "name": "stderr"
        }
      ]
    },
    {
      "cell_type": "code",
      "metadata": {
        "id": "qVAnQvm1IUxK",
        "outputId": "f30d2e78-e895-405e-d372-6c60d3030f53",
        "colab": {
          "base_uri": "https://localhost:8080/",
          "height": 219
        }
      },
      "source": [
        "df_new.head(1)"
      ],
      "execution_count": null,
      "outputs": [
        {
          "output_type": "execute_result",
          "data": {
            "text/html": [
              "<div>\n",
              "<style scoped>\n",
              "    .dataframe tbody tr th:only-of-type {\n",
              "        vertical-align: middle;\n",
              "    }\n",
              "\n",
              "    .dataframe tbody tr th {\n",
              "        vertical-align: top;\n",
              "    }\n",
              "\n",
              "    .dataframe thead th {\n",
              "        text-align: right;\n",
              "    }\n",
              "</style>\n",
              "<table border=\"1\" class=\"dataframe\">\n",
              "  <thead>\n",
              "    <tr style=\"text-align: right;\">\n",
              "      <th></th>\n",
              "      <th>id</th>\n",
              "      <th>submitter</th>\n",
              "      <th>authors</th>\n",
              "      <th>title</th>\n",
              "      <th>comments</th>\n",
              "      <th>journal-ref</th>\n",
              "      <th>doi</th>\n",
              "      <th>report-no</th>\n",
              "      <th>categories</th>\n",
              "      <th>license</th>\n",
              "      <th>abstract</th>\n",
              "      <th>versions</th>\n",
              "      <th>update_date</th>\n",
              "      <th>authors_parsed</th>\n",
              "      <th>pages</th>\n",
              "      <th>figures</th>\n",
              "    </tr>\n",
              "  </thead>\n",
              "  <tbody>\n",
              "    <tr>\n",
              "      <th>0</th>\n",
              "      <td>0704.0001</td>\n",
              "      <td>Pavel Nadolsky</td>\n",
              "      <td>C. Bal\\'azs, E. L. Berger, P. M. Nadolsky, C.-...</td>\n",
              "      <td>Calculation of prompt diphoton production cros...</td>\n",
              "      <td>37 pages, 15 figures; published version</td>\n",
              "      <td>Phys.Rev.D76:013009,2007</td>\n",
              "      <td>10.1103/PhysRevD.76.013009</td>\n",
              "      <td>ANL-HEP-PR-07-12</td>\n",
              "      <td>hep-ph</td>\n",
              "      <td>None</td>\n",
              "      <td>A fully differential calculation in perturba...</td>\n",
              "      <td>[{'version': 'v1', 'created': 'Mon, 2 Apr 2007...</td>\n",
              "      <td>2008-11-26</td>\n",
              "      <td>[[Balázs, C., ], [Berger, E. L., ], [Nadolsky,...</td>\n",
              "      <td>37</td>\n",
              "      <td>15</td>\n",
              "    </tr>\n",
              "  </tbody>\n",
              "</table>\n",
              "</div>"
            ],
            "text/plain": [
              "          id       submitter  \\\n",
              "0  0704.0001  Pavel Nadolsky   \n",
              "\n",
              "                                             authors  \\\n",
              "0  C. Bal\\'azs, E. L. Berger, P. M. Nadolsky, C.-...   \n",
              "\n",
              "                                               title  \\\n",
              "0  Calculation of prompt diphoton production cros...   \n",
              "\n",
              "                                  comments               journal-ref  \\\n",
              "0  37 pages, 15 figures; published version  Phys.Rev.D76:013009,2007   \n",
              "\n",
              "                          doi         report-no categories license  \\\n",
              "0  10.1103/PhysRevD.76.013009  ANL-HEP-PR-07-12     hep-ph    None   \n",
              "\n",
              "                                            abstract  \\\n",
              "0    A fully differential calculation in perturba...   \n",
              "\n",
              "                                            versions update_date  \\\n",
              "0  [{'version': 'v1', 'created': 'Mon, 2 Apr 2007...  2008-11-26   \n",
              "\n",
              "                                      authors_parsed pages figures  \n",
              "0  [[Balázs, C., ], [Berger, E. L., ], [Nadolsky,...    37      15  "
            ]
          },
          "metadata": {
            "tags": []
          },
          "execution_count": 71
        }
      ]
    },
    {
      "cell_type": "markdown",
      "metadata": {
        "id": "-omrnYEZCGQK"
      },
      "source": [
        "\n",
        "\n",
        "# Attribute journal-ref       \n",
        "\n",
        "\n"
      ]
    },
    {
      "cell_type": "code",
      "metadata": {
        "id": "F8IOWwfYCcpJ",
        "outputId": "1872a8f7-3612-42dc-a66e-94e8c220fce1",
        "colab": {
          "base_uri": "https://localhost:8080/",
          "height": 126
        }
      },
      "source": [
        "df_new['journal-ref'].head()"
      ],
      "execution_count": null,
      "outputs": [
        {
          "output_type": "execute_result",
          "data": {
            "text/plain": [
              "0                     Phys.Rev.D76:013009,2007\n",
              "1                                         None\n",
              "2                                         None\n",
              "3                                         None\n",
              "4    Illinois J. Math. 52 (2008) no.2, 681-689\n",
              "Name: journal-ref, dtype: object"
            ]
          },
          "metadata": {
            "tags": []
          },
          "execution_count": 17
        }
      ]
    },
    {
      "cell_type": "code",
      "metadata": {
        "id": "gMryDh30CfHI",
        "outputId": "ccdd8cb6-e2d5-4aa5-ec85-6facfded58c3",
        "colab": {
          "base_uri": "https://localhost:8080/",
          "height": 35
        }
      },
      "source": [
        "df_new['journal-ref'].isnull().sum()"
      ],
      "execution_count": null,
      "outputs": [
        {
          "output_type": "execute_result",
          "data": {
            "text/plain": [
              "1082361"
            ]
          },
          "metadata": {
            "tags": []
          },
          "execution_count": 18
        }
      ]
    },
    {
      "cell_type": "markdown",
      "metadata": {
        "id": "H1-yx1xrDBGC"
      },
      "source": [
        "Show top 20 journals with most publication"
      ]
    },
    {
      "cell_type": "code",
      "metadata": {
        "id": "f2gs-DwtCfFH",
        "outputId": "1c287bce-e849-4938-ac14-9f65f4173df5",
        "colab": {
          "base_uri": "https://localhost:8080/",
          "height": 628
        }
      },
      "source": [
        "df_new['journal-ref'].value_counts()[:20].plot.bar()"
      ],
      "execution_count": null,
      "outputs": [
        {
          "output_type": "execute_result",
          "data": {
            "text/plain": [
              "<matplotlib.axes._subplots.AxesSubplot at 0x7fcb475fc9e8>"
            ]
          },
          "metadata": {
            "tags": []
          },
          "execution_count": 19
        },
        {
          "output_type": "display_data",
          "data": {
            "image/png": "[encoded data removed]",
            "text/plain": [
              "<Figure size 432x288 with 1 Axes>"
            ]
          },
          "metadata": {
            "tags": [],
            "needs_background": "light"
          }
        }
      ]
    },
    {
      "cell_type": "markdown",
      "metadata": {
        "id": "IOyhYy7DDkmP"
      },
      "source": [
        "\n",
        "\n",
        "# Attribute doi       \n",
        "\n",
        "\n",
        "\n"
      ]
    },
    {
      "cell_type": "code",
      "metadata": {
        "id": "jpS1jxSFDkFx",
        "outputId": "2c5badc0-9fac-447c-c0f9-56120a089e10",
        "colab": {
          "base_uri": "https://localhost:8080/",
          "height": 126
        }
      },
      "source": [
        "df_new['doi'].head()"
      ],
      "execution_count": null,
      "outputs": [
        {
          "output_type": "execute_result",
          "data": {
            "text/plain": [
              "0    10.1103/PhysRevD.76.013009\n",
              "1                          None\n",
              "2                          None\n",
              "3                          None\n",
              "4                          None\n",
              "Name: doi, dtype: object"
            ]
          },
          "metadata": {
            "tags": []
          },
          "execution_count": 22
        }
      ]
    },
    {
      "cell_type": "code",
      "metadata": {
        "id": "wKc-IjyMDuyO",
        "outputId": "8b78d2a6-a622-4e0b-8c76-10773882bea7",
        "colab": {
          "base_uri": "https://localhost:8080/",
          "height": 35
        }
      },
      "source": [
        "df_new['doi'].isnull().sum()"
      ],
      "execution_count": null,
      "outputs": [
        {
          "output_type": "execute_result",
          "data": {
            "text/plain": [
              "846235"
            ]
          },
          "metadata": {
            "tags": []
          },
          "execution_count": 23
        }
      ]
    },
    {
      "cell_type": "code",
      "metadata": {
        "id": "5OuNNN26DxnV",
        "outputId": "78fe403c-b2a7-4f13-a71f-853b2ad1527e",
        "colab": {
          "base_uri": "https://localhost:8080/",
          "height": 445
        }
      },
      "source": [
        "df_new['doi'].value_counts()[:20].plot.bar()"
      ],
      "execution_count": null,
      "outputs": [
        {
          "output_type": "execute_result",
          "data": {
            "text/plain": [
              "<matplotlib.axes._subplots.AxesSubplot at 0x7fcb3e269710>"
            ]
          },
          "metadata": {
            "tags": []
          },
          "execution_count": 24
        },
        {
          "output_type": "display_data",
          "data": {
            "image/png": "[encoded data removed]",
            "text/plain": [
              "<Figure size 432x288 with 1 Axes>"
            ]
          },
          "metadata": {
            "tags": [],
            "needs_background": "light"
          }
        }
      ]
    },
    {
      "cell_type": "markdown",
      "metadata": {
        "id": "x_Hm8rTrESIh"
      },
      "source": [
        "\n",
        "\n",
        "# Attribute report-no      \n",
        "\n",
        "\n",
        "\n"
      ]
    },
    {
      "cell_type": "code",
      "metadata": {
        "id": "Kmg57awYDxjo",
        "outputId": "5886fcfa-886d-4e49-ccb7-3a38fc32eac0",
        "colab": {
          "base_uri": "https://localhost:8080/",
          "height": 126
        }
      },
      "source": [
        "df_new['report-no'].head()"
      ],
      "execution_count": null,
      "outputs": [
        {
          "output_type": "execute_result",
          "data": {
            "text/plain": [
              "0    ANL-HEP-PR-07-12\n",
              "1                None\n",
              "2                None\n",
              "3                None\n",
              "4                None\n",
              "Name: report-no, dtype: object"
            ]
          },
          "metadata": {
            "tags": []
          },
          "execution_count": 26
        }
      ]
    },
    {
      "cell_type": "code",
      "metadata": {
        "id": "u8lub4HzDxgY",
        "outputId": "7c30aeb1-3ec9-4a34-d99a-6a69314e2298",
        "colab": {
          "base_uri": "https://localhost:8080/",
          "height": 35
        }
      },
      "source": [
        "df_new['report-no'].isnull().sum()"
      ],
      "execution_count": null,
      "outputs": [
        {
          "output_type": "execute_result",
          "data": {
            "text/plain": [
              "1603301"
            ]
          },
          "metadata": {
            "tags": []
          },
          "execution_count": 27
        }
      ]
    },
    {
      "cell_type": "code",
      "metadata": {
        "id": "5XUabpofErT4",
        "outputId": "1a0b0c18-8ac5-4cbf-b7cb-5cf1c8073e6a",
        "colab": {
          "base_uri": "https://localhost:8080/",
          "height": 400
        }
      },
      "source": [
        "df_new['report-no'].value_counts()[:20].plot.bar()"
      ],
      "execution_count": null,
      "outputs": [
        {
          "output_type": "execute_result",
          "data": {
            "text/plain": [
              "<matplotlib.axes._subplots.AxesSubplot at 0x7fcb4752cc88>"
            ]
          },
          "metadata": {
            "tags": []
          },
          "execution_count": 28
        },
        {
          "output_type": "display_data",
          "data": {
            "image/png": "[encoded data removed]",
            "text/plain": [
              "<Figure size 432x288 with 1 Axes>"
            ]
          },
          "metadata": {
            "tags": [],
            "needs_background": "light"
          }
        }
      ]
    },
    {
      "cell_type": "markdown",
      "metadata": {
        "id": "B5SNxtuaE77E"
      },
      "source": [
        "\n",
        "\n",
        "# Attribute categories     \n",
        "\n",
        "\n",
        "\n"
      ]
    },
    {
      "cell_type": "markdown",
      "metadata": {
        "id": "HvWn1GXaGAla"
      },
      "source": [
        "Explanation of category abbrevations [ Arxiv category taxonomy](https://arxiv.org/category_taxonomy)"
      ]
    },
    {
      "cell_type": "code",
      "metadata": {
        "id": "sn5VbszHErtt",
        "outputId": "7abb58be-87ed-48f4-dd73-4b8419d57569",
        "colab": {
          "base_uri": "https://localhost:8080/",
          "height": 126
        }
      },
      "source": [
        "df_new['categories'].head()"
      ],
      "execution_count": null,
      "outputs": [
        {
          "output_type": "execute_result",
          "data": {
            "text/plain": [
              "0             hep-ph\n",
              "1      math.CO cs.CG\n",
              "2     physics.gen-ph\n",
              "3            math.CO\n",
              "4    math.CA math.FA\n",
              "Name: categories, dtype: object"
            ]
          },
          "metadata": {
            "tags": []
          },
          "execution_count": 32
        }
      ]
    },
    {
      "cell_type": "code",
      "metadata": {
        "id": "7AJshyMQFMCa",
        "outputId": "fc00560c-12e6-41ec-a8b5-e8fbc78aeda7",
        "colab": {
          "base_uri": "https://localhost:8080/",
          "height": 126
        }
      },
      "source": [
        "df_new['categories'].tail()"
      ],
      "execution_count": null,
      "outputs": [
        {
          "output_type": "execute_result",
          "data": {
            "text/plain": [
              "1765683    supr-con cond-mat.supr-con\n",
              "1765684    supr-con cond-mat.supr-con\n",
              "1765685    supr-con cond-mat.supr-con\n",
              "1765686    supr-con cond-mat.supr-con\n",
              "1765687    supr-con cond-mat.supr-con\n",
              "Name: categories, dtype: object"
            ]
          },
          "metadata": {
            "tags": []
          },
          "execution_count": 30
        }
      ]
    },
    {
      "cell_type": "code",
      "metadata": {
        "id": "0oQzECjvGQHD",
        "outputId": "64663373-f8c6-4f64-ad17-3d94a7bf2988",
        "colab": {
          "base_uri": "https://localhost:8080/",
          "height": 35
        }
      },
      "source": [
        "df_new['categories'].isnull().sum()"
      ],
      "execution_count": null,
      "outputs": [
        {
          "output_type": "execute_result",
          "data": {
            "text/plain": [
              "0"
            ]
          },
          "metadata": {
            "tags": []
          },
          "execution_count": 34
        }
      ]
    },
    {
      "cell_type": "markdown",
      "metadata": {
        "id": "iCrZoMMOHvXA"
      },
      "source": [
        "Show top 20 categories with most publication"
      ]
    },
    {
      "cell_type": "code",
      "metadata": {
        "id": "BX35rLMxHiiB",
        "outputId": "2e29d457-9ced-4ca1-bdcc-698239f3fe13",
        "colab": {
          "base_uri": "https://localhost:8080/",
          "height": 375
        }
      },
      "source": [
        "df_new['categories'].value_counts()[:20].plot.bar()"
      ],
      "execution_count": null,
      "outputs": [
        {
          "output_type": "execute_result",
          "data": {
            "text/plain": [
              "<matplotlib.axes._subplots.AxesSubplot at 0x7fcb263618d0>"
            ]
          },
          "metadata": {
            "tags": []
          },
          "execution_count": 44
        },
        {
          "output_type": "display_data",
          "data": {
            "image/png": "[encoded data removed]",
            "text/plain": [
              "<Figure size 432x288 with 1 Axes>"
            ]
          },
          "metadata": {
            "tags": [],
            "needs_background": "light"
          }
        }
      ]
    },
    {
      "cell_type": "markdown",
      "metadata": {
        "id": "QdOkhoxYH5Nk"
      },
      "source": [
        "### Convert category tags to list of strings"
      ]
    },
    {
      "cell_type": "code",
      "metadata": {
        "id": "-6NxfitTGUb4",
        "outputId": "b48da4ba-f4b5-4b99-f36a-c0818d89e765",
        "colab": {
          "base_uri": "https://localhost:8080/",
          "height": 146
        }
      },
      "source": [
        "df_new['categories'] = df_new['categories'].apply(lambda x: x.split(' '))"
      ],
      "execution_count": null,
      "outputs": [
        {
          "output_type": "stream",
          "text": [
            "/usr/local/lib/python3.6/dist-packages/ipykernel_launcher.py:1: SettingWithCopyWarning: \n",
            "A value is trying to be set on a copy of a slice from a DataFrame.\n",
            "Try using .loc[row_indexer,col_indexer] = value instead\n",
            "\n",
            "See the caveats in the documentation: https://pandas.pydata.org/pandas-docs/stable/user_guide/indexing.html#returning-a-view-versus-a-copy\n",
            "  \"\"\"Entry point for launching an IPython kernel.\n"
          ],
          "name": "stderr"
        }
      ]
    },
    {
      "cell_type": "code",
      "metadata": {
        "id": "Cdoqz8whIBxU",
        "outputId": "f5f01c66-46fe-440d-c3fa-fac00b607eff",
        "colab": {
          "base_uri": "https://localhost:8080/",
          "height": 126
        }
      },
      "source": [
        "df_new['categories'].head()"
      ],
      "execution_count": null,
      "outputs": [
        {
          "output_type": "execute_result",
          "data": {
            "text/plain": [
              "0              [hep-ph]\n",
              "1      [math.CO, cs.CG]\n",
              "2      [physics.gen-ph]\n",
              "3             [math.CO]\n",
              "4    [math.CA, math.FA]\n",
              "Name: categories, dtype: object"
            ]
          },
          "metadata": {
            "tags": []
          },
          "execution_count": 10
        }
      ]
    },
    {
      "cell_type": "markdown",
      "metadata": {
        "id": "MV0ueCE-Ie2Y"
      },
      "source": [
        "\n",
        "\n",
        "# Attribute license   \n",
        "\n",
        "\n",
        "\n"
      ]
    },
    {
      "cell_type": "code",
      "metadata": {
        "id": "544PcvThIegz",
        "outputId": "0c5fc238-1215-45c2-c848-e1c316e792ae",
        "colab": {
          "base_uri": "https://localhost:8080/",
          "height": 126
        }
      },
      "source": [
        "df_new['license'].head()"
      ],
      "execution_count": null,
      "outputs": [
        {
          "output_type": "execute_result",
          "data": {
            "text/plain": [
              "0                                                 None\n",
              "1    http://arxiv.org/licenses/nonexclusive-distrib...\n",
              "2                                                 None\n",
              "3                                                 None\n",
              "4                                                 None\n",
              "Name: license, dtype: object"
            ]
          },
          "metadata": {
            "tags": []
          },
          "execution_count": 54
        }
      ]
    },
    {
      "cell_type": "code",
      "metadata": {
        "id": "IdGt5otPItsU",
        "outputId": "1a9d069c-7cac-4542-a10d-c788698a4db3",
        "colab": {
          "base_uri": "https://localhost:8080/",
          "height": 35
        }
      },
      "source": [
        "df_new['license'].isnull().sum()"
      ],
      "execution_count": null,
      "outputs": [
        {
          "output_type": "execute_result",
          "data": {
            "text/plain": [
              "452992"
            ]
          },
          "metadata": {
            "tags": []
          },
          "execution_count": 56
        }
      ]
    },
    {
      "cell_type": "code",
      "metadata": {
        "id": "VqOkf4WJIwOB",
        "outputId": "bf2f7f89-ebf2-491a-c9e1-14a47bdad00b",
        "colab": {
          "base_uri": "https://localhost:8080/",
          "height": 541
        }
      },
      "source": [
        "df_new['license'].value_counts()[:20].plot.bar()"
      ],
      "execution_count": null,
      "outputs": [
        {
          "output_type": "execute_result",
          "data": {
            "text/plain": [
              "<matplotlib.axes._subplots.AxesSubplot at 0x7fcb0e531e48>"
            ]
          },
          "metadata": {
            "tags": []
          },
          "execution_count": 57
        },
        {
          "output_type": "display_data",
          "data": {
            "image/png": "[encoded data removed]",
            "text/plain": [
              "<Figure size 432x288 with 1 Axes>"
            ]
          },
          "metadata": {
            "tags": [],
            "needs_background": "light"
          }
        }
      ]
    },
    {
      "cell_type": "markdown",
      "metadata": {
        "id": "c_fS1lpmI2wH"
      },
      "source": [
        "\n",
        "\n",
        "# Attribute abstract   \n",
        "\n",
        "\n",
        "\n"
      ]
    },
    {
      "cell_type": "code",
      "metadata": {
        "id": "HDnvpjaAI0y9",
        "outputId": "404bd2c9-7609-47eb-b8f1-fb8c663cb1ed",
        "colab": {
          "base_uri": "https://localhost:8080/",
          "height": 126
        }
      },
      "source": [
        "df_new['abstract'].head()"
      ],
      "execution_count": null,
      "outputs": [
        {
          "output_type": "execute_result",
          "data": {
            "text/plain": [
              "0      A fully differential calculation in perturba...\n",
              "1      We describe a new algorithm, the $(k,\\ell)$-...\n",
              "2      The evolution of Earth-Moon system is descri...\n",
              "3      We show that a determinant of Stirling cycle...\n",
              "4      In this paper we show how to compute the $\\L...\n",
              "Name: abstract, dtype: object"
            ]
          },
          "metadata": {
            "tags": []
          },
          "execution_count": 8
        }
      ]
    },
    {
      "cell_type": "code",
      "metadata": {
        "id": "Hj8n1julJXQI",
        "outputId": "f573b901-3d76-4d88-f800-d5d0a9fd417b",
        "colab": {
          "base_uri": "https://localhost:8080/",
          "height": 35
        }
      },
      "source": [
        "df_new['abstract'].isnull().sum()"
      ],
      "execution_count": null,
      "outputs": [
        {
          "output_type": "execute_result",
          "data": {
            "text/plain": [
              "0"
            ]
          },
          "metadata": {
            "tags": []
          },
          "execution_count": 9
        }
      ]
    },
    {
      "cell_type": "code",
      "metadata": {
        "id": "RjoZtqRvJXpn",
        "outputId": "09fc383b-f4d6-4868-9b98-b82677c180c8",
        "colab": {
          "base_uri": "https://localhost:8080/",
          "height": 668
        }
      },
      "source": [
        "df_new['abstract'].value_counts()[:20].plot.bar()"
      ],
      "execution_count": null,
      "outputs": [
        {
          "output_type": "execute_result",
          "data": {
            "text/plain": [
              "<matplotlib.axes._subplots.AxesSubplot at 0x7f5a32812588>"
            ]
          },
          "metadata": {
            "tags": []
          },
          "execution_count": 10
        },
        {
          "output_type": "display_data",
          "data": {
            "image/png": "[encoded data removed]",
            "text/plain": [
              "<Figure size 432x288 with 1 Axes>"
            ]
          },
          "metadata": {
            "tags": [],
            "needs_background": "light"
          }
        }
      ]
    },
    {
      "cell_type": "code",
      "metadata": {
        "id": "bQfUtdM5JuKB",
        "outputId": "cfc9926a-afec-4971-97ee-4c3052d19799",
        "colab": {
          "base_uri": "https://localhost:8080/",
          "height": 35
        }
      },
      "source": [
        "df_new.duplicated(subset=['abstract']).any()"
      ],
      "execution_count": null,
      "outputs": [
        {
          "output_type": "execute_result",
          "data": {
            "text/plain": [
              "True"
            ]
          },
          "metadata": {
            "tags": []
          },
          "execution_count": 62
        }
      ]
    },
    {
      "cell_type": "code",
      "metadata": {
        "id": "TmkXSSKAPsW6"
      },
      "source": [
        "a=df_new['abstract'].value_counts().values>1"
      ],
      "execution_count": null,
      "outputs": []
    },
    {
      "cell_type": "code",
      "metadata": {
        "id": "DRwAsej_QTzQ",
        "outputId": "96b42b60-f790-4c7f-fa4c-2e6a39425653",
        "colab": {
          "base_uri": "https://localhost:8080/",
          "height": 35
        }
      },
      "source": [
        "np.sum(a)"
      ],
      "execution_count": null,
      "outputs": [
        {
          "output_type": "execute_result",
          "data": {
            "text/plain": [
              "1138"
            ]
          },
          "metadata": {
            "tags": []
          },
          "execution_count": 47
        }
      ]
    },
    {
      "cell_type": "code",
      "metadata": {
        "id": "3JWm3iyQLD3w",
        "outputId": "3fb3b6c7-e20d-444a-b5eb-702e3846e81e",
        "colab": {
          "base_uri": "https://localhost:8080/",
          "height": 237
        }
      },
      "source": [
        "df_new['abstract'].value_counts()[:10].keys"
      ],
      "execution_count": null,
      "outputs": [
        {
          "output_type": "execute_result",
          "data": {
            "text/plain": [
              "<bound method Series.keys of   This paper has been withdrawn.\\n                                                                                                                                                                               91\n",
              "  This paper has been withdrawn by the author.\\n                                                                                                                                                                 62\n",
              "  This paper has been withdrawn by the authors.\\n                                                                                                                                                                38\n",
              "  This paper has been withdrawn\\n                                                                                                                                                                                33\n",
              "  This paper has been withdrawn by the author\\n                                                                                                                                                                  23\n",
              "  The paper has been withdrawn\\n                                                                                                                                                                                 16\n",
              "  See hep-ph/0304045\\n                                                                                                                                                                                           15\n",
              "  The paper has been withdrawn.\\n                                                                                                                                                                                13\n",
              "  Discussion of \"A statistical analysis of multiple temperature proxies: Are\\nreconstructions of surface temperatures over the last 1000 years reliable?\" by\\nB.B. McShane and A.J. Wyner [arXiv:1104.4002]\\n    13\n",
              "  This paper was withdrawn by the authors.\\n                                                                                                                                                                     10\n",
              "Name: abstract, dtype: int64>"
            ]
          },
          "metadata": {
            "tags": []
          },
          "execution_count": 35
        }
      ]
    },
    {
      "cell_type": "code",
      "metadata": {
        "id": "zQG9JOTVLP-Q",
        "outputId": "2d3e8636-5b91-41f1-e021-d6b60d5f0082",
        "colab": {
          "base_uri": "https://localhost:8080/",
          "height": 335
        }
      },
      "source": [
        "df_new[df_new.abstract.str.contains('paper.*withdrawn|^Withdrawn', regex= True, na=False)][:2]"
      ],
      "execution_count": null,
      "outputs": [
        {
          "output_type": "execute_result",
          "data": {
            "text/html": [
              "<div>\n",
              "<style scoped>\n",
              "    .dataframe tbody tr th:only-of-type {\n",
              "        vertical-align: middle;\n",
              "    }\n",
              "\n",
              "    .dataframe tbody tr th {\n",
              "        vertical-align: top;\n",
              "    }\n",
              "\n",
              "    .dataframe thead th {\n",
              "        text-align: right;\n",
              "    }\n",
              "</style>\n",
              "<table border=\"1\" class=\"dataframe\">\n",
              "  <thead>\n",
              "    <tr style=\"text-align: right;\">\n",
              "      <th></th>\n",
              "      <th>id</th>\n",
              "      <th>submitter</th>\n",
              "      <th>authors</th>\n",
              "      <th>title</th>\n",
              "      <th>comments</th>\n",
              "      <th>journal-ref</th>\n",
              "      <th>doi</th>\n",
              "      <th>report-no</th>\n",
              "      <th>categories</th>\n",
              "      <th>license</th>\n",
              "      <th>abstract</th>\n",
              "      <th>versions</th>\n",
              "      <th>update_date</th>\n",
              "      <th>authors_parsed</th>\n",
              "    </tr>\n",
              "  </thead>\n",
              "  <tbody>\n",
              "    <tr>\n",
              "      <th>155</th>\n",
              "      <td>0704.0156</td>\n",
              "      <td>Han He</td>\n",
              "      <td>Han He, Huaning Wang</td>\n",
              "      <td>Nonlinear force-free coronal magnetic field ex...</td>\n",
              "      <td>This paper has been withdrawn by the authors. ...</td>\n",
              "      <td>None</td>\n",
              "      <td>10.1029/2007JA012441</td>\n",
              "      <td>None</td>\n",
              "      <td>astro-ph</td>\n",
              "      <td>None</td>\n",
              "      <td>This paper has been withdrawn by the authors.\\n</td>\n",
              "      <td>[{'version': 'v1', 'created': 'Mon, 2 Apr 2007...</td>\n",
              "      <td>2015-05-13</td>\n",
              "      <td>[[He, Han, ], [Wang, Huaning, ]]</td>\n",
              "    </tr>\n",
              "    <tr>\n",
              "      <th>373</th>\n",
              "      <td>0704.0374</td>\n",
              "      <td>Igor Kretinin</td>\n",
              "      <td>Boris A. Zon, Igor Yu. Kretinin</td>\n",
              "      <td>Gravity-induced electric polarization of matte...</td>\n",
              "      <td>This paper has been withdrawn</td>\n",
              "      <td>None</td>\n",
              "      <td>None</td>\n",
              "      <td>None</td>\n",
              "      <td>physics.geo-ph</td>\n",
              "      <td>None</td>\n",
              "      <td>This paper has been withdrawn due to copyrig...</td>\n",
              "      <td>[{'version': 'v1', 'created': 'Tue, 3 Apr 2007...</td>\n",
              "      <td>2007-05-23</td>\n",
              "      <td>[[Zon, Boris A., ], [Kretinin, Igor Yu., ]]</td>\n",
              "    </tr>\n",
              "  </tbody>\n",
              "</table>\n",
              "</div>"
            ],
            "text/plain": [
              "            id      submitter                          authors  \\\n",
              "155  0704.0156         Han He             Han He, Huaning Wang   \n",
              "373  0704.0374  Igor Kretinin  Boris A. Zon, Igor Yu. Kretinin   \n",
              "\n",
              "                                                 title  \\\n",
              "155  Nonlinear force-free coronal magnetic field ex...   \n",
              "373  Gravity-induced electric polarization of matte...   \n",
              "\n",
              "                                              comments journal-ref  \\\n",
              "155  This paper has been withdrawn by the authors. ...        None   \n",
              "373                      This paper has been withdrawn        None   \n",
              "\n",
              "                      doi report-no      categories license  \\\n",
              "155  10.1029/2007JA012441      None        astro-ph    None   \n",
              "373                  None      None  physics.geo-ph    None   \n",
              "\n",
              "                                              abstract  \\\n",
              "155    This paper has been withdrawn by the authors.\\n   \n",
              "373    This paper has been withdrawn due to copyrig...   \n",
              "\n",
              "                                              versions update_date  \\\n",
              "155  [{'version': 'v1', 'created': 'Mon, 2 Apr 2007...  2015-05-13   \n",
              "373  [{'version': 'v1', 'created': 'Tue, 3 Apr 2007...  2007-05-23   \n",
              "\n",
              "                                  authors_parsed  \n",
              "155             [[He, Han, ], [Wang, Huaning, ]]  \n",
              "373  [[Zon, Boris A., ], [Kretinin, Igor Yu., ]]  "
            ]
          },
          "metadata": {
            "tags": []
          },
          "execution_count": 48
        }
      ]
    },
    {
      "cell_type": "markdown",
      "metadata": {
        "id": "SztY1XuvQpbH"
      },
      "source": [
        "### Deleting rows which contain papers which were withdrawn"
      ]
    },
    {
      "cell_type": "code",
      "metadata": {
        "id": "k-HNl7TVQm6F"
      },
      "source": [
        "df_new_accepted=df_new[~df_new.abstract.str.contains('[pP]aper.*[wW]ithdrawn|^[Ww]ithdrawn', regex= True, na=False)]"
      ],
      "execution_count": null,
      "outputs": []
    },
    {
      "cell_type": "code",
      "metadata": {
        "id": "ZzORMOyARkgt",
        "outputId": "166f9a91-bed3-4d10-d248-b5d2c6d7cd2d",
        "colab": {
          "base_uri": "https://localhost:8080/",
          "height": 35
        }
      },
      "source": [
        "df_new.shape"
      ],
      "execution_count": null,
      "outputs": [
        {
          "output_type": "execute_result",
          "data": {
            "text/plain": [
              "(1765685, 16)"
            ]
          },
          "metadata": {
            "tags": []
          },
          "execution_count": 15
        }
      ]
    },
    {
      "cell_type": "code",
      "metadata": {
        "id": "zo4PPyD1Qnl-",
        "outputId": "e80abf43-a43f-4ed3-c631-f92410b7f79f",
        "colab": {
          "base_uri": "https://localhost:8080/",
          "height": 35
        }
      },
      "source": [
        "df_new_accepted.shape"
      ],
      "execution_count": null,
      "outputs": [
        {
          "output_type": "execute_result",
          "data": {
            "text/plain": [
              "(1764241, 16)"
            ]
          },
          "metadata": {
            "tags": []
          },
          "execution_count": 14
        }
      ]
    },
    {
      "cell_type": "markdown",
      "metadata": {
        "id": "bqdxE98vTGXp"
      },
      "source": [
        "\n",
        "\n",
        "# Attribute versions   \n",
        "\n",
        "\n",
        "\n"
      ]
    },
    {
      "cell_type": "code",
      "metadata": {
        "id": "Yl9ADtjBTMFc",
        "outputId": "957b8b6f-7fce-4f58-d516-9fda1d5ed245",
        "colab": {
          "base_uri": "https://localhost:8080/",
          "height": 126
        }
      },
      "source": [
        "df_new_accepted['versions'].head()"
      ],
      "execution_count": null,
      "outputs": [
        {
          "output_type": "execute_result",
          "data": {
            "text/plain": [
              "0    [{'version': 'v1', 'created': 'Mon, 2 Apr 2007...\n",
              "1    [{'version': 'v1', 'created': 'Sat, 31 Mar 200...\n",
              "2    [{'version': 'v1', 'created': 'Sun, 1 Apr 2007...\n",
              "3    [{'version': 'v1', 'created': 'Sat, 31 Mar 200...\n",
              "4    [{'version': 'v1', 'created': 'Mon, 2 Apr 2007...\n",
              "Name: versions, dtype: object"
            ]
          },
          "metadata": {
            "tags": []
          },
          "execution_count": 56
        }
      ]
    },
    {
      "cell_type": "code",
      "metadata": {
        "id": "HwD-f0qLT4km",
        "outputId": "b9d257a9-dd94-444e-bdbe-a4a452a20c64",
        "colab": {
          "base_uri": "https://localhost:8080/",
          "height": 126
        }
      },
      "source": [
        "df_new_accepted['versions'].tail()"
      ],
      "execution_count": null,
      "outputs": [
        {
          "output_type": "execute_result",
          "data": {
            "text/plain": [
              "1765683    [{'version': 'v1', 'created': 'Mon, 26 Aug 199...\n",
              "1765684    [{'version': 'v1', 'created': 'Sat, 31 Aug 199...\n",
              "1765685    [{'version': 'v1', 'created': 'Tue, 3 Sep 1996...\n",
              "1765686    [{'version': 'v1', 'created': 'Wed, 18 Sep 199...\n",
              "1765687    [{'version': 'v1', 'created': 'Wed, 25 Sep 199...\n",
              "Name: versions, dtype: object"
            ]
          },
          "metadata": {
            "tags": []
          },
          "execution_count": 58
        }
      ]
    },
    {
      "cell_type": "code",
      "metadata": {
        "id": "Un-_KzNTUaw7",
        "outputId": "0e19a3fb-b839-4e88-fc6f-73879f3e3576",
        "colab": {
          "base_uri": "https://localhost:8080/",
          "height": 35
        }
      },
      "source": [
        "df_new_accepted['versions'].isnull().sum()"
      ],
      "execution_count": null,
      "outputs": [
        {
          "output_type": "execute_result",
          "data": {
            "text/plain": [
              "0"
            ]
          },
          "metadata": {
            "tags": []
          },
          "execution_count": 66
        }
      ]
    },
    {
      "cell_type": "code",
      "metadata": {
        "id": "qW1iFh7sTMIJ",
        "outputId": "ad068ea8-bc10-44e3-c4ef-5867a2a4ec6c",
        "colab": {
          "base_uri": "https://localhost:8080/",
          "height": 72
        }
      },
      "source": [
        "df_new_accepted['versions'][2]"
      ],
      "execution_count": null,
      "outputs": [
        {
          "output_type": "execute_result",
          "data": {
            "text/plain": [
              "[{'created': 'Sun, 1 Apr 2007 20:46:54 GMT', 'version': 'v1'},\n",
              " {'created': 'Sat, 8 Dec 2007 23:47:24 GMT', 'version': 'v2'},\n",
              " {'created': 'Sun, 13 Jan 2008 00:36:28 GMT', 'version': 'v3'}]"
            ]
          },
          "metadata": {
            "tags": []
          },
          "execution_count": 32
        }
      ]
    },
    {
      "cell_type": "code",
      "metadata": {
        "id": "HDuHaHKGTMKV",
        "outputId": "bbd2dd4d-a763-4c85-e546-813d757f041a",
        "colab": {
          "base_uri": "https://localhost:8080/",
          "height": 35
        }
      },
      "source": [
        "df_new_accepted['update_date'][2]"
      ],
      "execution_count": null,
      "outputs": [
        {
          "output_type": "execute_result",
          "data": {
            "application/vnd.google.colaboratory.intrinsic+json": {
              "type": "string"
            },
            "text/plain": [
              "'2008-01-13'"
            ]
          },
          "metadata": {
            "tags": []
          },
          "execution_count": 65
        }
      ]
    },
    {
      "cell_type": "markdown",
      "metadata": {
        "id": "DMwErpX0xD42"
      },
      "source": [
        "### Get the last version date and version number"
      ]
    },
    {
      "cell_type": "code",
      "metadata": {
        "id": "LYXXaTviwuWg",
        "outputId": "76c8bbc7-cdee-48c9-fead-f08da3f6bc1a",
        "colab": {
          "base_uri": "https://localhost:8080/",
          "height": 255
        }
      },
      "source": [
        "df_new_accepted['latest_version_date'] = df_new_accepted['versions'].apply(lambda x: x[-1]['created'])\n",
        "df_new_accepted['latest_version'] = df_new_accepted['versions'].apply(lambda x: x[-1]['version'])"
      ],
      "execution_count": null,
      "outputs": [
        {
          "output_type": "stream",
          "text": [
            "/usr/local/lib/python3.6/dist-packages/ipykernel_launcher.py:1: SettingWithCopyWarning: \n",
            "A value is trying to be set on a copy of a slice from a DataFrame.\n",
            "Try using .loc[row_indexer,col_indexer] = value instead\n",
            "\n",
            "See the caveats in the documentation: https://pandas.pydata.org/pandas-docs/stable/user_guide/indexing.html#returning-a-view-versus-a-copy\n",
            "  \"\"\"Entry point for launching an IPython kernel.\n",
            "/usr/local/lib/python3.6/dist-packages/ipykernel_launcher.py:2: SettingWithCopyWarning: \n",
            "A value is trying to be set on a copy of a slice from a DataFrame.\n",
            "Try using .loc[row_indexer,col_indexer] = value instead\n",
            "\n",
            "See the caveats in the documentation: https://pandas.pydata.org/pandas-docs/stable/user_guide/indexing.html#returning-a-view-versus-a-copy\n",
            "  \n"
          ],
          "name": "stderr"
        }
      ]
    },
    {
      "cell_type": "code",
      "metadata": {
        "id": "HSqztHiGzXMR",
        "outputId": "8aaaf4dc-48fe-4672-be9e-254388e63851",
        "colab": {
          "base_uri": "https://localhost:8080/",
          "height": 335
        }
      },
      "source": [
        "df_new_accepted.head(2)"
      ],
      "execution_count": null,
      "outputs": [
        {
          "output_type": "execute_result",
          "data": {
            "text/html": [
              "<div>\n",
              "<style scoped>\n",
              "    .dataframe tbody tr th:only-of-type {\n",
              "        vertical-align: middle;\n",
              "    }\n",
              "\n",
              "    .dataframe tbody tr th {\n",
              "        vertical-align: top;\n",
              "    }\n",
              "\n",
              "    .dataframe thead th {\n",
              "        text-align: right;\n",
              "    }\n",
              "</style>\n",
              "<table border=\"1\" class=\"dataframe\">\n",
              "  <thead>\n",
              "    <tr style=\"text-align: right;\">\n",
              "      <th></th>\n",
              "      <th>id</th>\n",
              "      <th>submitter</th>\n",
              "      <th>authors</th>\n",
              "      <th>title</th>\n",
              "      <th>comments</th>\n",
              "      <th>journal-ref</th>\n",
              "      <th>doi</th>\n",
              "      <th>report-no</th>\n",
              "      <th>categories</th>\n",
              "      <th>license</th>\n",
              "      <th>abstract</th>\n",
              "      <th>versions</th>\n",
              "      <th>update_date</th>\n",
              "      <th>authors_parsed</th>\n",
              "      <th>pages</th>\n",
              "      <th>figures</th>\n",
              "      <th>latest_version_date</th>\n",
              "      <th>latest_version</th>\n",
              "    </tr>\n",
              "  </thead>\n",
              "  <tbody>\n",
              "    <tr>\n",
              "      <th>0</th>\n",
              "      <td>0704.0001</td>\n",
              "      <td>Pavel Nadolsky</td>\n",
              "      <td>C. Bal\\'azs, E. L. Berger, P. M. Nadolsky, C.-...</td>\n",
              "      <td>Calculation of prompt diphoton production cros...</td>\n",
              "      <td>37 pages, 15 figures; published version</td>\n",
              "      <td>Phys.Rev.D76:013009,2007</td>\n",
              "      <td>10.1103/PhysRevD.76.013009</td>\n",
              "      <td>ANL-HEP-PR-07-12</td>\n",
              "      <td>[hep-ph]</td>\n",
              "      <td>None</td>\n",
              "      <td>A fully differential calculation in perturba...</td>\n",
              "      <td>[{'version': 'v1', 'created': 'Mon, 2 Apr 2007...</td>\n",
              "      <td>2008-11-26</td>\n",
              "      <td>[[Balázs, C., ], [Berger, E. L., ], [Nadolsky,...</td>\n",
              "      <td>37</td>\n",
              "      <td>15</td>\n",
              "      <td>Tue, 24 Jul 2007 20:10:27 GMT</td>\n",
              "      <td>v2</td>\n",
              "    </tr>\n",
              "    <tr>\n",
              "      <th>1</th>\n",
              "      <td>0704.0002</td>\n",
              "      <td>Louis Theran</td>\n",
              "      <td>Ileana Streinu and Louis Theran</td>\n",
              "      <td>Sparsity-certifying Graph Decompositions</td>\n",
              "      <td>To appear in Graphs and Combinatorics</td>\n",
              "      <td>None</td>\n",
              "      <td>None</td>\n",
              "      <td>None</td>\n",
              "      <td>[math.CO, cs.CG]</td>\n",
              "      <td>http://arxiv.org/licenses/nonexclusive-distrib...</td>\n",
              "      <td>We describe a new algorithm, the $(k,\\ell)$-...</td>\n",
              "      <td>[{'version': 'v1', 'created': 'Sat, 31 Mar 200...</td>\n",
              "      <td>2008-12-13</td>\n",
              "      <td>[[Streinu, Ileana, ], [Theran, Louis, ]]</td>\n",
              "      <td>No data</td>\n",
              "      <td>No data</td>\n",
              "      <td>Sat, 13 Dec 2008 17:26:00 GMT</td>\n",
              "      <td>v2</td>\n",
              "    </tr>\n",
              "  </tbody>\n",
              "</table>\n",
              "</div>"
            ],
            "text/plain": [
              "          id       submitter  \\\n",
              "0  0704.0001  Pavel Nadolsky   \n",
              "1  0704.0002    Louis Theran   \n",
              "\n",
              "                                             authors  \\\n",
              "0  C. Bal\\'azs, E. L. Berger, P. M. Nadolsky, C.-...   \n",
              "1                    Ileana Streinu and Louis Theran   \n",
              "\n",
              "                                               title  \\\n",
              "0  Calculation of prompt diphoton production cros...   \n",
              "1           Sparsity-certifying Graph Decompositions   \n",
              "\n",
              "                                  comments               journal-ref  \\\n",
              "0  37 pages, 15 figures; published version  Phys.Rev.D76:013009,2007   \n",
              "1    To appear in Graphs and Combinatorics                      None   \n",
              "\n",
              "                          doi         report-no        categories  \\\n",
              "0  10.1103/PhysRevD.76.013009  ANL-HEP-PR-07-12          [hep-ph]   \n",
              "1                        None              None  [math.CO, cs.CG]   \n",
              "\n",
              "                                             license  \\\n",
              "0                                               None   \n",
              "1  http://arxiv.org/licenses/nonexclusive-distrib...   \n",
              "\n",
              "                                            abstract  \\\n",
              "0    A fully differential calculation in perturba...   \n",
              "1    We describe a new algorithm, the $(k,\\ell)$-...   \n",
              "\n",
              "                                            versions update_date  \\\n",
              "0  [{'version': 'v1', 'created': 'Mon, 2 Apr 2007...  2008-11-26   \n",
              "1  [{'version': 'v1', 'created': 'Sat, 31 Mar 200...  2008-12-13   \n",
              "\n",
              "                                      authors_parsed    pages  figures  \\\n",
              "0  [[Balázs, C., ], [Berger, E. L., ], [Nadolsky,...       37       15   \n",
              "1           [[Streinu, Ileana, ], [Theran, Louis, ]]  No data  No data   \n",
              "\n",
              "             latest_version_date latest_version  \n",
              "0  Tue, 24 Jul 2007 20:10:27 GMT             v2  \n",
              "1  Sat, 13 Dec 2008 17:26:00 GMT             v2  "
            ]
          },
          "metadata": {
            "tags": []
          },
          "execution_count": 78
        }
      ]
    },
    {
      "cell_type": "markdown",
      "metadata": {
        "id": "m0fl823szLIL"
      },
      "source": [
        "### Convert latest_version_date to date"
      ]
    },
    {
      "cell_type": "code",
      "metadata": {
        "id": "80wuJfLZy36D",
        "outputId": "098cfc68-10f4-4066-e28b-c019284d1541",
        "colab": {
          "base_uri": "https://localhost:8080/",
          "height": 146
        }
      },
      "source": [
        "df_new_accepted['latest_version_date']=pd.to_datetime(df_new_accepted.latest_version_date)"
      ],
      "execution_count": null,
      "outputs": [
        {
          "output_type": "stream",
          "text": [
            "/usr/local/lib/python3.6/dist-packages/ipykernel_launcher.py:1: SettingWithCopyWarning: \n",
            "A value is trying to be set on a copy of a slice from a DataFrame.\n",
            "Try using .loc[row_indexer,col_indexer] = value instead\n",
            "\n",
            "See the caveats in the documentation: https://pandas.pydata.org/pandas-docs/stable/user_guide/indexing.html#returning-a-view-versus-a-copy\n",
            "  \"\"\"Entry point for launching an IPython kernel.\n"
          ],
          "name": "stderr"
        }
      ]
    },
    {
      "cell_type": "markdown",
      "metadata": {
        "id": "PABtdi050AYe"
      },
      "source": [
        "Show 5 most fresh articles"
      ]
    },
    {
      "cell_type": "code",
      "metadata": {
        "id": "zMAWyqXiy4io",
        "outputId": "71cf63ac-8d5f-4eab-a1f5-2b2672e68459",
        "colab": {
          "base_uri": "https://localhost:8080/",
          "height": 685
        }
      },
      "source": [
        "df_new_accepted.sort_values(by='latest_version_date',ascending=False)[:5]"
      ],
      "execution_count": null,
      "outputs": [
        {
          "output_type": "execute_result",
          "data": {
            "text/html": [
              "<div>\n",
              "<style scoped>\n",
              "    .dataframe tbody tr th:only-of-type {\n",
              "        vertical-align: middle;\n",
              "    }\n",
              "\n",
              "    .dataframe tbody tr th {\n",
              "        vertical-align: top;\n",
              "    }\n",
              "\n",
              "    .dataframe thead th {\n",
              "        text-align: right;\n",
              "    }\n",
              "</style>\n",
              "<table border=\"1\" class=\"dataframe\">\n",
              "  <thead>\n",
              "    <tr style=\"text-align: right;\">\n",
              "      <th></th>\n",
              "      <th>id</th>\n",
              "      <th>submitter</th>\n",
              "      <th>authors</th>\n",
              "      <th>title</th>\n",
              "      <th>comments</th>\n",
              "      <th>journal-ref</th>\n",
              "      <th>doi</th>\n",
              "      <th>report-no</th>\n",
              "      <th>categories</th>\n",
              "      <th>license</th>\n",
              "      <th>abstract</th>\n",
              "      <th>versions</th>\n",
              "      <th>update_date</th>\n",
              "      <th>authors_parsed</th>\n",
              "      <th>pages</th>\n",
              "      <th>figures</th>\n",
              "      <th>latest_version_date</th>\n",
              "      <th>latest_version</th>\n",
              "    </tr>\n",
              "  </thead>\n",
              "  <tbody>\n",
              "    <tr>\n",
              "      <th>1351571</th>\n",
              "      <td>2009.10068</td>\n",
              "      <td>Bin Liu</td>\n",
              "      <td>Bin Liu, Dong Lai</td>\n",
              "      <td>Hierarchical Black-Hole Mergers in Multiple Sy...</td>\n",
              "      <td>18 pages, 20 figures. Submitted</td>\n",
              "      <td>None</td>\n",
              "      <td>None</td>\n",
              "      <td>None</td>\n",
              "      <td>[astro-ph.HE, gr-qc]</td>\n",
              "      <td>http://arxiv.org/licenses/nonexclusive-distrib...</td>\n",
              "      <td>The merging black-hole (BH) binaries GW19041...</td>\n",
              "      <td>[{'version': 'v1', 'created': 'Mon, 21 Sep 202...</td>\n",
              "      <td>2020-09-22</td>\n",
              "      <td>[[Liu, Bin, ], [Lai, Dong, ]]</td>\n",
              "      <td>18</td>\n",
              "      <td>20</td>\n",
              "      <td>2020-09-21 17:59:59+00:00</td>\n",
              "      <td>v1</td>\n",
              "    </tr>\n",
              "    <tr>\n",
              "      <th>1351570</th>\n",
              "      <td>2009.10067</td>\n",
              "      <td>Pol Gurri</td>\n",
              "      <td>Pol Gurri, Edward N. Taylor and Christopher J....</td>\n",
              "      <td>The first shear measurements from precision we...</td>\n",
              "      <td>None</td>\n",
              "      <td>None</td>\n",
              "      <td>10.1093/mnras/staa2893</td>\n",
              "      <td>None</td>\n",
              "      <td>[astro-ph.GA]</td>\n",
              "      <td>http://arxiv.org/licenses/nonexclusive-distrib...</td>\n",
              "      <td>We present an end-to-end methodology to meas...</td>\n",
              "      <td>[{'version': 'v1', 'created': 'Mon, 21 Sep 202...</td>\n",
              "      <td>2020-09-22</td>\n",
              "      <td>[[Gurri, Pol, ], [Taylor, Edward N., ], [Fluke...</td>\n",
              "      <td>No data</td>\n",
              "      <td>No data</td>\n",
              "      <td>2020-09-21 17:59:58+00:00</td>\n",
              "      <td>v1</td>\n",
              "    </tr>\n",
              "    <tr>\n",
              "      <th>1351569</th>\n",
              "      <td>2009.10066</td>\n",
              "      <td>Dongdong Chen</td>\n",
              "      <td>Dengpan Fu and Bo Xin and Jingdong Wang and Do...</td>\n",
              "      <td>Improving Person Re-identification with Iterat...</td>\n",
              "      <td>Accepted by Transactions on Image Processing</td>\n",
              "      <td>None</td>\n",
              "      <td>None</td>\n",
              "      <td>None</td>\n",
              "      <td>[cs.CV]</td>\n",
              "      <td>http://arxiv.org/licenses/nonexclusive-distrib...</td>\n",
              "      <td>Our impression about one person often update...</td>\n",
              "      <td>[{'version': 'v1', 'created': 'Mon, 21 Sep 202...</td>\n",
              "      <td>2020-09-22</td>\n",
              "      <td>[[Fu, Dengpan, ], [Xin, Bo, ], [Wang, Jingdong...</td>\n",
              "      <td>No data</td>\n",
              "      <td>No data</td>\n",
              "      <td>2020-09-21 17:59:04+00:00</td>\n",
              "      <td>v1</td>\n",
              "    </tr>\n",
              "    <tr>\n",
              "      <th>1351568</th>\n",
              "      <td>2009.10065</td>\n",
              "      <td>Firuz Kamalov</td>\n",
              "      <td>Firuz Kamalov and Ikhlaas Gurrib</td>\n",
              "      <td>Machine learning based forecasting of signific...</td>\n",
              "      <td>None</td>\n",
              "      <td>None</td>\n",
              "      <td>None</td>\n",
              "      <td>None</td>\n",
              "      <td>[cs.LG, stat.ML]</td>\n",
              "      <td>http://arxiv.org/licenses/nonexclusive-distrib...</td>\n",
              "      <td>Asset value forecasting has always attracted...</td>\n",
              "      <td>[{'version': 'v1', 'created': 'Mon, 21 Sep 202...</td>\n",
              "      <td>2020-09-22</td>\n",
              "      <td>[[Kamalov, Firuz, ], [Gurrib, Ikhlaas, ]]</td>\n",
              "      <td>No data</td>\n",
              "      <td>No data</td>\n",
              "      <td>2020-09-21 17:56:42+00:00</td>\n",
              "      <td>v1</td>\n",
              "    </tr>\n",
              "    <tr>\n",
              "      <th>1166742</th>\n",
              "      <td>1908.08572</td>\n",
              "      <td>Ryan Rossi</td>\n",
              "      <td>Ryan A. Rossi, Di Jin, Sungchul Kim, Nesreen K...</td>\n",
              "      <td>On Proximity and Structural Role-based Embeddi...</td>\n",
              "      <td>None</td>\n",
              "      <td>ACM Transactions on Knowledge Discovery from D...</td>\n",
              "      <td>10.1145/3397191</td>\n",
              "      <td>None</td>\n",
              "      <td>[cs.SI, cs.LG]</td>\n",
              "      <td>http://arxiv.org/licenses/nonexclusive-distrib...</td>\n",
              "      <td>Structural roles define sets of structurally...</td>\n",
              "      <td>[{'version': 'v1', 'created': 'Thu, 22 Aug 201...</td>\n",
              "      <td>2020-09-22</td>\n",
              "      <td>[[Rossi, Ryan A., ], [Jin, Di, ], [Kim, Sungch...</td>\n",
              "      <td>No data</td>\n",
              "      <td>No data</td>\n",
              "      <td>2020-09-21 17:56:04+00:00</td>\n",
              "      <td>v2</td>\n",
              "    </tr>\n",
              "  </tbody>\n",
              "</table>\n",
              "</div>"
            ],
            "text/plain": [
              "                 id      submitter  \\\n",
              "1351571  2009.10068        Bin Liu   \n",
              "1351570  2009.10067      Pol Gurri   \n",
              "1351569  2009.10066  Dongdong Chen   \n",
              "1351568  2009.10065  Firuz Kamalov   \n",
              "1166742  1908.08572     Ryan Rossi   \n",
              "\n",
              "                                                   authors  \\\n",
              "1351571                                  Bin Liu, Dong Lai   \n",
              "1351570  Pol Gurri, Edward N. Taylor and Christopher J....   \n",
              "1351569  Dengpan Fu and Bo Xin and Jingdong Wang and Do...   \n",
              "1351568                   Firuz Kamalov and Ikhlaas Gurrib   \n",
              "1166742  Ryan A. Rossi, Di Jin, Sungchul Kim, Nesreen K...   \n",
              "\n",
              "                                                     title  \\\n",
              "1351571  Hierarchical Black-Hole Mergers in Multiple Sy...   \n",
              "1351570  The first shear measurements from precision we...   \n",
              "1351569  Improving Person Re-identification with Iterat...   \n",
              "1351568  Machine learning based forecasting of signific...   \n",
              "1166742  On Proximity and Structural Role-based Embeddi...   \n",
              "\n",
              "                                             comments  \\\n",
              "1351571               18 pages, 20 figures. Submitted   \n",
              "1351570                                          None   \n",
              "1351569  Accepted by Transactions on Image Processing   \n",
              "1351568                                          None   \n",
              "1166742                                          None   \n",
              "\n",
              "                                               journal-ref  \\\n",
              "1351571                                               None   \n",
              "1351570                                               None   \n",
              "1351569                                               None   \n",
              "1351568                                               None   \n",
              "1166742  ACM Transactions on Knowledge Discovery from D...   \n",
              "\n",
              "                            doi report-no            categories  \\\n",
              "1351571                    None      None  [astro-ph.HE, gr-qc]   \n",
              "1351570  10.1093/mnras/staa2893      None         [astro-ph.GA]   \n",
              "1351569                    None      None               [cs.CV]   \n",
              "1351568                    None      None      [cs.LG, stat.ML]   \n",
              "1166742         10.1145/3397191      None        [cs.SI, cs.LG]   \n",
              "\n",
              "                                                   license  \\\n",
              "1351571  http://arxiv.org/licenses/nonexclusive-distrib...   \n",
              "1351570  http://arxiv.org/licenses/nonexclusive-distrib...   \n",
              "1351569  http://arxiv.org/licenses/nonexclusive-distrib...   \n",
              "1351568  http://arxiv.org/licenses/nonexclusive-distrib...   \n",
              "1166742  http://arxiv.org/licenses/nonexclusive-distrib...   \n",
              "\n",
              "                                                  abstract  \\\n",
              "1351571    The merging black-hole (BH) binaries GW19041...   \n",
              "1351570    We present an end-to-end methodology to meas...   \n",
              "1351569    Our impression about one person often update...   \n",
              "1351568    Asset value forecasting has always attracted...   \n",
              "1166742    Structural roles define sets of structurally...   \n",
              "\n",
              "                                                  versions update_date  \\\n",
              "1351571  [{'version': 'v1', 'created': 'Mon, 21 Sep 202...  2020-09-22   \n",
              "1351570  [{'version': 'v1', 'created': 'Mon, 21 Sep 202...  2020-09-22   \n",
              "1351569  [{'version': 'v1', 'created': 'Mon, 21 Sep 202...  2020-09-22   \n",
              "1351568  [{'version': 'v1', 'created': 'Mon, 21 Sep 202...  2020-09-22   \n",
              "1166742  [{'version': 'v1', 'created': 'Thu, 22 Aug 201...  2020-09-22   \n",
              "\n",
              "                                            authors_parsed    pages  figures  \\\n",
              "1351571                      [[Liu, Bin, ], [Lai, Dong, ]]       18       20   \n",
              "1351570  [[Gurri, Pol, ], [Taylor, Edward N., ], [Fluke...  No data  No data   \n",
              "1351569  [[Fu, Dengpan, ], [Xin, Bo, ], [Wang, Jingdong...  No data  No data   \n",
              "1351568          [[Kamalov, Firuz, ], [Gurrib, Ikhlaas, ]]  No data  No data   \n",
              "1166742  [[Rossi, Ryan A., ], [Jin, Di, ], [Kim, Sungch...  No data  No data   \n",
              "\n",
              "              latest_version_date latest_version  \n",
              "1351571 2020-09-21 17:59:59+00:00             v1  \n",
              "1351570 2020-09-21 17:59:58+00:00             v1  \n",
              "1351569 2020-09-21 17:59:04+00:00             v1  \n",
              "1351568 2020-09-21 17:56:42+00:00             v1  \n",
              "1166742 2020-09-21 17:56:04+00:00             v2  "
            ]
          },
          "metadata": {
            "tags": []
          },
          "execution_count": 84
        }
      ]
    },
    {
      "cell_type": "markdown",
      "metadata": {
        "id": "TQNQkJ1x0Ls-"
      },
      "source": [
        "Show top 20 version number with highest articles"
      ]
    },
    {
      "cell_type": "code",
      "metadata": {
        "id": "Ru1_Oepv0LCC",
        "outputId": "3b771dc5-da72-41c2-e4ce-5c595a16b995",
        "colab": {
          "base_uri": "https://localhost:8080/",
          "height": 292
        }
      },
      "source": [
        "df_new_accepted['latest_version'].value_counts(normalize=True)[:20].plot.bar()"
      ],
      "execution_count": null,
      "outputs": [
        {
          "output_type": "execute_result",
          "data": {
            "text/plain": [
              "<matplotlib.axes._subplots.AxesSubplot at 0x7f5b7f8be828>"
            ]
          },
          "metadata": {
            "tags": []
          },
          "execution_count": 42
        },
        {
          "output_type": "display_data",
          "data": {
            "image/png": "[encoded data removed]",
            "text/plain": [
              "<Figure size 432x288 with 1 Axes>"
            ]
          },
          "metadata": {
            "tags": [],
            "needs_background": "light"
          }
        }
      ]
    },
    {
      "cell_type": "markdown",
      "metadata": {
        "id": "BYcotK63UibC"
      },
      "source": [
        "\n",
        "\n",
        "# Attribute update_date   \n",
        "\n",
        "\n",
        "\n"
      ]
    },
    {
      "cell_type": "code",
      "metadata": {
        "id": "xkvrSaKYUiQq",
        "outputId": "40847c0a-ae87-4699-b419-39172a6611ea",
        "colab": {
          "base_uri": "https://localhost:8080/",
          "height": 126
        }
      },
      "source": [
        "df_new_accepted['update_date'].head()"
      ],
      "execution_count": null,
      "outputs": [
        {
          "output_type": "execute_result",
          "data": {
            "text/plain": [
              "0    2008-11-26\n",
              "1    2008-12-13\n",
              "2    2008-01-13\n",
              "3    2007-05-23\n",
              "4    2013-10-15\n",
              "Name: update_date, dtype: object"
            ]
          },
          "metadata": {
            "tags": []
          },
          "execution_count": 67
        }
      ]
    },
    {
      "cell_type": "code",
      "metadata": {
        "id": "nztosnSvVATt",
        "outputId": "9697c80d-2e94-4056-ca13-30f08150fed4",
        "colab": {
          "base_uri": "https://localhost:8080/",
          "height": 126
        }
      },
      "source": [
        "df_new_accepted['update_date'].tail()"
      ],
      "execution_count": null,
      "outputs": [
        {
          "output_type": "execute_result",
          "data": {
            "text/plain": [
              "1765683    2009-10-30\n",
              "1765684    2016-11-18\n",
              "1765685    2009-10-30\n",
              "1765686    2009-10-30\n",
              "1765687    2009-10-30\n",
              "Name: update_date, dtype: object"
            ]
          },
          "metadata": {
            "tags": []
          },
          "execution_count": 68
        }
      ]
    },
    {
      "cell_type": "code",
      "metadata": {
        "id": "UCTZZQ7hVGaA",
        "outputId": "2624b46c-1923-4617-8235-343d0bc8c64c",
        "colab": {
          "base_uri": "https://localhost:8080/",
          "height": 331
        }
      },
      "source": [
        "df_new_accepted['update_date'].value_counts()[:20].plot.bar()"
      ],
      "execution_count": null,
      "outputs": [
        {
          "output_type": "execute_result",
          "data": {
            "text/plain": [
              "<matplotlib.axes._subplots.AxesSubplot at 0x7f5a28a29668>"
            ]
          },
          "metadata": {
            "tags": []
          },
          "execution_count": 69
        },
        {
          "output_type": "display_data",
          "data": {
            "image/png": "[encoded data removed]",
            "text/plain": [
              "<Figure size 432x288 with 1 Axes>"
            ]
          },
          "metadata": {
            "tags": [],
            "needs_background": "light"
          }
        }
      ]
    },
    {
      "cell_type": "markdown",
      "metadata": {
        "id": "SLEHjzCXVl2L"
      },
      "source": [
        "### Convert update date to date"
      ]
    },
    {
      "cell_type": "code",
      "metadata": {
        "id": "u5A207RYVeG6",
        "outputId": "c0522988-d614-4aa2-d221-3d00f889f534",
        "colab": {
          "base_uri": "https://localhost:8080/",
          "height": 146
        }
      },
      "source": [
        "df_new_accepted['update_date']=pd.to_datetime(df_new_accepted.update_date)"
      ],
      "execution_count": null,
      "outputs": [
        {
          "output_type": "stream",
          "text": [
            "/usr/local/lib/python3.6/dist-packages/ipykernel_launcher.py:1: SettingWithCopyWarning: \n",
            "A value is trying to be set on a copy of a slice from a DataFrame.\n",
            "Try using .loc[row_indexer,col_indexer] = value instead\n",
            "\n",
            "See the caveats in the documentation: https://pandas.pydata.org/pandas-docs/stable/user_guide/indexing.html#returning-a-view-versus-a-copy\n",
            "  \"\"\"Entry point for launching an IPython kernel.\n"
          ],
          "name": "stderr"
        }
      ]
    },
    {
      "cell_type": "markdown",
      "metadata": {
        "id": "m1ZVv8SoWD4-"
      },
      "source": [
        "Show 5 most fres articles"
      ]
    },
    {
      "cell_type": "code",
      "metadata": {
        "id": "nG9ft12hWN7M",
        "outputId": "27432603-48c3-4f2d-a6d7-dfe4bcd8acb6",
        "colab": {
          "base_uri": "https://localhost:8080/",
          "height": 35
        }
      },
      "source": [
        "df_new_accepted.iloc[1351496,:]['update_date']"
      ],
      "execution_count": null,
      "outputs": [
        {
          "output_type": "execute_result",
          "data": {
            "text/plain": [
              "Timestamp('2008-02-03 00:00:00')"
            ]
          },
          "metadata": {
            "tags": []
          },
          "execution_count": 83
        }
      ]
    },
    {
      "cell_type": "code",
      "metadata": {
        "id": "-OdyrlzLWofP",
        "outputId": "33c79db9-038c-4b1a-9b34-9273bb90908f",
        "colab": {
          "base_uri": "https://localhost:8080/",
          "height": 35
        }
      },
      "source": [
        "df_new_accepted.iloc[1351496,:]['versions']"
      ],
      "execution_count": null,
      "outputs": [
        {
          "output_type": "execute_result",
          "data": {
            "text/plain": [
              "[{'created': 'Fri, 3 Dec 1993 15:24:56 GMT', 'version': 'v1'}]"
            ]
          },
          "metadata": {
            "tags": []
          },
          "execution_count": 84
        }
      ]
    },
    {
      "cell_type": "code",
      "metadata": {
        "id": "5w47FDRvVTt5",
        "outputId": "5f4b7b49-3503-4709-ca1e-365d61f55ba3",
        "colab": {
          "base_uri": "https://localhost:8080/",
          "height": 318
        }
      },
      "source": [
        "df_new_accepted.sort_values(by='update_date',ascending=False)[:2]"
      ],
      "execution_count": null,
      "outputs": [
        {
          "output_type": "execute_result",
          "data": {
            "text/html": [
              "<div>\n",
              "<style scoped>\n",
              "    .dataframe tbody tr th:only-of-type {\n",
              "        vertical-align: middle;\n",
              "    }\n",
              "\n",
              "    .dataframe tbody tr th {\n",
              "        vertical-align: top;\n",
              "    }\n",
              "\n",
              "    .dataframe thead th {\n",
              "        text-align: right;\n",
              "    }\n",
              "</style>\n",
              "<table border=\"1\" class=\"dataframe\">\n",
              "  <thead>\n",
              "    <tr style=\"text-align: right;\">\n",
              "      <th></th>\n",
              "      <th>id</th>\n",
              "      <th>submitter</th>\n",
              "      <th>authors</th>\n",
              "      <th>title</th>\n",
              "      <th>comments</th>\n",
              "      <th>journal-ref</th>\n",
              "      <th>doi</th>\n",
              "      <th>report-no</th>\n",
              "      <th>categories</th>\n",
              "      <th>license</th>\n",
              "      <th>abstract</th>\n",
              "      <th>versions</th>\n",
              "      <th>update_date</th>\n",
              "      <th>authors_parsed</th>\n",
              "    </tr>\n",
              "  </thead>\n",
              "  <tbody>\n",
              "    <tr>\n",
              "      <th>1351496</th>\n",
              "      <td>2009.09993</td>\n",
              "      <td>Luca Arnaboldi `</td>\n",
              "      <td>Artur Sokolovsky and Luca Arnaboldi</td>\n",
              "      <td>Machine Learning Classification of Price Extre...</td>\n",
              "      <td>Associated processing files are available at:\\...</td>\n",
              "      <td>None</td>\n",
              "      <td>None</td>\n",
              "      <td>None</td>\n",
              "      <td>q-fin.TR cs.LG</td>\n",
              "      <td>http://creativecommons.org/licenses/by/4.0/</td>\n",
              "      <td>The study introduces an automated trading sy...</td>\n",
              "      <td>[{'version': 'v1', 'created': 'Mon, 21 Sep 202...</td>\n",
              "      <td>2020-09-22</td>\n",
              "      <td>[[Sokolovsky, Artur, ], [Arnaboldi, Luca, ]]</td>\n",
              "    </tr>\n",
              "    <tr>\n",
              "      <th>1350724</th>\n",
              "      <td>2009.09221</td>\n",
              "      <td>Tom Meyerovitch</td>\n",
              "      <td>Jeremias Epperlein and Tom Meyerovitch</td>\n",
              "      <td>Iterated Minkowski sums, horoballs and north-s...</td>\n",
              "      <td>41 pages, 8 figures</td>\n",
              "      <td>None</td>\n",
              "      <td>None</td>\n",
              "      <td>None</td>\n",
              "      <td>math.DS</td>\n",
              "      <td>http://arxiv.org/licenses/nonexclusive-distrib...</td>\n",
              "      <td>Given a finite generating set $A$ for a grou...</td>\n",
              "      <td>[{'version': 'v1', 'created': 'Sat, 19 Sep 202...</td>\n",
              "      <td>2020-09-22</td>\n",
              "      <td>[[Epperlein, Jeremias, ], [Meyerovitch, Tom, ]]</td>\n",
              "    </tr>\n",
              "  </tbody>\n",
              "</table>\n",
              "</div>"
            ],
            "text/plain": [
              "                 id         submitter                                 authors  \\\n",
              "1351496  2009.09993  Luca Arnaboldi `     Artur Sokolovsky and Luca Arnaboldi   \n",
              "1350724  2009.09221   Tom Meyerovitch  Jeremias Epperlein and Tom Meyerovitch   \n",
              "\n",
              "                                                     title  \\\n",
              "1351496  Machine Learning Classification of Price Extre...   \n",
              "1350724  Iterated Minkowski sums, horoballs and north-s...   \n",
              "\n",
              "                                                  comments journal-ref   doi  \\\n",
              "1351496  Associated processing files are available at:\\...        None  None   \n",
              "1350724                                41 pages, 8 figures        None  None   \n",
              "\n",
              "        report-no      categories  \\\n",
              "1351496      None  q-fin.TR cs.LG   \n",
              "1350724      None         math.DS   \n",
              "\n",
              "                                                   license  \\\n",
              "1351496        http://creativecommons.org/licenses/by/4.0/   \n",
              "1350724  http://arxiv.org/licenses/nonexclusive-distrib...   \n",
              "\n",
              "                                                  abstract  \\\n",
              "1351496    The study introduces an automated trading sy...   \n",
              "1350724    Given a finite generating set $A$ for a grou...   \n",
              "\n",
              "                                                  versions update_date  \\\n",
              "1351496  [{'version': 'v1', 'created': 'Mon, 21 Sep 202...  2020-09-22   \n",
              "1350724  [{'version': 'v1', 'created': 'Sat, 19 Sep 202...  2020-09-22   \n",
              "\n",
              "                                          authors_parsed  \n",
              "1351496     [[Sokolovsky, Artur, ], [Arnaboldi, Luca, ]]  \n",
              "1350724  [[Epperlein, Jeremias, ], [Meyerovitch, Tom, ]]  "
            ]
          },
          "metadata": {
            "tags": []
          },
          "execution_count": 85
        }
      ]
    },
    {
      "cell_type": "markdown",
      "metadata": {
        "id": "7neVoBBuw0NR"
      },
      "source": [
        "\n",
        "\n",
        "# Attribute authors_parsed\n",
        "\n",
        "\n",
        "\n"
      ]
    },
    {
      "cell_type": "code",
      "metadata": {
        "id": "poI20irTwzpM",
        "outputId": "94871956-1273-49cb-ca32-e796afcfc390",
        "colab": {
          "base_uri": "https://localhost:8080/",
          "height": 126
        }
      },
      "source": [
        "df_new_accepted['authors_parsed'].head()"
      ],
      "execution_count": null,
      "outputs": [
        {
          "output_type": "execute_result",
          "data": {
            "text/plain": [
              "0    [[Balázs, C., ], [Berger, E. L., ], [Nadolsky,...\n",
              "1             [[Streinu, Ileana, ], [Theran, Louis, ]]\n",
              "2                                   [[Pan, Hongjun, ]]\n",
              "3                                  [[Callan, David, ]]\n",
              "4    [[Abu-Shammala, Wael, ], [Torchinsky, Alberto, ]]\n",
              "Name: authors_parsed, dtype: object"
            ]
          },
          "metadata": {
            "tags": []
          },
          "execution_count": 19
        }
      ]
    },
    {
      "cell_type": "code",
      "metadata": {
        "id": "3LZ2jFWCw_IT",
        "outputId": "0d82f9e1-6966-4f78-d62f-f01cd1cadb2a",
        "colab": {
          "base_uri": "https://localhost:8080/",
          "height": 35
        }
      },
      "source": [
        "df_new_accepted['authors_parsed'].isnull().sum()"
      ],
      "execution_count": null,
      "outputs": [
        {
          "output_type": "execute_result",
          "data": {
            "text/plain": [
              "0"
            ]
          },
          "metadata": {
            "tags": []
          },
          "execution_count": 45
        }
      ]
    },
    {
      "cell_type": "code",
      "metadata": {
        "id": "RoAWtMKA1lOU",
        "outputId": "88fe31bb-07e3-48f3-bc7a-b1c5a62f9d15",
        "colab": {
          "base_uri": "https://localhost:8080/",
          "height": 90
        }
      },
      "source": [
        "df_new_accepted['authors_parsed'][0]"
      ],
      "execution_count": null,
      "outputs": [
        {
          "output_type": "execute_result",
          "data": {
            "text/plain": [
              "[['Balázs', 'C.', ''],\n",
              " ['Berger', 'E. L.', ''],\n",
              " ['Nadolsky', 'P. M.', ''],\n",
              " ['Yuan', 'C. -P.', '']]"
            ]
          },
          "metadata": {
            "tags": []
          },
          "execution_count": 46
        }
      ]
    },
    {
      "cell_type": "code",
      "metadata": {
        "id": "M-u3fHx32Atw"
      },
      "source": [
        "ret=list(map(' '.join, df_new_accepted['authors_parsed'][0]))\n",
        "result = list(map(str.strip, ret))"
      ],
      "execution_count": null,
      "outputs": []
    },
    {
      "cell_type": "code",
      "metadata": {
        "id": "QQzVIi5y2uTT",
        "outputId": "f8a29d18-c208-49e4-e9a1-17bb2fa4f8cc",
        "colab": {
          "base_uri": "https://localhost:8080/",
          "height": 35
        }
      },
      "source": [
        "result"
      ],
      "execution_count": null,
      "outputs": [
        {
          "output_type": "execute_result",
          "data": {
            "text/plain": [
              "['Balázs C.', 'Berger E. L.', 'Nadolsky P. M.', 'Yuan C. -P.']"
            ]
          },
          "metadata": {
            "tags": []
          },
          "execution_count": 56
        }
      ]
    },
    {
      "cell_type": "markdown",
      "metadata": {
        "id": "dnkSDiX_3Q7N"
      },
      "source": [
        "### Convert authors to list of strings"
      ]
    },
    {
      "cell_type": "code",
      "metadata": {
        "id": "1PgbrQB03O_-"
      },
      "source": [
        "def ConvertAuthors(authors):\n",
        "  res=list(map(' '.join, authors))\n",
        "  return list(map(str.strip, res))\n"
      ],
      "execution_count": null,
      "outputs": []
    },
    {
      "cell_type": "code",
      "metadata": {
        "id": "gqlEMW_i3olW",
        "outputId": "1621836f-8dbd-4e0f-d573-e34b153f8e59",
        "colab": {
          "base_uri": "https://localhost:8080/",
          "height": 146
        }
      },
      "source": [
        "df_new_accepted['list_of_authors']=df_new_accepted['authors_parsed'].apply(ConvertAuthors)"
      ],
      "execution_count": null,
      "outputs": [
        {
          "output_type": "stream",
          "text": [
            "/usr/local/lib/python3.6/dist-packages/ipykernel_launcher.py:1: SettingWithCopyWarning: \n",
            "A value is trying to be set on a copy of a slice from a DataFrame.\n",
            "Try using .loc[row_indexer,col_indexer] = value instead\n",
            "\n",
            "See the caveats in the documentation: https://pandas.pydata.org/pandas-docs/stable/user_guide/indexing.html#returning-a-view-versus-a-copy\n",
            "  \"\"\"Entry point for launching an IPython kernel.\n"
          ],
          "name": "stderr"
        }
      ]
    },
    {
      "cell_type": "code",
      "metadata": {
        "id": "AyjYukUO38T9",
        "outputId": "e5df36e4-cb4b-4a09-c968-35a8a2930cdd",
        "colab": {
          "base_uri": "https://localhost:8080/",
          "height": 335
        }
      },
      "source": [
        "df_new_accepted.head(2)"
      ],
      "execution_count": null,
      "outputs": [
        {
          "output_type": "execute_result",
          "data": {
            "text/html": [
              "<div>\n",
              "<style scoped>\n",
              "    .dataframe tbody tr th:only-of-type {\n",
              "        vertical-align: middle;\n",
              "    }\n",
              "\n",
              "    .dataframe tbody tr th {\n",
              "        vertical-align: top;\n",
              "    }\n",
              "\n",
              "    .dataframe thead th {\n",
              "        text-align: right;\n",
              "    }\n",
              "</style>\n",
              "<table border=\"1\" class=\"dataframe\">\n",
              "  <thead>\n",
              "    <tr style=\"text-align: right;\">\n",
              "      <th></th>\n",
              "      <th>id</th>\n",
              "      <th>submitter</th>\n",
              "      <th>authors</th>\n",
              "      <th>title</th>\n",
              "      <th>comments</th>\n",
              "      <th>journal-ref</th>\n",
              "      <th>doi</th>\n",
              "      <th>report-no</th>\n",
              "      <th>categories</th>\n",
              "      <th>license</th>\n",
              "      <th>abstract</th>\n",
              "      <th>versions</th>\n",
              "      <th>update_date</th>\n",
              "      <th>authors_parsed</th>\n",
              "      <th>pages</th>\n",
              "      <th>figures</th>\n",
              "      <th>latest_version_date</th>\n",
              "      <th>latest_version</th>\n",
              "      <th>list_of_authors</th>\n",
              "    </tr>\n",
              "  </thead>\n",
              "  <tbody>\n",
              "    <tr>\n",
              "      <th>0</th>\n",
              "      <td>0704.0001</td>\n",
              "      <td>Pavel Nadolsky</td>\n",
              "      <td>C. Bal\\'azs, E. L. Berger, P. M. Nadolsky, C.-...</td>\n",
              "      <td>Calculation of prompt diphoton production cros...</td>\n",
              "      <td>37 pages, 15 figures; published version</td>\n",
              "      <td>Phys.Rev.D76:013009,2007</td>\n",
              "      <td>10.1103/PhysRevD.76.013009</td>\n",
              "      <td>ANL-HEP-PR-07-12</td>\n",
              "      <td>[hep-ph]</td>\n",
              "      <td>None</td>\n",
              "      <td>A fully differential calculation in perturba...</td>\n",
              "      <td>[{'version': 'v1', 'created': 'Mon, 2 Apr 2007...</td>\n",
              "      <td>2008-11-26</td>\n",
              "      <td>[[Balázs, C., ], [Berger, E. L., ], [Nadolsky,...</td>\n",
              "      <td>37</td>\n",
              "      <td>15</td>\n",
              "      <td>Tue, 24 Jul 2007 20:10:27 GMT</td>\n",
              "      <td>v2</td>\n",
              "      <td>[Balázs C., Berger E. L., Nadolsky P. M., Yuan...</td>\n",
              "    </tr>\n",
              "    <tr>\n",
              "      <th>1</th>\n",
              "      <td>0704.0002</td>\n",
              "      <td>Louis Theran</td>\n",
              "      <td>Ileana Streinu and Louis Theran</td>\n",
              "      <td>Sparsity-certifying Graph Decompositions</td>\n",
              "      <td>To appear in Graphs and Combinatorics</td>\n",
              "      <td>None</td>\n",
              "      <td>None</td>\n",
              "      <td>None</td>\n",
              "      <td>[math.CO, cs.CG]</td>\n",
              "      <td>http://arxiv.org/licenses/nonexclusive-distrib...</td>\n",
              "      <td>We describe a new algorithm, the $(k,\\ell)$-...</td>\n",
              "      <td>[{'version': 'v1', 'created': 'Sat, 31 Mar 200...</td>\n",
              "      <td>2008-12-13</td>\n",
              "      <td>[[Streinu, Ileana, ], [Theran, Louis, ]]</td>\n",
              "      <td>No data</td>\n",
              "      <td>No data</td>\n",
              "      <td>Sat, 13 Dec 2008 17:26:00 GMT</td>\n",
              "      <td>v2</td>\n",
              "      <td>[Streinu Ileana, Theran Louis]</td>\n",
              "    </tr>\n",
              "  </tbody>\n",
              "</table>\n",
              "</div>"
            ],
            "text/plain": [
              "          id       submitter  \\\n",
              "0  0704.0001  Pavel Nadolsky   \n",
              "1  0704.0002    Louis Theran   \n",
              "\n",
              "                                             authors  \\\n",
              "0  C. Bal\\'azs, E. L. Berger, P. M. Nadolsky, C.-...   \n",
              "1                    Ileana Streinu and Louis Theran   \n",
              "\n",
              "                                               title  \\\n",
              "0  Calculation of prompt diphoton production cros...   \n",
              "1           Sparsity-certifying Graph Decompositions   \n",
              "\n",
              "                                  comments               journal-ref  \\\n",
              "0  37 pages, 15 figures; published version  Phys.Rev.D76:013009,2007   \n",
              "1    To appear in Graphs and Combinatorics                      None   \n",
              "\n",
              "                          doi         report-no        categories  \\\n",
              "0  10.1103/PhysRevD.76.013009  ANL-HEP-PR-07-12          [hep-ph]   \n",
              "1                        None              None  [math.CO, cs.CG]   \n",
              "\n",
              "                                             license  \\\n",
              "0                                               None   \n",
              "1  http://arxiv.org/licenses/nonexclusive-distrib...   \n",
              "\n",
              "                                            abstract  \\\n",
              "0    A fully differential calculation in perturba...   \n",
              "1    We describe a new algorithm, the $(k,\\ell)$-...   \n",
              "\n",
              "                                            versions update_date  \\\n",
              "0  [{'version': 'v1', 'created': 'Mon, 2 Apr 2007...  2008-11-26   \n",
              "1  [{'version': 'v1', 'created': 'Sat, 31 Mar 200...  2008-12-13   \n",
              "\n",
              "                                      authors_parsed    pages  figures  \\\n",
              "0  [[Balázs, C., ], [Berger, E. L., ], [Nadolsky,...       37       15   \n",
              "1           [[Streinu, Ileana, ], [Theran, Louis, ]]  No data  No data   \n",
              "\n",
              "             latest_version_date latest_version  \\\n",
              "0  Tue, 24 Jul 2007 20:10:27 GMT             v2   \n",
              "1  Sat, 13 Dec 2008 17:26:00 GMT             v2   \n",
              "\n",
              "                                     list_of_authors  \n",
              "0  [Balázs C., Berger E. L., Nadolsky P. M., Yuan...  \n",
              "1                     [Streinu Ileana, Theran Louis]  "
            ]
          },
          "metadata": {
            "tags": []
          },
          "execution_count": 21
        }
      ]
    },
    {
      "cell_type": "markdown",
      "metadata": {
        "id": "p35kd7Za4Ida"
      },
      "source": [
        "#Save final dataset for searching"
      ]
    },
    {
      "cell_type": "markdown",
      "metadata": {
        "id": "eE-NiWvH4O5o"
      },
      "source": [
        "### Removing unused attributes"
      ]
    },
    {
      "cell_type": "code",
      "metadata": {
        "id": "kMBHuxVb7Qbb",
        "outputId": "dc9bcf62-bfeb-45b3-e859-4d26783eb0b3",
        "colab": {
          "base_uri": "https://localhost:8080/",
          "height": 108
        }
      },
      "source": [
        "df_new_accepted.columns"
      ],
      "execution_count": null,
      "outputs": [
        {
          "output_type": "execute_result",
          "data": {
            "text/plain": [
              "Index(['id', 'submitter', 'authors', 'title', 'comments', 'journal-ref', 'doi',\n",
              "       'report-no', 'categories', 'license', 'abstract', 'versions',\n",
              "       'update_date', 'authors_parsed', 'pages', 'figures',\n",
              "       'latest_version_date', 'latest_version', 'list_of_authors'],\n",
              "      dtype='object')"
            ]
          },
          "metadata": {
            "tags": []
          },
          "execution_count": 59
        }
      ]
    },
    {
      "cell_type": "code",
      "metadata": {
        "id": "T6M_vr5k4FIk"
      },
      "source": [
        "df_new_accepted_final=df_new_accepted.drop(columns=['authors', 'comments','versions','update_date','authors_parsed'])"
      ],
      "execution_count": null,
      "outputs": []
    },
    {
      "cell_type": "code",
      "metadata": {
        "id": "44FAd8WE4F3E",
        "outputId": "41a3f108-8b29-46a8-dc4c-0c8abcdaf8a9",
        "colab": {
          "base_uri": "https://localhost:8080/",
          "height": 35
        }
      },
      "source": [
        "df_new_accepted_final.shape"
      ],
      "execution_count": null,
      "outputs": [
        {
          "output_type": "execute_result",
          "data": {
            "text/plain": [
              "(1764241, 14)"
            ]
          },
          "metadata": {
            "tags": []
          },
          "execution_count": 61
        }
      ]
    },
    {
      "cell_type": "code",
      "metadata": {
        "id": "OZAGDeOs7u7G",
        "outputId": "8af24d73-b26b-4045-864c-5f3ce714961b",
        "colab": {
          "base_uri": "https://localhost:8080/",
          "height": 90
        }
      },
      "source": [
        "df_new_accepted_final.columns"
      ],
      "execution_count": null,
      "outputs": [
        {
          "output_type": "execute_result",
          "data": {
            "text/plain": [
              "Index(['id', 'submitter', 'title', 'journal-ref', 'doi', 'report-no',\n",
              "       'categories', 'license', 'abstract', 'pages', 'figures',\n",
              "       'latest_version_date', 'latest_version', 'list_of_authors'],\n",
              "      dtype='object')"
            ]
          },
          "metadata": {
            "tags": []
          },
          "execution_count": 62
        }
      ]
    },
    {
      "cell_type": "code",
      "metadata": {
        "id": "uYKnjb8w74fg"
      },
      "source": [
        "#df_new_accepted_final.to_pickle(\"df_almost_final.p\")"
      ],
      "execution_count": null,
      "outputs": []
    },
    {
      "cell_type": "code",
      "metadata": {
        "id": "0ULhxLvB-h2X",
        "outputId": "ec1e25bd-78f0-4fed-a0a5-f1a49a0991b9",
        "colab": {
          "base_uri": "https://localhost:8080/",
          "height": 399
        }
      },
      "source": [
        "df_new_accepted_final.info()"
      ],
      "execution_count": null,
      "outputs": [
        {
          "output_type": "stream",
          "text": [
            "<class 'pandas.core.frame.DataFrame'>\n",
            "Int64Index: 1764241 entries, 0 to 1765687\n",
            "Data columns (total 14 columns):\n",
            " #   Column               Dtype \n",
            "---  ------               ----- \n",
            " 0   id                   object\n",
            " 1   submitter            object\n",
            " 2   title                object\n",
            " 3   journal-ref          object\n",
            " 4   doi                  object\n",
            " 5   report-no            object\n",
            " 6   categories           object\n",
            " 7   license              object\n",
            " 8   abstract             object\n",
            " 9   pages                object\n",
            " 10  figures              object\n",
            " 11  latest_version_date  object\n",
            " 12  latest_version       object\n",
            " 13  list_of_authors      object\n",
            "dtypes: object(14)\n",
            "memory usage: 201.9+ MB\n"
          ],
          "name": "stdout"
        }
      ]
    },
    {
      "cell_type": "code",
      "metadata": {
        "id": "nVkjal_P-CSX"
      },
      "source": [
        "#pickle_file = drive.CreateFile()\n",
        "#pickle_file.SetContentFile('df_almost_final.p')\n",
        "#!cp df_almost_final.p \"/gdrive/My Drive/ING/VINF/\""
      ],
      "execution_count": null,
      "outputs": []
    },
    {
      "cell_type": "markdown",
      "metadata": {
        "id": "CxCLy4m-_HaE"
      },
      "source": [
        "### Replace None values with string No data"
      ]
    },
    {
      "cell_type": "code",
      "metadata": {
        "id": "Db-RodGk-k92"
      },
      "source": [
        "columns=['submitter', 'pages','figures',  'journal-ref','doi', 'report-no' , 'license']"
      ],
      "execution_count": null,
      "outputs": []
    },
    {
      "cell_type": "code",
      "metadata": {
        "id": "uKPNET4EDxE5"
      },
      "source": [
        "df_new_accepted_final[columns] = df_new_accepted_final[columns].fillna(value='No data')"
      ],
      "execution_count": null,
      "outputs": []
    },
    {
      "cell_type": "code",
      "metadata": {
        "id": "MIY_BKmkBXGz",
        "outputId": "efc15809-e08a-48d0-a739-70292d0c9eca",
        "colab": {
          "base_uri": "https://localhost:8080/",
          "height": 301
        }
      },
      "source": [
        "df_new_accepted_final.head(2)"
      ],
      "execution_count": null,
      "outputs": [
        {
          "output_type": "execute_result",
          "data": {
            "text/html": [
              "<div>\n",
              "<style scoped>\n",
              "    .dataframe tbody tr th:only-of-type {\n",
              "        vertical-align: middle;\n",
              "    }\n",
              "\n",
              "    .dataframe tbody tr th {\n",
              "        vertical-align: top;\n",
              "    }\n",
              "\n",
              "    .dataframe thead th {\n",
              "        text-align: right;\n",
              "    }\n",
              "</style>\n",
              "<table border=\"1\" class=\"dataframe\">\n",
              "  <thead>\n",
              "    <tr style=\"text-align: right;\">\n",
              "      <th></th>\n",
              "      <th>id</th>\n",
              "      <th>submitter</th>\n",
              "      <th>title</th>\n",
              "      <th>journal-ref</th>\n",
              "      <th>doi</th>\n",
              "      <th>report-no</th>\n",
              "      <th>categories</th>\n",
              "      <th>license</th>\n",
              "      <th>abstract</th>\n",
              "      <th>pages</th>\n",
              "      <th>figures</th>\n",
              "      <th>latest_version_date</th>\n",
              "      <th>latest_version</th>\n",
              "      <th>list_of_authors</th>\n",
              "    </tr>\n",
              "  </thead>\n",
              "  <tbody>\n",
              "    <tr>\n",
              "      <th>0</th>\n",
              "      <td>0704.0001</td>\n",
              "      <td>Pavel Nadolsky</td>\n",
              "      <td>Calculation of prompt diphoton production cros...</td>\n",
              "      <td>Phys.Rev.D76:013009,2007</td>\n",
              "      <td>10.1103/PhysRevD.76.013009</td>\n",
              "      <td>ANL-HEP-PR-07-12</td>\n",
              "      <td>[hep-ph]</td>\n",
              "      <td>No data</td>\n",
              "      <td>A fully differential calculation in perturba...</td>\n",
              "      <td>37</td>\n",
              "      <td>15</td>\n",
              "      <td>Tue, 24 Jul 2007 20:10:27 GMT</td>\n",
              "      <td>v2</td>\n",
              "      <td>[Balázs C., Berger E. L., Nadolsky P. M., Yuan...</td>\n",
              "    </tr>\n",
              "    <tr>\n",
              "      <th>1</th>\n",
              "      <td>0704.0002</td>\n",
              "      <td>Louis Theran</td>\n",
              "      <td>Sparsity-certifying Graph Decompositions</td>\n",
              "      <td>No data</td>\n",
              "      <td>No data</td>\n",
              "      <td>No data</td>\n",
              "      <td>[math.CO, cs.CG]</td>\n",
              "      <td>http://arxiv.org/licenses/nonexclusive-distrib...</td>\n",
              "      <td>We describe a new algorithm, the $(k,\\ell)$-...</td>\n",
              "      <td>No data</td>\n",
              "      <td>No data</td>\n",
              "      <td>Sat, 13 Dec 2008 17:26:00 GMT</td>\n",
              "      <td>v2</td>\n",
              "      <td>[Streinu Ileana, Theran Louis]</td>\n",
              "    </tr>\n",
              "  </tbody>\n",
              "</table>\n",
              "</div>"
            ],
            "text/plain": [
              "          id       submitter  \\\n",
              "0  0704.0001  Pavel Nadolsky   \n",
              "1  0704.0002    Louis Theran   \n",
              "\n",
              "                                               title  \\\n",
              "0  Calculation of prompt diphoton production cros...   \n",
              "1           Sparsity-certifying Graph Decompositions   \n",
              "\n",
              "                journal-ref                         doi         report-no  \\\n",
              "0  Phys.Rev.D76:013009,2007  10.1103/PhysRevD.76.013009  ANL-HEP-PR-07-12   \n",
              "1                   No data                     No data           No data   \n",
              "\n",
              "         categories                                            license  \\\n",
              "0          [hep-ph]                                            No data   \n",
              "1  [math.CO, cs.CG]  http://arxiv.org/licenses/nonexclusive-distrib...   \n",
              "\n",
              "                                            abstract    pages  figures  \\\n",
              "0    A fully differential calculation in perturba...       37       15   \n",
              "1    We describe a new algorithm, the $(k,\\ell)$-...  No data  No data   \n",
              "\n",
              "             latest_version_date latest_version  \\\n",
              "0  Tue, 24 Jul 2007 20:10:27 GMT             v2   \n",
              "1  Sat, 13 Dec 2008 17:26:00 GMT             v2   \n",
              "\n",
              "                                     list_of_authors  \n",
              "0  [Balázs C., Berger E. L., Nadolsky P. M., Yuan...  \n",
              "1                     [Streinu Ileana, Theran Louis]  "
            ]
          },
          "metadata": {
            "tags": []
          },
          "execution_count": 66
        }
      ]
    },
    {
      "cell_type": "code",
      "metadata": {
        "id": "01jmbazIBs57"
      },
      "source": [
        "df_new_accepted_final.to_pickle(\"df_final.p\")"
      ],
      "execution_count": null,
      "outputs": []
    },
    {
      "cell_type": "code",
      "metadata": {
        "id": "-4Z87EtfCge8"
      },
      "source": [
        "pickle_file = drive.CreateFile()\n",
        "pickle_file.SetContentFile('df_final.p')\n",
        "!cp df_final.p \"/gdrive/My Drive/ING/VINF/\""
      ],
      "execution_count": null,
      "outputs": []
    },
    {
      "cell_type": "markdown",
      "metadata": {
        "id": "tLDvLFW1CrBm"
      },
      "source": [
        "# Final dataset"
      ]
    },
    {
      "cell_type": "code",
      "metadata": {
        "id": "WJYj_0uSCsxk"
      },
      "source": [
        "downloaded = drive.CreateFile({'id':'1--gifVVEjbKkcMKXLPhfTsWIQbRF1Obq'}) \n",
        "downloaded.GetContentFile('df_final.p')"
      ],
      "execution_count": null,
      "outputs": []
    },
    {
      "cell_type": "code",
      "metadata": {
        "id": "ECo9PmwdDAS7"
      },
      "source": [
        "df = pd.read_pickle('df_final.p')"
      ],
      "execution_count": null,
      "outputs": []
    },
    {
      "cell_type": "code",
      "metadata": {
        "id": "FACyCCRkDAwD",
        "outputId": "5bdc6b53-6010-4437-defb-5497fb055651",
        "colab": {
          "base_uri": "https://localhost:8080/",
          "height": 35
        }
      },
      "source": [
        "df.shape"
      ],
      "execution_count": null,
      "outputs": [
        {
          "output_type": "execute_result",
          "data": {
            "text/plain": [
              "(1764241, 14)"
            ]
          },
          "metadata": {
            "tags": []
          },
          "execution_count": 6
        }
      ]
    },
    {
      "cell_type": "code",
      "metadata": {
        "id": "yJrdJshfFwIf",
        "outputId": "bb8be829-9ebd-4158-a5cc-7bfaacda81c9",
        "colab": {
          "base_uri": "https://localhost:8080/",
          "height": 303
        }
      },
      "source": [
        "df.head(2)"
      ],
      "execution_count": null,
      "outputs": [
        {
          "output_type": "execute_result",
          "data": {
            "text/html": [
              "<div>\n",
              "<style scoped>\n",
              "    .dataframe tbody tr th:only-of-type {\n",
              "        vertical-align: middle;\n",
              "    }\n",
              "\n",
              "    .dataframe tbody tr th {\n",
              "        vertical-align: top;\n",
              "    }\n",
              "\n",
              "    .dataframe thead th {\n",
              "        text-align: right;\n",
              "    }\n",
              "</style>\n",
              "<table border=\"1\" class=\"dataframe\">\n",
              "  <thead>\n",
              "    <tr style=\"text-align: right;\">\n",
              "      <th></th>\n",
              "      <th>id</th>\n",
              "      <th>submitter</th>\n",
              "      <th>title</th>\n",
              "      <th>journal-ref</th>\n",
              "      <th>doi</th>\n",
              "      <th>report-no</th>\n",
              "      <th>categories</th>\n",
              "      <th>license</th>\n",
              "      <th>abstract</th>\n",
              "      <th>pages</th>\n",
              "      <th>figures</th>\n",
              "      <th>latest_version_date</th>\n",
              "      <th>latest_version</th>\n",
              "      <th>list_of_authors</th>\n",
              "    </tr>\n",
              "  </thead>\n",
              "  <tbody>\n",
              "    <tr>\n",
              "      <th>0</th>\n",
              "      <td>0704.0001</td>\n",
              "      <td>Pavel Nadolsky</td>\n",
              "      <td>Calculation of prompt diphoton production cros...</td>\n",
              "      <td>Phys.Rev.D76:013009,2007</td>\n",
              "      <td>10.1103/PhysRevD.76.013009</td>\n",
              "      <td>ANL-HEP-PR-07-12</td>\n",
              "      <td>[hep-ph]</td>\n",
              "      <td>No data</td>\n",
              "      <td>A fully differential calculation in perturba...</td>\n",
              "      <td>37</td>\n",
              "      <td>15</td>\n",
              "      <td>Tue, 24 Jul 2007 20:10:27 GMT</td>\n",
              "      <td>v2</td>\n",
              "      <td>[Balázs C., Berger E. L., Nadolsky P. M., Yuan...</td>\n",
              "    </tr>\n",
              "    <tr>\n",
              "      <th>1</th>\n",
              "      <td>0704.0002</td>\n",
              "      <td>Louis Theran</td>\n",
              "      <td>Sparsity-certifying Graph Decompositions</td>\n",
              "      <td>No data</td>\n",
              "      <td>No data</td>\n",
              "      <td>No data</td>\n",
              "      <td>[math.CO, cs.CG]</td>\n",
              "      <td>http://arxiv.org/licenses/nonexclusive-distrib...</td>\n",
              "      <td>We describe a new algorithm, the $(k,\\ell)$-...</td>\n",
              "      <td>No data</td>\n",
              "      <td>No data</td>\n",
              "      <td>Sat, 13 Dec 2008 17:26:00 GMT</td>\n",
              "      <td>v2</td>\n",
              "      <td>[Streinu Ileana, Theran Louis]</td>\n",
              "    </tr>\n",
              "  </tbody>\n",
              "</table>\n",
              "</div>"
            ],
            "text/plain": [
              "          id  ...                                    list_of_authors\n",
              "0  0704.0001  ...  [Balázs C., Berger E. L., Nadolsky P. M., Yuan...\n",
              "1  0704.0002  ...                     [Streinu Ileana, Theran Louis]\n",
              "\n",
              "[2 rows x 14 columns]"
            ]
          },
          "metadata": {
            "tags": []
          },
          "execution_count": 7
        }
      ]
    },
    {
      "cell_type": "markdown",
      "metadata": {
        "id": "ObATEK-UqRnM"
      },
      "source": [
        "## Convert page and figure numbers to int"
      ]
    },
    {
      "cell_type": "code",
      "metadata": {
        "id": "6jMpZoIIYBhx"
      },
      "source": [
        "test_df=df[:100]"
      ],
      "execution_count": null,
      "outputs": []
    },
    {
      "cell_type": "code",
      "metadata": {
        "id": "WgThUgQwqm_k"
      },
      "source": [
        "def PageToInt(page):\n",
        "  if(page !='No data' and page !=''):\n",
        "      return int(page)\n",
        "\n",
        "\n",
        "def FigureToInt(figure):\n",
        "  if(figure !='No data' and figure !=''):\n",
        "      return int(figure)\n"
      ],
      "execution_count": null,
      "outputs": []
    },
    {
      "cell_type": "code",
      "metadata": {
        "id": "P-b54hMAqnaR",
        "outputId": "1b4e7905-44f0-48db-b189-cc5784f2d3ee",
        "colab": {
          "base_uri": "https://localhost:8080/",
          "height": 141
        }
      },
      "source": [
        "test_df['pages']=test_df['pages'].apply(PageToInt)"
      ],
      "execution_count": null,
      "outputs": [
        {
          "output_type": "stream",
          "text": [
            "/usr/local/lib/python3.6/dist-packages/ipykernel_launcher.py:1: SettingWithCopyWarning: \n",
            "A value is trying to be set on a copy of a slice from a DataFrame.\n",
            "Try using .loc[row_indexer,col_indexer] = value instead\n",
            "\n",
            "See the caveats in the documentation: https://pandas.pydata.org/pandas-docs/stable/user_guide/indexing.html#returning-a-view-versus-a-copy\n",
            "  \"\"\"Entry point for launching an IPython kernel.\n"
          ],
          "name": "stderr"
        }
      ]
    },
    {
      "cell_type": "code",
      "metadata": {
        "id": "xVOoJ2DyqnNY",
        "outputId": "a8a99751-5e6f-455d-9efa-bef511085f90",
        "colab": {
          "base_uri": "https://localhost:8080/",
          "height": 141
        }
      },
      "source": [
        "test_df['figures']=test_df['figures'].apply(FigureToInt)"
      ],
      "execution_count": null,
      "outputs": [
        {
          "output_type": "stream",
          "text": [
            "/usr/local/lib/python3.6/dist-packages/ipykernel_launcher.py:1: SettingWithCopyWarning: \n",
            "A value is trying to be set on a copy of a slice from a DataFrame.\n",
            "Try using .loc[row_indexer,col_indexer] = value instead\n",
            "\n",
            "See the caveats in the documentation: https://pandas.pydata.org/pandas-docs/stable/user_guide/indexing.html#returning-a-view-versus-a-copy\n",
            "  \"\"\"Entry point for launching an IPython kernel.\n"
          ],
          "name": "stderr"
        }
      ]
    },
    {
      "cell_type": "markdown",
      "metadata": {
        "id": "knOJzMFR44I6"
      },
      "source": [
        "## Convert categories to list of strings"
      ]
    },
    {
      "cell_type": "code",
      "metadata": {
        "id": "RarLl-1Z43U3",
        "outputId": "c46baddd-892b-4e09-e66d-550610fdf478",
        "colab": {
          "base_uri": "https://localhost:8080/",
          "height": 141
        }
      },
      "source": [
        "test_df['categories'] = test_df['categories'].astype(str)"
      ],
      "execution_count": null,
      "outputs": [
        {
          "output_type": "stream",
          "text": [
            "/usr/local/lib/python3.6/dist-packages/ipykernel_launcher.py:1: SettingWithCopyWarning: \n",
            "A value is trying to be set on a copy of a slice from a DataFrame.\n",
            "Try using .loc[row_indexer,col_indexer] = value instead\n",
            "\n",
            "See the caveats in the documentation: https://pandas.pydata.org/pandas-docs/stable/user_guide/indexing.html#returning-a-view-versus-a-copy\n",
            "  \"\"\"Entry point for launching an IPython kernel.\n"
          ],
          "name": "stderr"
        }
      ]
    },
    {
      "cell_type": "markdown",
      "metadata": {
        "id": "NXIR3UA74-W3"
      },
      "source": [
        "## Convert list of authors to list of strings"
      ]
    },
    {
      "cell_type": "code",
      "metadata": {
        "id": "sSCvAOH85Qxt",
        "outputId": "cd70454c-f0a8-46c0-dae6-b5e8cd251d00",
        "colab": {
          "base_uri": "https://localhost:8080/",
          "height": 141
        }
      },
      "source": [
        "test_df['list_of_authors'] = test_df['list_of_authors'].astype(str)"
      ],
      "execution_count": null,
      "outputs": [
        {
          "output_type": "stream",
          "text": [
            "/usr/local/lib/python3.6/dist-packages/ipykernel_launcher.py:1: SettingWithCopyWarning: \n",
            "A value is trying to be set on a copy of a slice from a DataFrame.\n",
            "Try using .loc[row_indexer,col_indexer] = value instead\n",
            "\n",
            "See the caveats in the documentation: https://pandas.pydata.org/pandas-docs/stable/user_guide/indexing.html#returning-a-view-versus-a-copy\n",
            "  \"\"\"Entry point for launching an IPython kernel.\n"
          ],
          "name": "stderr"
        }
      ]
    },
    {
      "cell_type": "markdown",
      "metadata": {
        "id": "iwUi5q2FpRir"
      },
      "source": [
        "## Convert abstract to vector representation\n"
      ]
    },
    {
      "cell_type": "markdown",
      "metadata": {
        "id": "DatYYcpOViDY"
      },
      "source": [
        "## TF-IDF vectorization"
      ]
    },
    {
      "cell_type": "code",
      "metadata": {
        "id": "nUcPZf41phnX"
      },
      "source": [
        "def remove_stopwords(text):\n",
        "    no_stopword_text = [w for w in text.split() if not w in stop_words]\n",
        "    return ' '.join(no_stopword_text)\n",
        "\n",
        "def clean_text(text):\n",
        "    # remove backslash-apostrophe \n",
        "    text = re.sub(\"\\'\", \"\", text) \n",
        "    # remove everything except alphabets and numbers\n",
        "    text = re.sub(\"[^a-zA-Z0-9]\",\" \",text) \n",
        "    # remove whitespaces \n",
        "    text = ' '.join(text.split()) \n",
        "    # convert text to lowercase \n",
        "    text = text.lower() \n",
        "    \n",
        "    return text"
      ],
      "execution_count": null,
      "outputs": []
    },
    {
      "cell_type": "code",
      "metadata": {
        "id": "-asn1WpKt4zJ",
        "outputId": "ab45731a-31d9-4621-da26-ef6548d64d95",
        "colab": {
          "base_uri": "https://localhost:8080/",
          "height": 245
        }
      },
      "source": [
        "test_df['abstract']= test_df['abstract'].apply(clean_text)\n",
        "test_df['abstract']= test_df['abstract'].apply(remove_stopwords)"
      ],
      "execution_count": null,
      "outputs": [
        {
          "output_type": "stream",
          "text": [
            "/usr/local/lib/python3.6/dist-packages/ipykernel_launcher.py:1: SettingWithCopyWarning: \n",
            "A value is trying to be set on a copy of a slice from a DataFrame.\n",
            "Try using .loc[row_indexer,col_indexer] = value instead\n",
            "\n",
            "See the caveats in the documentation: https://pandas.pydata.org/pandas-docs/stable/user_guide/indexing.html#returning-a-view-versus-a-copy\n",
            "  \"\"\"Entry point for launching an IPython kernel.\n",
            "/usr/local/lib/python3.6/dist-packages/ipykernel_launcher.py:2: SettingWithCopyWarning: \n",
            "A value is trying to be set on a copy of a slice from a DataFrame.\n",
            "Try using .loc[row_indexer,col_indexer] = value instead\n",
            "\n",
            "See the caveats in the documentation: https://pandas.pydata.org/pandas-docs/stable/user_guide/indexing.html#returning-a-view-versus-a-copy\n",
            "  \n"
          ],
          "name": "stderr"
        }
      ]
    },
    {
      "cell_type": "code",
      "metadata": {
        "id": "wXEHCUyxn5kL"
      },
      "source": [
        "TF_IDF=TfidfVectorizer(max_df=0.8, max_features=512)"
      ],
      "execution_count": null,
      "outputs": []
    },
    {
      "cell_type": "code",
      "metadata": {
        "id": "gnIwvkL3oBli",
        "outputId": "a49a2870-a5a3-4776-b308-77ab81869b60",
        "colab": {
          "base_uri": "https://localhost:8080/",
          "height": 141
        }
      },
      "source": [
        "test_df['abstract']=TF_IDF.fit_transform(test_df['abstract'])"
      ],
      "execution_count": null,
      "outputs": [
        {
          "output_type": "stream",
          "text": [
            "/usr/local/lib/python3.6/dist-packages/ipykernel_launcher.py:1: SettingWithCopyWarning: \n",
            "A value is trying to be set on a copy of a slice from a DataFrame.\n",
            "Try using .loc[row_indexer,col_indexer] = value instead\n",
            "\n",
            "See the caveats in the documentation: https://pandas.pydata.org/pandas-docs/stable/user_guide/indexing.html#returning-a-view-versus-a-copy\n",
            "  \"\"\"Entry point for launching an IPython kernel.\n"
          ],
          "name": "stderr"
        }
      ]
    },
    {
      "cell_type": "code",
      "metadata": {
        "id": "8dm9WiIUU0LP"
      },
      "source": [
        "def formatToArray(arr):\n",
        "  vec=arr[0].toarray()\n",
        "  return str(np.array(vec[0]).tolist())"
      ],
      "execution_count": null,
      "outputs": []
    },
    {
      "cell_type": "code",
      "metadata": {
        "id": "s_cBN9puURAx",
        "outputId": "777aecd4-d1ad-44e5-b996-d604af89124a",
        "colab": {
          "base_uri": "https://localhost:8080/",
          "height": 141
        }
      },
      "source": [
        "test_df['abstract']=test_df['abstract'].apply(formatToArray)"
      ],
      "execution_count": null,
      "outputs": [
        {
          "output_type": "stream",
          "text": [
            "/usr/local/lib/python3.6/dist-packages/ipykernel_launcher.py:1: SettingWithCopyWarning: \n",
            "A value is trying to be set on a copy of a slice from a DataFrame.\n",
            "Try using .loc[row_indexer,col_indexer] = value instead\n",
            "\n",
            "See the caveats in the documentation: https://pandas.pydata.org/pandas-docs/stable/user_guide/indexing.html#returning-a-view-versus-a-copy\n",
            "  \"\"\"Entry point for launching an IPython kernel.\n"
          ],
          "name": "stderr"
        }
      ]
    },
    {
      "cell_type": "markdown",
      "metadata": {
        "id": "bewIpGbOxSOd"
      },
      "source": [
        "## Universal sentence encoder"
      ]
    },
    {
      "cell_type": "code",
      "metadata": {
        "id": "PVTP4bBixYAQ"
      },
      "source": [
        "%pip install tensorflow==2.3.1\n",
        "%pip install tensorflow-hub==0.9.0"
      ],
      "execution_count": null,
      "outputs": []
    },
    {
      "cell_type": "code",
      "metadata": {
        "id": "M39ob2xWxYbK"
      },
      "source": [
        "import tensorflow as tf\n",
        "import tensorflow_hub as hub"
      ],
      "execution_count": null,
      "outputs": []
    },
    {
      "cell_type": "code",
      "metadata": {
        "id": "6Z_wqgqjxY3o",
        "outputId": "67ed2802-472f-48ac-d61d-1eadbcb9abbd",
        "colab": {
          "base_uri": "https://localhost:8080/",
          "height": 34
        }
      },
      "source": [
        "module_url = \"https://tfhub.dev/google/universal-sentence-encoder/4\" \n",
        "model = hub.load(module_url)\n",
        "print (\"module %s loaded\" % module_url)"
      ],
      "execution_count": null,
      "outputs": [
        {
          "output_type": "stream",
          "text": [
            "module https://tfhub.dev/google/universal-sentence-encoder/4 loaded\n"
          ],
          "name": "stdout"
        }
      ]
    },
    {
      "cell_type": "code",
      "metadata": {
        "id": "Lmcg4muQxZSi",
        "outputId": "f7242dc4-c832-43dd-a925-3c377ef2e852",
        "colab": {
          "base_uri": "https://localhost:8080/",
          "height": 241
        }
      },
      "source": [
        "test_df['abstract']= test_df['abstract'].apply(clean_text)\n",
        "test_df['abstract']= test_df['abstract'].apply(remove_stopwords)"
      ],
      "execution_count": null,
      "outputs": [
        {
          "output_type": "stream",
          "text": [
            "/usr/local/lib/python3.6/dist-packages/ipykernel_launcher.py:1: SettingWithCopyWarning: \n",
            "A value is trying to be set on a copy of a slice from a DataFrame.\n",
            "Try using .loc[row_indexer,col_indexer] = value instead\n",
            "\n",
            "See the caveats in the documentation: https://pandas.pydata.org/pandas-docs/stable/user_guide/indexing.html#returning-a-view-versus-a-copy\n",
            "  \"\"\"Entry point for launching an IPython kernel.\n",
            "/usr/local/lib/python3.6/dist-packages/ipykernel_launcher.py:2: SettingWithCopyWarning: \n",
            "A value is trying to be set on a copy of a slice from a DataFrame.\n",
            "Try using .loc[row_indexer,col_indexer] = value instead\n",
            "\n",
            "See the caveats in the documentation: https://pandas.pydata.org/pandas-docs/stable/user_guide/indexing.html#returning-a-view-versus-a-copy\n",
            "  \n"
          ],
          "name": "stderr"
        }
      ]
    },
    {
      "cell_type": "code",
      "metadata": {
        "id": "qGj_IN5zxlDo",
        "outputId": "06dee83b-be72-4f85-9090-82ca3f8965f6",
        "colab": {
          "base_uri": "https://localhost:8080/",
          "height": 173
        }
      },
      "source": [
        "test_df['abstract']=model(test_df['abstract'])"
      ],
      "execution_count": null,
      "outputs": [
        {
          "output_type": "stream",
          "text": [
            "WARNING:tensorflow:5 out of the last 6 calls to <function recreate_function.<locals>.restored_function_body at 0x7f210df7c620> triggered tf.function retracing. Tracing is expensive and the excessive number of tracings could be due to (1) creating @tf.function repeatedly in a loop, (2) passing tensors with different shapes, (3) passing Python objects instead of tensors. For (1), please define your @tf.function outside of the loop. For (2), @tf.function has experimental_relax_shapes=True option that relaxes argument shapes that can avoid unnecessary retracing. For (3), please refer to https://www.tensorflow.org/tutorials/customization/performance#python_or_tensor_args and https://www.tensorflow.org/api_docs/python/tf/function for  more details.\n"
          ],
          "name": "stdout"
        },
        {
          "output_type": "stream",
          "text": [
            "WARNING:tensorflow:5 out of the last 6 calls to <function recreate_function.<locals>.restored_function_body at 0x7f210df7c620> triggered tf.function retracing. Tracing is expensive and the excessive number of tracings could be due to (1) creating @tf.function repeatedly in a loop, (2) passing tensors with different shapes, (3) passing Python objects instead of tensors. For (1), please define your @tf.function outside of the loop. For (2), @tf.function has experimental_relax_shapes=True option that relaxes argument shapes that can avoid unnecessary retracing. For (3), please refer to https://www.tensorflow.org/tutorials/customization/performance#python_or_tensor_args and https://www.tensorflow.org/api_docs/python/tf/function for  more details.\n",
            "/usr/local/lib/python3.6/dist-packages/ipykernel_launcher.py:1: SettingWithCopyWarning: \n",
            "A value is trying to be set on a copy of a slice from a DataFrame.\n",
            "Try using .loc[row_indexer,col_indexer] = value instead\n",
            "\n",
            "See the caveats in the documentation: https://pandas.pydata.org/pandas-docs/stable/user_guide/indexing.html#returning-a-view-versus-a-copy\n",
            "  \"\"\"Entry point for launching an IPython kernel.\n"
          ],
          "name": "stderr"
        }
      ]
    },
    {
      "cell_type": "code",
      "metadata": {
        "id": "AVyx9Q6xxlsN"
      },
      "source": [
        "def formatSentenceEncoderResultToArray(arr):\n",
        "  return str(np.array(arr).tolist())"
      ],
      "execution_count": null,
      "outputs": []
    },
    {
      "cell_type": "code",
      "metadata": {
        "id": "TqafAkHczWrB",
        "outputId": "e5dded5a-0615-41e3-c308-81a39031e85c",
        "colab": {
          "base_uri": "https://localhost:8080/",
          "height": 139
        }
      },
      "source": [
        "test_df['abstract']=test_df['abstract'].apply(formatSentenceEncoderResultToArray)"
      ],
      "execution_count": null,
      "outputs": [
        {
          "output_type": "stream",
          "text": [
            "/usr/local/lib/python3.6/dist-packages/ipykernel_launcher.py:1: SettingWithCopyWarning: \n",
            "A value is trying to be set on a copy of a slice from a DataFrame.\n",
            "Try using .loc[row_indexer,col_indexer] = value instead\n",
            "\n",
            "See the caveats in the documentation: https://pandas.pydata.org/pandas-docs/stable/user_guide/indexing.html#returning-a-view-versus-a-copy\n",
            "  \"\"\"Entry point for launching an IPython kernel.\n"
          ],
          "name": "stderr"
        }
      ]
    },
    {
      "cell_type": "code",
      "metadata": {
        "id": "3pvd_mpw3MEf"
      },
      "source": [
        "#df.to_json(orient='records',path_or_buf='df_json.json')"
      ],
      "execution_count": null,
      "outputs": []
    },
    {
      "cell_type": "code",
      "metadata": {
        "id": "Gp2Wr6xG6hmn"
      },
      "source": [
        "test_df.head()"
      ],
      "execution_count": null,
      "outputs": []
    },
    {
      "cell_type": "markdown",
      "metadata": {
        "id": "H3fAAW8e6m4u"
      },
      "source": [
        "## Save to json"
      ]
    },
    {
      "cell_type": "code",
      "metadata": {
        "id": "-ke1f5xlsmO9"
      },
      "source": [
        "test_df.to_json(orient='records',path_or_buf='df_json_small_use.json')"
      ],
      "execution_count": null,
      "outputs": []
    },
    {
      "cell_type": "code",
      "metadata": {
        "id": "6QOkVE-2l-Nd"
      },
      "source": [
        "#json_file = drive.CreateFile()\n",
        "#json_file.SetContentFile('df_json.json')\n",
        "#!cp df_json.json \"/gdrive/My Drive/ING/VINF/\""
      ],
      "execution_count": null,
      "outputs": []
    },
    {
      "cell_type": "code",
      "metadata": {
        "id": "y6laFhz0vEJr"
      },
      "source": [
        "downloaded = drive.CreateFile({'id':'1QI6KvNbHq6VZ8FxRRw3AEhhmmpWKTFcB'}) \n",
        "downloaded.GetContentFile('df_json.json')"
      ],
      "execution_count": null,
      "outputs": []
    },
    {
      "cell_type": "code",
      "metadata": {
        "id": "RGIIC5IJkbrB"
      },
      "source": [
        "with open('df_json.json', 'r') as f:\n",
        "\n",
        "  data_json = json.load(f)"
      ],
      "execution_count": null,
      "outputs": []
    }
  ]
}