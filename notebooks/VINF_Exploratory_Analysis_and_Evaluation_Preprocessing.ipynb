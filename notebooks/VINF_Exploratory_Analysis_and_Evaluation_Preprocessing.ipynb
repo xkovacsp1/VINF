{
  "nbformat": 4,
  "nbformat_minor": 0,
  "metadata": {
    "accelerator": "GPU",
    "colab": {
      "name": "VINF_Exploratory_Analysis_and_Evaluation_Preprocessing.ipynb",
      "provenance": [],
      "collapsed_sections": [],
      "toc_visible": true,
      "machine_shape": "hm"
    },
    "kernelspec": {
      "display_name": "Python 3",
      "name": "python3"
    }
  },
  "cells": [
    {
      "cell_type": "markdown",
      "metadata": {
        "id": "omhmaqd4uLrq"
      },
      "source": [
        "# <center>Searching in scientific papers</center>\n",
        "##  <center>Patrik Kovács</center>\n",
        "###  <center>Subject: Information retrieval </center>"
      ]
    },
    {
      "cell_type": "code",
      "metadata": {
        "colab": {
          "base_uri": "https://localhost:8080/"
        },
        "id": "6W_Zih2olUhs",
        "outputId": "1771b0f2-a178-4c71-8c8a-28fbb6fe4bcd"
      },
      "source": [
        "from google.colab import drive\n",
        "drive.mount('/content/drive')"
      ],
      "execution_count": 1,
      "outputs": [
        {
          "output_type": "stream",
          "text": [
            "Mounted at /content/drive\n"
          ],
          "name": "stdout"
        }
      ]
    },
    {
      "cell_type": "markdown",
      "metadata": {
        "id": "PwwKoyK8Ctlf"
      },
      "source": [
        "# Used libraries"
      ]
    },
    {
      "cell_type": "code",
      "metadata": {
        "colab": {
          "base_uri": "https://localhost:8080/"
        },
        "id": "c6Pe6dObn1_r",
        "outputId": "e2a77b3b-33d2-4d9e-ac41-39cfad5c6502"
      },
      "source": [
        "%pip install ijson==3.1.2"
      ],
      "execution_count": 2,
      "outputs": [
        {
          "output_type": "stream",
          "text": [
            "Collecting ijson==3.1.2\n",
            "\u001b[?25l  Downloading https://files.pythonhosted.org/packages/e5/db/10adc9c596867beffc14ca6be630657083729833b24f4986690eecc063e1/ijson-3.1.2-cp36-cp36m-manylinux2010_x86_64.whl (127kB)\n",
            "\u001b[K     |████████████████████████████████| 133kB 11.0MB/s \n",
            "\u001b[?25hInstalling collected packages: ijson\n",
            "Successfully installed ijson-3.1.2\n"
          ],
          "name": "stdout"
        }
      ]
    },
    {
      "cell_type": "code",
      "metadata": {
        "colab": {
          "base_uri": "https://localhost:8080/"
        },
        "id": "wht1aEI7bayq",
        "outputId": "1514e0f7-9355-41bc-eb90-6d9a04518de1"
      },
      "source": [
        "import json\n",
        "import pandas as pd\n",
        "import re\n",
        "import numpy as np\n",
        "from sklearn.feature_extraction.text import TfidfVectorizer\n",
        "from sklearn.base import BaseEstimator, TransformerMixin\n",
        "from sklearn.pipeline import Pipeline\n",
        "import nltk\n",
        "import json\n",
        "from sklearn.preprocessing import MultiLabelBinarizer\n",
        "from nltk.corpus import stopwords\n",
        "from sklearn.model_selection import train_test_split\n",
        "import matplotlib.pyplot as plt\n",
        "nltk.download('stopwords')\n",
        "stop_words = set(stopwords.words('english'))\n",
        "#import ijson\n",
        "%matplotlib inline"
      ],
      "execution_count": 3,
      "outputs": [
        {
          "output_type": "stream",
          "text": [
            "[nltk_data] Downloading package stopwords to /root/nltk_data...\n",
            "[nltk_data]   Unzipping corpora/stopwords.zip.\n"
          ],
          "name": "stdout"
        }
      ]
    },
    {
      "cell_type": "code",
      "metadata": {
        "id": "dfKBfOF9DPyF"
      },
      "source": [
        "pd.set_option('display.max_columns', None)\n",
        "pd.set_option('display.max_rows', None)"
      ],
      "execution_count": null,
      "outputs": []
    },
    {
      "cell_type": "markdown",
      "metadata": {
        "id": "pN0Ey1G9tsE3"
      },
      "source": [
        "# Exploratory analysis\n"
      ]
    },
    {
      "cell_type": "code",
      "metadata": {
        "id": "qvOszElamRVK"
      },
      "source": [
        "df=pd.read_json('/content/drive/My Drive/ING/VINF/papers.json',orient='records')"
      ],
      "execution_count": 4,
      "outputs": []
    },
    {
      "cell_type": "code",
      "metadata": {
        "colab": {
          "base_uri": "https://localhost:8080/"
        },
        "id": "sHOWhpyWu684",
        "outputId": "c42147c1-7a3b-4036-d8a8-9905c7047493"
      },
      "source": [
        "df.shape"
      ],
      "execution_count": 5,
      "outputs": [
        {
          "output_type": "execute_result",
          "data": {
            "text/plain": [
              "(1765688, 14)"
            ]
          },
          "metadata": {
            "tags": []
          },
          "execution_count": 5
        }
      ]
    },
    {
      "cell_type": "code",
      "metadata": {
        "colab": {
          "base_uri": "https://localhost:8080/",
          "height": 683
        },
        "id": "nchOiy6mtcQp",
        "outputId": "b04a64b5-be6a-4426-9140-1142ea08d686"
      },
      "source": [
        "df.head()"
      ],
      "execution_count": 6,
      "outputs": [
        {
          "output_type": "execute_result",
          "data": {
            "text/html": [
              "<div>\n",
              "<style scoped>\n",
              "    .dataframe tbody tr th:only-of-type {\n",
              "        vertical-align: middle;\n",
              "    }\n",
              "\n",
              "    .dataframe tbody tr th {\n",
              "        vertical-align: top;\n",
              "    }\n",
              "\n",
              "    .dataframe thead th {\n",
              "        text-align: right;\n",
              "    }\n",
              "</style>\n",
              "<table border=\"1\" class=\"dataframe\">\n",
              "  <thead>\n",
              "    <tr style=\"text-align: right;\">\n",
              "      <th></th>\n",
              "      <th>id</th>\n",
              "      <th>submitter</th>\n",
              "      <th>authors</th>\n",
              "      <th>title</th>\n",
              "      <th>comments</th>\n",
              "      <th>journal-ref</th>\n",
              "      <th>doi</th>\n",
              "      <th>report-no</th>\n",
              "      <th>categories</th>\n",
              "      <th>license</th>\n",
              "      <th>abstract</th>\n",
              "      <th>versions</th>\n",
              "      <th>update_date</th>\n",
              "      <th>authors_parsed</th>\n",
              "    </tr>\n",
              "  </thead>\n",
              "  <tbody>\n",
              "    <tr>\n",
              "      <th>0</th>\n",
              "      <td>0704.0001</td>\n",
              "      <td>Pavel Nadolsky</td>\n",
              "      <td>C. Bal\\'azs, E. L. Berger, P. M. Nadolsky, C.-...</td>\n",
              "      <td>Calculation of prompt diphoton production cros...</td>\n",
              "      <td>37 pages, 15 figures; published version</td>\n",
              "      <td>Phys.Rev.D76:013009,2007</td>\n",
              "      <td>10.1103/PhysRevD.76.013009</td>\n",
              "      <td>ANL-HEP-PR-07-12</td>\n",
              "      <td>hep-ph</td>\n",
              "      <td>nan</td>\n",
              "      <td>A fully differential calculation in perturba...</td>\n",
              "      <td>[{'version': 'v1', 'created': 'Mon, 2 Apr 2007...</td>\n",
              "      <td>2008-11-26</td>\n",
              "      <td>[['Balázs', 'C.', ''], ['Berger', 'E. L.', '']...</td>\n",
              "    </tr>\n",
              "    <tr>\n",
              "      <th>1</th>\n",
              "      <td>0704.0002</td>\n",
              "      <td>Louis Theran</td>\n",
              "      <td>Ileana Streinu and Louis Theran</td>\n",
              "      <td>Sparsity-certifying Graph Decompositions</td>\n",
              "      <td>To appear in Graphs and Combinatorics</td>\n",
              "      <td>nan</td>\n",
              "      <td>nan</td>\n",
              "      <td>nan</td>\n",
              "      <td>math.CO cs.CG</td>\n",
              "      <td>http://arxiv.org/licenses/nonexclusive-distrib...</td>\n",
              "      <td>We describe a new algorithm, the $(k,\\ell)$-...</td>\n",
              "      <td>[{'version': 'v1', 'created': 'Sat, 31 Mar 200...</td>\n",
              "      <td>2008-12-13</td>\n",
              "      <td>[['Streinu', 'Ileana', ''], ['Theran', 'Louis'...</td>\n",
              "    </tr>\n",
              "    <tr>\n",
              "      <th>2</th>\n",
              "      <td>0704.0003</td>\n",
              "      <td>Hongjun Pan</td>\n",
              "      <td>Hongjun Pan</td>\n",
              "      <td>The evolution of the Earth-Moon system based o...</td>\n",
              "      <td>23 pages, 3 figures</td>\n",
              "      <td>nan</td>\n",
              "      <td>nan</td>\n",
              "      <td>nan</td>\n",
              "      <td>physics.gen-ph</td>\n",
              "      <td>nan</td>\n",
              "      <td>The evolution of Earth-Moon system is descri...</td>\n",
              "      <td>[{'version': 'v1', 'created': 'Sun, 1 Apr 2007...</td>\n",
              "      <td>2008-01-13</td>\n",
              "      <td>[['Pan', 'Hongjun', '']]</td>\n",
              "    </tr>\n",
              "    <tr>\n",
              "      <th>3</th>\n",
              "      <td>0704.0004</td>\n",
              "      <td>David Callan</td>\n",
              "      <td>David Callan</td>\n",
              "      <td>A determinant of Stirling cycle numbers counts...</td>\n",
              "      <td>11 pages</td>\n",
              "      <td>nan</td>\n",
              "      <td>nan</td>\n",
              "      <td>nan</td>\n",
              "      <td>math.CO</td>\n",
              "      <td>nan</td>\n",
              "      <td>We show that a determinant of Stirling cycle...</td>\n",
              "      <td>[{'version': 'v1', 'created': 'Sat, 31 Mar 200...</td>\n",
              "      <td>2007-05-23</td>\n",
              "      <td>[['Callan', 'David', '']]</td>\n",
              "    </tr>\n",
              "    <tr>\n",
              "      <th>4</th>\n",
              "      <td>0704.0005</td>\n",
              "      <td>Alberto Torchinsky</td>\n",
              "      <td>Wael Abu-Shammala and Alberto Torchinsky</td>\n",
              "      <td>From dyadic $\\Lambda_{\\alpha}$ to $\\Lambda_{\\a...</td>\n",
              "      <td>nan</td>\n",
              "      <td>Illinois J. Math. 52 (2008) no.2, 681-689</td>\n",
              "      <td>nan</td>\n",
              "      <td>nan</td>\n",
              "      <td>math.CA math.FA</td>\n",
              "      <td>nan</td>\n",
              "      <td>In this paper we show how to compute the $\\L...</td>\n",
              "      <td>[{'version': 'v1', 'created': 'Mon, 2 Apr 2007...</td>\n",
              "      <td>2013-10-15</td>\n",
              "      <td>[['Abu-Shammala', 'Wael', ''], ['Torchinsky', ...</td>\n",
              "    </tr>\n",
              "  </tbody>\n",
              "</table>\n",
              "</div>"
            ],
            "text/plain": [
              "          id  ...                                     authors_parsed\n",
              "0  0704.0001  ...  [['Balázs', 'C.', ''], ['Berger', 'E. L.', '']...\n",
              "1  0704.0002  ...  [['Streinu', 'Ileana', ''], ['Theran', 'Louis'...\n",
              "2  0704.0003  ...                           [['Pan', 'Hongjun', '']]\n",
              "3  0704.0004  ...                          [['Callan', 'David', '']]\n",
              "4  0704.0005  ...  [['Abu-Shammala', 'Wael', ''], ['Torchinsky', ...\n",
              "\n",
              "[5 rows x 14 columns]"
            ]
          },
          "metadata": {
            "tags": []
          },
          "execution_count": 6
        }
      ]
    },
    {
      "cell_type": "markdown",
      "metadata": {
        "id": "U0kjStiyGuzC"
      },
      "source": [
        "## Categories\n"
      ]
    },
    {
      "cell_type": "code",
      "metadata": {
        "colab": {
          "base_uri": "https://localhost:8080/"
        },
        "id": "zngcg7tQtcif",
        "outputId": "8b2e6d2c-8886-485a-8296-80f89155b853"
      },
      "source": [
        "df['categories'].isnull().sum()"
      ],
      "execution_count": 7,
      "outputs": [
        {
          "output_type": "execute_result",
          "data": {
            "text/plain": [
              "0"
            ]
          },
          "metadata": {
            "tags": []
          },
          "execution_count": 7
        }
      ]
    },
    {
      "cell_type": "code",
      "metadata": {
        "id": "i-gPRc2ywaCK"
      },
      "source": [
        "def categories_to_list_of_strings(categories):\n",
        "    return str(categories.split(' '))"
      ],
      "execution_count": 8,
      "outputs": []
    },
    {
      "cell_type": "code",
      "metadata": {
        "id": "wX7HlksTwbRJ"
      },
      "source": [
        "df['categories']=df['categories'].apply(categories_to_list_of_strings)"
      ],
      "execution_count": 9,
      "outputs": []
    },
    {
      "cell_type": "code",
      "metadata": {
        "id": "f5Dt6uGRwyQr"
      },
      "source": [
        "df['categories']=df['categories'].apply(eval)"
      ],
      "execution_count": 10,
      "outputs": []
    },
    {
      "cell_type": "code",
      "metadata": {
        "colab": {
          "base_uri": "https://localhost:8080/"
        },
        "id": "Po0xXjO7yrCR",
        "outputId": "4ede2cb2-541e-4a41-b3bb-17b7c7c7324c"
      },
      "source": [
        "type(df['categories'][0])"
      ],
      "execution_count": 11,
      "outputs": [
        {
          "output_type": "execute_result",
          "data": {
            "text/plain": [
              "list"
            ]
          },
          "metadata": {
            "tags": []
          },
          "execution_count": 11
        }
      ]
    },
    {
      "cell_type": "code",
      "metadata": {
        "colab": {
          "base_uri": "https://localhost:8080/"
        },
        "id": "Rawr6QZwzUuF",
        "outputId": "eb3aed5e-59ab-412f-e80e-a46e21627e41"
      },
      "source": [
        "df['categories'].head()"
      ],
      "execution_count": 12,
      "outputs": [
        {
          "output_type": "execute_result",
          "data": {
            "text/plain": [
              "0              [hep-ph]\n",
              "1      [math.CO, cs.CG]\n",
              "2      [physics.gen-ph]\n",
              "3             [math.CO]\n",
              "4    [math.CA, math.FA]\n",
              "Name: categories, dtype: object"
            ]
          },
          "metadata": {
            "tags": []
          },
          "execution_count": 12
        }
      ]
    },
    {
      "cell_type": "code",
      "metadata": {
        "id": "6yuI296q7J_A"
      },
      "source": [
        "mlb = MultiLabelBinarizer()"
      ],
      "execution_count": 13,
      "outputs": []
    },
    {
      "cell_type": "code",
      "metadata": {
        "colab": {
          "base_uri": "https://localhost:8080/"
        },
        "id": "A2eHOxBM7SC8",
        "outputId": "41cf0927-0976-412d-924a-57e47b33a637"
      },
      "source": [
        "mlb.fit_transform(df['categories'])"
      ],
      "execution_count": 14,
      "outputs": [
        {
          "output_type": "execute_result",
          "data": {
            "text/plain": [
              "array([[0, 0, 0, ..., 0, 0, 0],\n",
              "       [0, 0, 0, ..., 0, 0, 0],\n",
              "       [0, 0, 0, ..., 0, 0, 0],\n",
              "       ...,\n",
              "       [0, 0, 0, ..., 0, 0, 1],\n",
              "       [0, 0, 0, ..., 0, 0, 1],\n",
              "       [0, 0, 0, ..., 0, 0, 1]])"
            ]
          },
          "metadata": {
            "tags": []
          },
          "execution_count": 14
        }
      ]
    },
    {
      "cell_type": "code",
      "metadata": {
        "colab": {
          "base_uri": "https://localhost:8080/"
        },
        "id": "PmwJtCt-79L9",
        "outputId": "c0008133-8b13-405d-f598-79417fbbd7bb"
      },
      "source": [
        "mlb.classes_"
      ],
      "execution_count": 15,
      "outputs": [
        {
          "output_type": "execute_result",
          "data": {
            "text/plain": [
              "array(['acc-phys', 'adap-org', 'alg-geom', 'ao-sci', 'astro-ph',\n",
              "       'astro-ph.CO', 'astro-ph.EP', 'astro-ph.GA', 'astro-ph.HE',\n",
              "       'astro-ph.IM', 'astro-ph.SR', 'atom-ph', 'bayes-an', 'chao-dyn',\n",
              "       'chem-ph', 'cmp-lg', 'comp-gas', 'cond-mat', 'cond-mat.dis-nn',\n",
              "       'cond-mat.mes-hall', 'cond-mat.mtrl-sci', 'cond-mat.other',\n",
              "       'cond-mat.quant-gas', 'cond-mat.soft', 'cond-mat.stat-mech',\n",
              "       'cond-mat.str-el', 'cond-mat.supr-con', 'cs.AI', 'cs.AR', 'cs.CC',\n",
              "       'cs.CE', 'cs.CG', 'cs.CL', 'cs.CR', 'cs.CV', 'cs.CY', 'cs.DB',\n",
              "       'cs.DC', 'cs.DL', 'cs.DM', 'cs.DS', 'cs.ET', 'cs.FL', 'cs.GL',\n",
              "       'cs.GR', 'cs.GT', 'cs.HC', 'cs.IR', 'cs.IT', 'cs.LG', 'cs.LO',\n",
              "       'cs.MA', 'cs.MM', 'cs.MS', 'cs.NA', 'cs.NE', 'cs.NI', 'cs.OH',\n",
              "       'cs.OS', 'cs.PF', 'cs.PL', 'cs.RO', 'cs.SC', 'cs.SD', 'cs.SE',\n",
              "       'cs.SI', 'cs.SY', 'dg-ga', 'econ.EM', 'econ.GN', 'econ.TH',\n",
              "       'eess.AS', 'eess.IV', 'eess.SP', 'eess.SY', 'funct-an', 'gr-qc',\n",
              "       'hep-ex', 'hep-lat', 'hep-ph', 'hep-th', 'math-ph', 'math.AC',\n",
              "       'math.AG', 'math.AP', 'math.AT', 'math.CA', 'math.CO', 'math.CT',\n",
              "       'math.CV', 'math.DG', 'math.DS', 'math.FA', 'math.GM', 'math.GN',\n",
              "       'math.GR', 'math.GT', 'math.HO', 'math.IT', 'math.KT', 'math.LO',\n",
              "       'math.MG', 'math.MP', 'math.NA', 'math.NT', 'math.OA', 'math.OC',\n",
              "       'math.PR', 'math.QA', 'math.RA', 'math.RT', 'math.SG', 'math.SP',\n",
              "       'math.ST', 'mtrl-th', 'nlin.AO', 'nlin.CD', 'nlin.CG', 'nlin.PS',\n",
              "       'nlin.SI', 'nucl-ex', 'nucl-th', 'patt-sol', 'physics.acc-ph',\n",
              "       'physics.ao-ph', 'physics.app-ph', 'physics.atm-clus',\n",
              "       'physics.atom-ph', 'physics.bio-ph', 'physics.chem-ph',\n",
              "       'physics.class-ph', 'physics.comp-ph', 'physics.data-an',\n",
              "       'physics.ed-ph', 'physics.flu-dyn', 'physics.gen-ph',\n",
              "       'physics.geo-ph', 'physics.hist-ph', 'physics.ins-det',\n",
              "       'physics.med-ph', 'physics.optics', 'physics.plasm-ph',\n",
              "       'physics.pop-ph', 'physics.soc-ph', 'physics.space-ph', 'plasm-ph',\n",
              "       'q-alg', 'q-bio', 'q-bio.BM', 'q-bio.CB', 'q-bio.GN', 'q-bio.MN',\n",
              "       'q-bio.NC', 'q-bio.OT', 'q-bio.PE', 'q-bio.QM', 'q-bio.SC',\n",
              "       'q-bio.TO', 'q-fin.CP', 'q-fin.EC', 'q-fin.GN', 'q-fin.MF',\n",
              "       'q-fin.PM', 'q-fin.PR', 'q-fin.RM', 'q-fin.ST', 'q-fin.TR',\n",
              "       'quant-ph', 'solv-int', 'stat.AP', 'stat.CO', 'stat.ME', 'stat.ML',\n",
              "       'stat.OT', 'stat.TH', 'supr-con'], dtype=object)"
            ]
          },
          "metadata": {
            "tags": []
          },
          "execution_count": 15
        }
      ]
    },
    {
      "cell_type": "code",
      "metadata": {
        "colab": {
          "base_uri": "https://localhost:8080/"
        },
        "id": "ngQWdqB47Y_K",
        "outputId": "1d384b15-b85a-47df-de70-720f1526326f"
      },
      "source": [
        "len(mlb.classes_)"
      ],
      "execution_count": 16,
      "outputs": [
        {
          "output_type": "execute_result",
          "data": {
            "text/plain": [
              "176"
            ]
          },
          "metadata": {
            "tags": []
          },
          "execution_count": 16
        }
      ]
    },
    {
      "cell_type": "code",
      "metadata": {
        "id": "UXzS_7Af9aVr"
      },
      "source": [
        "categories = pd.DataFrame(mlb.fit_transform(df['categories']),columns=mlb.classes_)"
      ],
      "execution_count": 17,
      "outputs": []
    },
    {
      "cell_type": "code",
      "metadata": {
        "colab": {
          "base_uri": "https://localhost:8080/"
        },
        "id": "UUP0JYtA9zhR",
        "outputId": "160f58bd-1620-49d8-b830-34e64d596864"
      },
      "source": [
        "categories.shape"
      ],
      "execution_count": 18,
      "outputs": [
        {
          "output_type": "execute_result",
          "data": {
            "text/plain": [
              "(1765688, 176)"
            ]
          },
          "metadata": {
            "tags": []
          },
          "execution_count": 18
        }
      ]
    },
    {
      "cell_type": "code",
      "metadata": {
        "id": "FTpmE1vm-Gnd"
      },
      "source": [
        "category_count=categories.sum()"
      ],
      "execution_count": 19,
      "outputs": []
    },
    {
      "cell_type": "code",
      "metadata": {
        "id": "asGIWRMt-62D"
      },
      "source": [
        "labels = category_count.sort_values(ascending = False).index.to_list()\n",
        "counts = category_count.sort_values(ascending = False).values"
      ],
      "execution_count": 20,
      "outputs": []
    },
    {
      "cell_type": "code",
      "metadata": {
        "colab": {
          "base_uri": "https://localhost:8080/"
        },
        "id": "IYS0rB_DCfLD",
        "outputId": "dccab1b3-9699-462c-e9d0-29f0d052c6c5"
      },
      "source": [
        "categories.sum().sort_values(ascending = False)[:10]"
      ],
      "execution_count": 21,
      "outputs": [
        {
          "output_type": "execute_result",
          "data": {
            "text/plain": [
              "hep-ph               152259\n",
              "hep-th               139250\n",
              "quant-ph             106714\n",
              "astro-ph             105380\n",
              "gr-qc                 83900\n",
              "cond-mat.mes-hall     70003\n",
              "cond-mat.mtrl-sci     66428\n",
              "cs.LG                 65063\n",
              "math.MP               62848\n",
              "math-ph               62848\n",
              "dtype: int64"
            ]
          },
          "metadata": {
            "tags": []
          },
          "execution_count": 21
        }
      ]
    },
    {
      "cell_type": "code",
      "metadata": {
        "colab": {
          "base_uri": "https://localhost:8080/"
        },
        "id": "JqmGW6x7W42a",
        "outputId": "4aee0762-21e6-4c10-9c1b-0aacd0f35151"
      },
      "source": [
        "((categories.sum()/df.shape[0])*100).sort_values(ascending = False)[:10]"
      ],
      "execution_count": 22,
      "outputs": [
        {
          "output_type": "execute_result",
          "data": {
            "text/plain": [
              "hep-ph               8.623211\n",
              "hep-th               7.886444\n",
              "quant-ph             6.043763\n",
              "astro-ph             5.968212\n",
              "gr-qc                4.751689\n",
              "cond-mat.mes-hall    3.964630\n",
              "cond-mat.mtrl-sci    3.762160\n",
              "cs.LG                3.684853\n",
              "math.MP              3.559406\n",
              "math-ph              3.559406\n",
              "dtype: float64"
            ]
          },
          "metadata": {
            "tags": []
          },
          "execution_count": 22
        }
      ]
    },
    {
      "cell_type": "code",
      "metadata": {
        "colab": {
          "base_uri": "https://localhost:8080/"
        },
        "id": "T1gBJyzHWpYV",
        "outputId": "956b85b6-4217-4290-f8f1-b303b8c57ee3"
      },
      "source": [
        "df.shape[0]"
      ],
      "execution_count": 23,
      "outputs": [
        {
          "output_type": "execute_result",
          "data": {
            "text/plain": [
              "1765688"
            ]
          },
          "metadata": {
            "tags": []
          },
          "execution_count": 23
        }
      ]
    },
    {
      "cell_type": "code",
      "metadata": {
        "colab": {
          "base_uri": "https://localhost:8080/",
          "height": 528
        },
        "id": "jRJ15iDB_EXO",
        "outputId": "0f3058ff-8d4b-40c4-a966-84a48b574ab8"
      },
      "source": [
        "fig = plt.figure(figsize=(12, 6))\n",
        "ax = fig.gca()\n",
        "fig.suptitle('Top 10 Categories', fontsize=20)\n",
        "plt.ylabel('Number of Papers', fontsize=14)\n",
        "plt.xlabel('Paper Category', fontsize=14)\n",
        "plt.setp(ax.get_xticklabels(), ha=\"right\", rotation=45, fontsize=14) # Specify a rotation for the tick labels \n",
        "plt.bar(labels[:10],counts[:10])\n",
        "plt.show()\n"
      ],
      "execution_count": 36,
      "outputs": [
        {
          "output_type": "display_data",
          "data": {
            "image/png": "[encoded data removed]",
            "text/plain": [
              "<Figure size 864x432 with 1 Axes>"
            ]
          },
          "metadata": {
            "tags": [],
            "needs_background": "light"
          }
        }
      ]
    },
    {
      "cell_type": "code",
      "metadata": {
        "colab": {
          "base_uri": "https://localhost:8080/",
          "height": 528
        },
        "id": "aIGjKfKPYoKZ",
        "outputId": "90f67a11-f052-4b8a-a3c7-3b936374c23b"
      },
      "source": [
        "fig = plt.figure(figsize=(12, 6))\n",
        "ax = fig.gca()\n",
        "fig.suptitle('Top 10 Categories', fontsize=20)\n",
        "plt.ylabel('Percentage of Papers', fontsize=14)\n",
        "plt.xlabel('Paper Category', fontsize=14)\n",
        "plt.setp(ax.get_xticklabels(), ha=\"right\", rotation=45, fontsize=14) # Specify a rotation for the tick labels \n",
        "plt.bar(labels[:10],((counts[:10]/df.shape[0])*100))\n",
        "plt.show()"
      ],
      "execution_count": 37,
      "outputs": [
        {
          "output_type": "display_data",
          "data": {
            "image/png": "[encoded data removed]",
            "text/plain": [
              "<Figure size 864x432 with 1 Axes>"
            ]
          },
          "metadata": {
            "tags": [],
            "needs_background": "light"
          }
        }
      ]
    },
    {
      "cell_type": "code",
      "metadata": {
        "colab": {
          "base_uri": "https://localhost:8080/",
          "height": 701
        },
        "id": "B9gAlsqB_D3F",
        "outputId": "98704a8f-1b8d-4ca5-8138-ab23d88b971f"
      },
      "source": [
        "fig = plt.figure(figsize=(16, 9))\n",
        "ax = fig.gca()\n",
        "fig.suptitle('Top 50 Categories', fontsize=20)\n",
        "plt.ylabel('Number of Papers', fontsize=14)\n",
        "plt.xlabel('Paper Category', fontsize=14)\n",
        "plt.setp(ax.get_xticklabels(), ha=\"right\", rotation=45, fontsize=14) # Specify a rotation for the tick labels \n",
        "plt.bar(labels[:50],counts[:50])\n",
        "plt.show()\n"
      ],
      "execution_count": 38,
      "outputs": [
        {
          "output_type": "display_data",
          "data": {
            "image/png": "[encoded data removed]",
            "text/plain": [
              "<Figure size 1152x648 with 1 Axes>"
            ]
          },
          "metadata": {
            "tags": [],
            "needs_background": "light"
          }
        }
      ]
    },
    {
      "cell_type": "code",
      "metadata": {
        "colab": {
          "base_uri": "https://localhost:8080/",
          "height": 535
        },
        "id": "fnSVSAOPYgob",
        "outputId": "7c2a4bba-c217-493f-f8fb-c69fc370526b"
      },
      "source": [
        "fig = plt.figure(figsize=(12, 6))\n",
        "ax = fig.gca()\n",
        "fig.suptitle('Top 10 Categories', fontsize=20)\n",
        "plt.ylabel('Percentage of Papers', fontsize=14)\n",
        "plt.xlabel('Paper Category', fontsize=14)\n",
        "plt.setp(ax.get_xticklabels(), ha=\"right\", rotation=45, fontsize=14) # Specify a rotation for the tick labels \n",
        "plt.bar(labels[:50],((counts[:50]/df.shape[0])*100))\n",
        "plt.show()"
      ],
      "execution_count": 39,
      "outputs": [
        {
          "output_type": "display_data",
          "data": {
            "image/png": "[encoded data removed]",
            "text/plain": [
              "<Figure size 864x432 with 1 Axes>"
            ]
          },
          "metadata": {
            "tags": [],
            "needs_background": "light"
          }
        }
      ]
    },
    {
      "cell_type": "code",
      "metadata": {
        "colab": {
          "base_uri": "https://localhost:8080/",
          "height": 484
        },
        "id": "YgdWXl1eJIQP",
        "outputId": "8d536133-2217-4f9f-ec93-441c73b4444a"
      },
      "source": [
        "fig = plt.figure(figsize=(12, 6))\n",
        "ax = fig.gca()\n",
        "fig.suptitle('Bottom 10 Categories', fontsize=20)\n",
        "plt.ylabel('Number of Papers', fontsize=14)\n",
        "plt.xlabel('Paper Category', fontsize=14)\n",
        "plt.setp(ax.get_xticklabels(), ha=\"right\", rotation=45, fontsize=14) # Specify a rotation for the tick labels \n",
        "plt.bar(labels[len(labels)-10:],counts[len(labels)-10:])\n",
        "plt.show()"
      ],
      "execution_count": 40,
      "outputs": [
        {
          "output_type": "display_data",
          "data": {
            "image/png": "[encoded data removed]",
            "text/plain": [
              "<Figure size 864x432 with 1 Axes>"
            ]
          },
          "metadata": {
            "tags": [],
            "needs_background": "light"
          }
        }
      ]
    },
    {
      "cell_type": "code",
      "metadata": {
        "colab": {
          "base_uri": "https://localhost:8080/",
          "height": 484
        },
        "id": "qM2Xm3U3ZBvW",
        "outputId": "2bd7ac51-7c48-4cc0-edf0-340858bfd6ff"
      },
      "source": [
        "fig = plt.figure(figsize=(12, 6))\n",
        "ax = fig.gca()\n",
        "fig.suptitle('Bottom 10 Categories', fontsize=20)\n",
        "plt.ylabel('Percentage of Papers', fontsize=14)\n",
        "plt.xlabel('Paper Category', fontsize=14)\n",
        "plt.setp(ax.get_xticklabels(), ha=\"right\", rotation=45, fontsize=14) # Specify a rotation for the tick labels \n",
        "plt.bar(labels[len(labels)-10:],((counts[len(labels)-10:]/df.shape[0])*100))\n",
        "plt.show()"
      ],
      "execution_count": 49,
      "outputs": [
        {
          "output_type": "display_data",
          "data": {
            "image/png": "[encoded data removed]",
            "text/plain": [
              "<Figure size 864x432 with 1 Axes>"
            ]
          },
          "metadata": {
            "tags": [],
            "needs_background": "light"
          }
        }
      ]
    },
    {
      "cell_type": "code",
      "metadata": {
        "id": "RYZsAG58JzMD"
      },
      "source": [
        "multilabel_count=categories.sum(axis=1)"
      ],
      "execution_count": 30,
      "outputs": []
    },
    {
      "cell_type": "code",
      "metadata": {
        "id": "R0JkZLtkNDf_"
      },
      "source": [
        "multilabel_counts = multilabel_count.value_counts()"
      ],
      "execution_count": 31,
      "outputs": []
    },
    {
      "cell_type": "code",
      "metadata": {
        "colab": {
          "base_uri": "https://localhost:8080/"
        },
        "id": "ko34PoRNNNxx",
        "outputId": "9b71bbeb-5839-4826-cafb-b8a79588f686"
      },
      "source": [
        "df.shape"
      ],
      "execution_count": 32,
      "outputs": [
        {
          "output_type": "execute_result",
          "data": {
            "text/plain": [
              "(1765688, 14)"
            ]
          },
          "metadata": {
            "tags": []
          },
          "execution_count": 32
        }
      ]
    },
    {
      "cell_type": "code",
      "metadata": {
        "colab": {
          "base_uri": "https://localhost:8080/"
        },
        "id": "MhA2gxRUNG4o",
        "outputId": "59952efd-cc8f-4838-98ec-48800cc72eb0"
      },
      "source": [
        "multilabel_counts"
      ],
      "execution_count": 33,
      "outputs": [
        {
          "output_type": "execute_result",
          "data": {
            "text/plain": [
              "1     1011620\n",
              "2      491954\n",
              "3      183101\n",
              "4       59450\n",
              "5       15575\n",
              "6        3302\n",
              "7         520\n",
              "8         119\n",
              "9          30\n",
              "10         14\n",
              "11          2\n",
              "13          1\n",
              "dtype: int64"
            ]
          },
          "metadata": {
            "tags": []
          },
          "execution_count": 33
        }
      ]
    },
    {
      "cell_type": "code",
      "metadata": {
        "colab": {
          "base_uri": "https://localhost:8080/",
          "height": 318
        },
        "id": "xBzQeJi6Qjlx",
        "outputId": "b393ce2b-8753-4cb0-a017-43387e9cd624"
      },
      "source": [
        "fig = plt.figure(figsize=(6, 4))\n",
        "ax = fig.gca()\n",
        "fig.suptitle('Number of papers with 1-6 categories', fontsize=20)\n",
        "ax.ticklabel_format(useOffset=False, style='plain', axis='y')\n",
        "plt.ylabel('Number of Papers', fontsize=14)\n",
        "plt.xlabel('Number of Categories', fontsize=14)\n",
        "plt.setp(ax.get_xticklabels(), ha=\"right\", rotation=45, fontsize=14) # Specify a rotation for the tick labels \n",
        "ax.set_xticks(list(range(1,14)))\n",
        "plt.bar(multilabel_counts.index[:6],multilabel_counts[:6].values)\n",
        "plt.show()\n"
      ],
      "execution_count": 44,
      "outputs": [
        {
          "output_type": "display_data",
          "data": {
            "image/png": "[encoded data removed]",
            "text/plain": [
              "<Figure size 432x288 with 1 Axes>"
            ]
          },
          "metadata": {
            "tags": [],
            "needs_background": "light"
          }
        }
      ]
    },
    {
      "cell_type": "code",
      "metadata": {
        "colab": {
          "base_uri": "https://localhost:8080/",
          "height": 318
        },
        "id": "BJx4mOg_ZIB2",
        "outputId": "820a3579-c569-4103-eedc-b9a432f01b28"
      },
      "source": [
        "fig = plt.figure(figsize=(6, 4))\n",
        "ax = fig.gca()\n",
        "fig.suptitle('Percentage of papers with 1-6 categories', fontsize=20)\n",
        "ax.ticklabel_format(useOffset=False, style='plain', axis='y')\n",
        "plt.ylabel('Percentage of Papers', fontsize=14)\n",
        "plt.xlabel('Number of Categories', fontsize=14)\n",
        "plt.setp(ax.get_xticklabels(), ha=\"right\", rotation=45, fontsize=14) # Specify a rotation for the tick labels \n",
        "ax.set_xticks(list(range(1,14)))\n",
        "plt.bar(multilabel_counts.index[:6],(multilabel_counts[:6].values/df.shape[0])*100)\n",
        "plt.show()"
      ],
      "execution_count": 47,
      "outputs": [
        {
          "output_type": "display_data",
          "data": {
            "image/png": "[encoded data removed]",
            "text/plain": [
              "<Figure size 432x288 with 1 Axes>"
            ]
          },
          "metadata": {
            "tags": [],
            "needs_background": "light"
          }
        }
      ]
    },
    {
      "cell_type": "code",
      "metadata": {
        "colab": {
          "base_uri": "https://localhost:8080/",
          "height": 325
        },
        "id": "xlgPYexMNSUI",
        "outputId": "570f6737-33da-4a94-ff94-8a39a2b816a4"
      },
      "source": [
        "fig = plt.figure(figsize=(6, 4))\n",
        "ax = fig.gca()\n",
        "fig.suptitle('Number of papers with  > 6 categories', fontsize=20)\n",
        "plt.ylabel('Number of Papers', fontsize=14)\n",
        "plt.xlabel('Number of Categories', fontsize=14)\n",
        "plt.setp(ax.get_xticklabels(), ha=\"right\", rotation=45, fontsize=14) # Specify a rotation for the tick labels \n",
        "ax.set_xticks(list(range(1,14)))\n",
        "plt.bar(multilabel_counts.index[7:],multilabel_counts[7:].values)\n",
        "plt.show()"
      ],
      "execution_count": 45,
      "outputs": [
        {
          "output_type": "display_data",
          "data": {
            "image/png": "[encoded data removed]",
            "text/plain": [
              "<Figure size 432x288 with 1 Axes>"
            ]
          },
          "metadata": {
            "tags": [],
            "needs_background": "light"
          }
        }
      ]
    },
    {
      "cell_type": "code",
      "metadata": {
        "colab": {
          "base_uri": "https://localhost:8080/",
          "height": 325
        },
        "id": "32RBPhXZZj9n",
        "outputId": "d4e7d256-9779-41a9-e149-97e4524d15aa"
      },
      "source": [
        "fig = plt.figure(figsize=(6, 4))\n",
        "ax = fig.gca()\n",
        "fig.suptitle('Percentage of papers with  > 6 categories', fontsize=20)\n",
        "plt.ylabel('Number of Papers', fontsize=14)\n",
        "plt.xlabel('Number of Categories', fontsize=14)\n",
        "plt.setp(ax.get_xticklabels(), ha=\"right\", rotation=45, fontsize=14) # Specify a rotation for the tick labels \n",
        "ax.set_xticks(list(range(1,14)))\n",
        "plt.bar(multilabel_counts.index[7:],(multilabel_counts[7:].values/df.shape[0])*100)\n",
        "plt.show()"
      ],
      "execution_count": 48,
      "outputs": [
        {
          "output_type": "display_data",
          "data": {
            "image/png": "[encoded data removed]",
            "text/plain": [
              "<Figure size 432x288 with 1 Axes>"
            ]
          },
          "metadata": {
            "tags": [],
            "needs_background": "light"
          }
        }
      ]
    },
    {
      "cell_type": "markdown",
      "metadata": {
        "id": "ZMqqvYurbQH_"
      },
      "source": [
        "#Preprocessing for evaluation"
      ]
    },
    {
      "cell_type": "markdown",
      "metadata": {
        "id": "6PHA1uEuWaNQ"
      },
      "source": [
        "## Stratified splitting of dataset"
      ]
    },
    {
      "cell_type": "code",
      "metadata": {
        "colab": {
          "base_uri": "https://localhost:8080/",
          "height": 581
        },
        "id": "SkuF3C4WoPU_",
        "outputId": "77451c62-6556-4e09-9da1-5f4f919b2f36"
      },
      "source": [
        "df.head()"
      ],
      "execution_count": null,
      "outputs": [
        {
          "output_type": "execute_result",
          "data": {
            "text/html": [
              "<div>\n",
              "<style scoped>\n",
              "    .dataframe tbody tr th:only-of-type {\n",
              "        vertical-align: middle;\n",
              "    }\n",
              "\n",
              "    .dataframe tbody tr th {\n",
              "        vertical-align: top;\n",
              "    }\n",
              "\n",
              "    .dataframe thead th {\n",
              "        text-align: right;\n",
              "    }\n",
              "</style>\n",
              "<table border=\"1\" class=\"dataframe\">\n",
              "  <thead>\n",
              "    <tr style=\"text-align: right;\">\n",
              "      <th></th>\n",
              "      <th>id</th>\n",
              "      <th>submitter</th>\n",
              "      <th>title</th>\n",
              "      <th>journal_ref</th>\n",
              "      <th>doi</th>\n",
              "      <th>report_no</th>\n",
              "      <th>categories</th>\n",
              "      <th>license</th>\n",
              "      <th>abstract</th>\n",
              "      <th>abstract_vectorized</th>\n",
              "      <th>update_date</th>\n",
              "      <th>pages</th>\n",
              "      <th>figures</th>\n",
              "      <th>latest_version_date</th>\n",
              "      <th>latest_version</th>\n",
              "      <th>list_of_authors</th>\n",
              "    </tr>\n",
              "  </thead>\n",
              "  <tbody>\n",
              "    <tr>\n",
              "      <th>0</th>\n",
              "      <td>704.0001</td>\n",
              "      <td>Pavel Nadolsky</td>\n",
              "      <td>Calculation of prompt diphoton production cros...</td>\n",
              "      <td>Phys.Rev.D76:013009,2007</td>\n",
              "      <td>10.1103/PhysRevD.76.013009</td>\n",
              "      <td>ANL-HEP-PR-07-12</td>\n",
              "      <td>['hep-ph']</td>\n",
              "      <td>nan</td>\n",
              "      <td>A fully differential calculation in perturba...</td>\n",
              "      <td>[-0.05816778168082237, -0.059670645743608475, ...</td>\n",
              "      <td>2008-11-26</td>\n",
              "      <td>37</td>\n",
              "      <td>15</td>\n",
              "      <td>Tue, 24 Jul 2007 20:10:27 GMT</td>\n",
              "      <td>v2</td>\n",
              "      <td>['Balázs C.', 'Berger E. L.', 'Nadolsky P. M.'...</td>\n",
              "    </tr>\n",
              "    <tr>\n",
              "      <th>1</th>\n",
              "      <td>704.0002</td>\n",
              "      <td>Louis Theran</td>\n",
              "      <td>Sparsity-certifying Graph Decompositions</td>\n",
              "      <td>nan</td>\n",
              "      <td>nan</td>\n",
              "      <td>nan</td>\n",
              "      <td>['math.CO', 'cs.CG']</td>\n",
              "      <td>http://arxiv.org/licenses/nonexclusive-distrib...</td>\n",
              "      <td>We describe a new algorithm, the $(k,\\ell)$-...</td>\n",
              "      <td>[-0.04349585622549057, -0.04287387430667877, -...</td>\n",
              "      <td>2008-12-13</td>\n",
              "      <td>No data</td>\n",
              "      <td>No data</td>\n",
              "      <td>Sat, 13 Dec 2008 17:26:00 GMT</td>\n",
              "      <td>v2</td>\n",
              "      <td>['Streinu Ileana', 'Theran Louis']</td>\n",
              "    </tr>\n",
              "    <tr>\n",
              "      <th>2</th>\n",
              "      <td>704.0003</td>\n",
              "      <td>Hongjun Pan</td>\n",
              "      <td>The evolution of the Earth-Moon system based o...</td>\n",
              "      <td>nan</td>\n",
              "      <td>nan</td>\n",
              "      <td>nan</td>\n",
              "      <td>['physics.gen-ph']</td>\n",
              "      <td>nan</td>\n",
              "      <td>The evolution of Earth-Moon system is descri...</td>\n",
              "      <td>[-0.03236207738518715, -0.05997699126601219, -...</td>\n",
              "      <td>2008-01-13</td>\n",
              "      <td>23</td>\n",
              "      <td>3</td>\n",
              "      <td>Sun, 13 Jan 2008 00:36:28 GMT</td>\n",
              "      <td>v3</td>\n",
              "      <td>['Pan Hongjun']</td>\n",
              "    </tr>\n",
              "    <tr>\n",
              "      <th>3</th>\n",
              "      <td>704.0004</td>\n",
              "      <td>David Callan</td>\n",
              "      <td>A determinant of Stirling cycle numbers counts...</td>\n",
              "      <td>nan</td>\n",
              "      <td>nan</td>\n",
              "      <td>nan</td>\n",
              "      <td>['math.CO']</td>\n",
              "      <td>nan</td>\n",
              "      <td>We show that a determinant of Stirling cycle...</td>\n",
              "      <td>[-0.025674011558294296, -0.06982755661010742, ...</td>\n",
              "      <td>2007-05-23</td>\n",
              "      <td>11</td>\n",
              "      <td>No data</td>\n",
              "      <td>Sat, 31 Mar 2007 03:16:14 GMT</td>\n",
              "      <td>v1</td>\n",
              "      <td>['Callan David']</td>\n",
              "    </tr>\n",
              "    <tr>\n",
              "      <th>4</th>\n",
              "      <td>704.0005</td>\n",
              "      <td>Alberto Torchinsky</td>\n",
              "      <td>From dyadic $\\Lambda_{\\alpha}$ to $\\Lambda_{\\a...</td>\n",
              "      <td>Illinois J. Math. 52 (2008) no.2, 681-689</td>\n",
              "      <td>nan</td>\n",
              "      <td>nan</td>\n",
              "      <td>['math.CA', 'math.FA']</td>\n",
              "      <td>nan</td>\n",
              "      <td>In this paper we show how to compute the $\\L...</td>\n",
              "      <td>[-0.07878756523132324, -0.08073261380195618, 0...</td>\n",
              "      <td>2013-10-15</td>\n",
              "      <td>No data</td>\n",
              "      <td>No data</td>\n",
              "      <td>Mon, 2 Apr 2007 18:09:58 GMT</td>\n",
              "      <td>v1</td>\n",
              "      <td>['Abu-Shammala Wael', 'Torchinsky Alberto']</td>\n",
              "    </tr>\n",
              "  </tbody>\n",
              "</table>\n",
              "</div>"
            ],
            "text/plain": [
              "         id  ...                                    list_of_authors\n",
              "0  704.0001  ...  ['Balázs C.', 'Berger E. L.', 'Nadolsky P. M.'...\n",
              "1  704.0002  ...                 ['Streinu Ileana', 'Theran Louis']\n",
              "2  704.0003  ...                                    ['Pan Hongjun']\n",
              "3  704.0004  ...                                   ['Callan David']\n",
              "4  704.0005  ...        ['Abu-Shammala Wael', 'Torchinsky Alberto']\n",
              "\n",
              "[5 rows x 16 columns]"
            ]
          },
          "metadata": {
            "tags": []
          },
          "execution_count": 5
        }
      ]
    },
    {
      "cell_type": "code",
      "metadata": {
        "colab": {
          "base_uri": "https://localhost:8080/"
        },
        "id": "B7a-9hxes6KI",
        "outputId": "af0e4d28-7774-46a1-9936-ce02a763bcd8"
      },
      "source": [
        "df.shape"
      ],
      "execution_count": null,
      "outputs": [
        {
          "output_type": "execute_result",
          "data": {
            "text/plain": [
              "(100001, 16)"
            ]
          },
          "metadata": {
            "tags": []
          },
          "execution_count": 6
        }
      ]
    },
    {
      "cell_type": "code",
      "metadata": {
        "colab": {
          "base_uri": "https://localhost:8080/"
        },
        "id": "bWqgvs5v92Rc",
        "outputId": "018e87a0-b575-4862-cb09-895b3a104911"
      },
      "source": [
        "df.columns"
      ],
      "execution_count": null,
      "outputs": [
        {
          "output_type": "execute_result",
          "data": {
            "text/plain": [
              "Index(['id', 'submitter', 'title', 'journal_ref', 'doi', 'report_no',\n",
              "       'categories', 'license', 'abstract', 'abstract_vectorized',\n",
              "       'update_date', 'pages', 'figures', 'latest_version_date',\n",
              "       'latest_version', 'list_of_authors'],\n",
              "      dtype='object')"
            ]
          },
          "metadata": {
            "tags": []
          },
          "execution_count": 7
        }
      ]
    },
    {
      "cell_type": "code",
      "metadata": {
        "id": "OQTRuTvdB8mP"
      },
      "source": [
        "after_transformation = df[df.categories.map(df.categories.value_counts()) >= 2]"
      ],
      "execution_count": null,
      "outputs": []
    },
    {
      "cell_type": "code",
      "metadata": {
        "id": "gU-nEAu4-MNg"
      },
      "source": [
        "y=after_transformation['categories']"
      ],
      "execution_count": null,
      "outputs": []
    },
    {
      "cell_type": "code",
      "metadata": {
        "id": "9ATKxA57-YCS"
      },
      "source": [
        "after_transformation_without_categories=after_transformation.drop( columns=['categories'])"
      ],
      "execution_count": null,
      "outputs": []
    },
    {
      "cell_type": "code",
      "metadata": {
        "colab": {
          "base_uri": "https://localhost:8080/"
        },
        "id": "CQQGk2cNC6v4",
        "outputId": "39144675-fbf4-4708-f597-13331226ed3e"
      },
      "source": [
        "df.shape"
      ],
      "execution_count": null,
      "outputs": [
        {
          "output_type": "execute_result",
          "data": {
            "text/plain": [
              "(100001, 16)"
            ]
          },
          "metadata": {
            "tags": []
          },
          "execution_count": 11
        }
      ]
    },
    {
      "cell_type": "code",
      "metadata": {
        "colab": {
          "base_uri": "https://localhost:8080/"
        },
        "id": "IOSa5Xk7C89X",
        "outputId": "42d04fe6-00a0-48ef-e7c2-ebe02e20db11"
      },
      "source": [
        "after_transformation_without_categories.shape"
      ],
      "execution_count": null,
      "outputs": [
        {
          "output_type": "execute_result",
          "data": {
            "text/plain": [
              "(96412, 15)"
            ]
          },
          "metadata": {
            "tags": []
          },
          "execution_count": 12
        }
      ]
    },
    {
      "cell_type": "code",
      "metadata": {
        "colab": {
          "base_uri": "https://localhost:8080/"
        },
        "id": "-E8MPkgqC_R9",
        "outputId": "52a7abd3-a223-46f2-9a87-b5c032b24b34"
      },
      "source": [
        "y.shape"
      ],
      "execution_count": null,
      "outputs": [
        {
          "output_type": "execute_result",
          "data": {
            "text/plain": [
              "(96412,)"
            ]
          },
          "metadata": {
            "tags": []
          },
          "execution_count": 13
        }
      ]
    },
    {
      "cell_type": "code",
      "metadata": {
        "colab": {
          "base_uri": "https://localhost:8080/"
        },
        "id": "4aDm6Az1CK0U",
        "outputId": "4e883330-aa66-46dd-f1b3-916771ef3c7e"
      },
      "source": [
        "df.categories.value_counts()"
      ],
      "execution_count": null,
      "outputs": [
        {
          "output_type": "execute_result",
          "data": {
            "text/plain": [
              "['astro-ph']                                              16291\n",
              "['hep-ph']                                                 5322\n",
              "['quant-ph']                                               4225\n",
              "['hep-th']                                                 3702\n",
              "['cond-mat.mtrl-sci']                                      2085\n",
              "                                                          ...  \n",
              "['math.CO', 'math.AC', 'math.RA']                             1\n",
              "['q-bio.PE', 'math-ph', 'math.MP', 'q-bio.QM']                1\n",
              "['cs.CR', 'cs.IR']                                            1\n",
              "['cond-mat.stat-mech', 'physics.class-ph', 'quant-ph']        1\n",
              "['physics.space-ph', 'physics.comp-ph']                       1\n",
              "Name: categories, Length: 6072, dtype: int64"
            ]
          },
          "metadata": {
            "tags": []
          },
          "execution_count": 14
        }
      ]
    },
    {
      "cell_type": "code",
      "metadata": {
        "colab": {
          "base_uri": "https://localhost:8080/"
        },
        "id": "Lz2QhnnnCCCF",
        "outputId": "b3a33543-2f1e-46bd-ac11-d8ff93cc3ba2"
      },
      "source": [
        "y.value_counts()"
      ],
      "execution_count": null,
      "outputs": [
        {
          "output_type": "execute_result",
          "data": {
            "text/plain": [
              "['astro-ph']                                           16291\n",
              "['hep-ph']                                              5322\n",
              "['quant-ph']                                            4225\n",
              "['hep-th']                                              3702\n",
              "['cond-mat.mtrl-sci']                                   2085\n",
              "                                                       ...  \n",
              "['physics.plasm-ph', 'astro-ph', 'physics.flu-dyn']        2\n",
              "['math.CV', 'math.AC', 'math.AG']                          2\n",
              "['hep-th', 'astro-ph', 'hep-ph', 'nlin.PS']                2\n",
              "['stat.AP', 'math.ST', 'stat.ME', 'stat.TH']               2\n",
              "['physics.gen-ph', 'q-bio.PE']                             2\n",
              "Name: categories, Length: 2483, dtype: int64"
            ]
          },
          "metadata": {
            "tags": []
          },
          "execution_count": 15
        }
      ]
    },
    {
      "cell_type": "code",
      "metadata": {
        "id": "rOO-fBRjtCyu"
      },
      "source": [
        "X_train, X_test, y_train, y_test = train_test_split(after_transformation_without_categories, y, test_size=0.2, random_state=42,stratify= y)"
      ],
      "execution_count": null,
      "outputs": []
    },
    {
      "cell_type": "code",
      "metadata": {
        "colab": {
          "base_uri": "https://localhost:8080/"
        },
        "id": "3xW1pCkSFRX3",
        "outputId": "f1f80dff-0ae6-4b88-c105-caf08428f3bf"
      },
      "source": [
        "X_train['categories']=y_train"
      ],
      "execution_count": null,
      "outputs": [
        {
          "output_type": "stream",
          "text": [
            "/usr/local/lib/python3.6/dist-packages/ipykernel_launcher.py:1: SettingWithCopyWarning: \n",
            "A value is trying to be set on a copy of a slice from a DataFrame.\n",
            "Try using .loc[row_indexer,col_indexer] = value instead\n",
            "\n",
            "See the caveats in the documentation: https://pandas.pydata.org/pandas-docs/stable/user_guide/indexing.html#returning-a-view-versus-a-copy\n",
            "  \"\"\"Entry point for launching an IPython kernel.\n"
          ],
          "name": "stderr"
        }
      ]
    },
    {
      "cell_type": "code",
      "metadata": {
        "colab": {
          "base_uri": "https://localhost:8080/"
        },
        "id": "kEv0EcYaFWKv",
        "outputId": "ed9eae12-5403-4683-a9a0-789d2f126fb9"
      },
      "source": [
        "X_test['categories']=y_test"
      ],
      "execution_count": null,
      "outputs": [
        {
          "output_type": "stream",
          "text": [
            "/usr/local/lib/python3.6/dist-packages/ipykernel_launcher.py:1: SettingWithCopyWarning: \n",
            "A value is trying to be set on a copy of a slice from a DataFrame.\n",
            "Try using .loc[row_indexer,col_indexer] = value instead\n",
            "\n",
            "See the caveats in the documentation: https://pandas.pydata.org/pandas-docs/stable/user_guide/indexing.html#returning-a-view-versus-a-copy\n",
            "  \"\"\"Entry point for launching an IPython kernel.\n"
          ],
          "name": "stderr"
        }
      ]
    },
    {
      "cell_type": "code",
      "metadata": {
        "colab": {
          "base_uri": "https://localhost:8080/"
        },
        "id": "ijF32Aw7Faa2",
        "outputId": "9871d385-18cd-4664-b4d7-74c8ef23fd92"
      },
      "source": [
        "X_test.columns"
      ],
      "execution_count": null,
      "outputs": [
        {
          "output_type": "execute_result",
          "data": {
            "text/plain": [
              "Index(['id', 'submitter', 'title', 'journal_ref', 'doi', 'report_no',\n",
              "       'license', 'abstract', 'abstract_vectorized', 'update_date', 'pages',\n",
              "       'figures', 'latest_version_date', 'latest_version', 'list_of_authors',\n",
              "       'categories'],\n",
              "      dtype='object')"
            ]
          },
          "metadata": {
            "tags": []
          },
          "execution_count": 19
        }
      ]
    },
    {
      "cell_type": "code",
      "metadata": {
        "id": "c_wgEzViFOlH"
      },
      "source": [
        "X_train.to_json('/content/drive/My Drive/ING/VINF/train_100k.json',orient=\"records\")\n",
        "X_test.to_json('/content/drive/My Drive/ING/VINF/test_100k.json',orient=\"records\")"
      ],
      "execution_count": null,
      "outputs": []
    },
    {
      "cell_type": "markdown",
      "metadata": {
        "id": "hbSlVvWughRK"
      },
      "source": [
        "## Evaluation test"
      ]
    },
    {
      "cell_type": "code",
      "metadata": {
        "id": "X7J3ciaigl8E"
      },
      "source": [
        "df_eval=pd.read_json('/content/drive/My Drive/ING/VINF/evaluate_100k.json',orient='records')"
      ],
      "execution_count": null,
      "outputs": []
    },
    {
      "cell_type": "code",
      "metadata": {
        "colab": {
          "base_uri": "https://localhost:8080/",
          "height": 666
        },
        "id": "RoIlMrKCgmh_",
        "outputId": "338350e5-f030-4ff1-f9ad-da18a94e7962"
      },
      "source": [
        "df_eval.head()"
      ],
      "execution_count": null,
      "outputs": [
        {
          "output_type": "execute_result",
          "data": {
            "text/html": [
              "<div>\n",
              "<style scoped>\n",
              "    .dataframe tbody tr th:only-of-type {\n",
              "        vertical-align: middle;\n",
              "    }\n",
              "\n",
              "    .dataframe tbody tr th {\n",
              "        vertical-align: top;\n",
              "    }\n",
              "\n",
              "    .dataframe thead th {\n",
              "        text-align: right;\n",
              "    }\n",
              "</style>\n",
              "<table border=\"1\" class=\"dataframe\">\n",
              "  <thead>\n",
              "    <tr style=\"text-align: right;\">\n",
              "      <th></th>\n",
              "      <th>id</th>\n",
              "      <th>submitter</th>\n",
              "      <th>title</th>\n",
              "      <th>journal_ref</th>\n",
              "      <th>doi</th>\n",
              "      <th>report_no</th>\n",
              "      <th>license</th>\n",
              "      <th>abstract</th>\n",
              "      <th>abstract_vectorized</th>\n",
              "      <th>update_date</th>\n",
              "      <th>pages</th>\n",
              "      <th>figures</th>\n",
              "      <th>latest_version_date</th>\n",
              "      <th>latest_version</th>\n",
              "      <th>list_of_authors</th>\n",
              "      <th>categories</th>\n",
              "      <th>most_similar_title_universal_sentence_encoder</th>\n",
              "      <th>most_similar_categories_universal_sentence_encoder</th>\n",
              "      <th>precision_universal_sentence_encoder</th>\n",
              "      <th>recall_universal_sentence_encoder</th>\n",
              "      <th>score_universal_sentence_encoder</th>\n",
              "      <th>precision_TFIDF</th>\n",
              "      <th>recall_TFIDF</th>\n",
              "      <th>score_TFIDF</th>\n",
              "      <th>most_similar_title_TFIDF</th>\n",
              "      <th>most_similar_categories_TFIDF</th>\n",
              "    </tr>\n",
              "  </thead>\n",
              "  <tbody>\n",
              "    <tr>\n",
              "      <th>0</th>\n",
              "      <td>710.0314</td>\n",
              "      <td>Amina Zghiche</td>\n",
              "      <td>Charm Meson Spectroscopy at Babar and CLEO-C</td>\n",
              "      <td>ECONF C070805:37,2007</td>\n",
              "      <td>nan</td>\n",
              "      <td>eConf#C070805</td>\n",
              "      <td>nan</td>\n",
              "      <td>In this mini-review we report on the most re...</td>\n",
              "      <td>[-0.06770581752061844, 0.001342404866591096, -...</td>\n",
              "      <td>2011-06-15</td>\n",
              "      <td>No data</td>\n",
              "      <td>No data</td>\n",
              "      <td>Mon, 15 Oct 2007 08:24:39 GMT</td>\n",
              "      <td>v2</td>\n",
              "      <td>['Zghiche A.']</td>\n",
              "      <td>['hep-ex']</td>\n",
              "      <td>Charm Meson Decays</td>\n",
              "      <td>[hep-ph, hep-ex]</td>\n",
              "      <td>0.5</td>\n",
              "      <td>1.0</td>\n",
              "      <td>1.687578</td>\n",
              "      <td>0.0</td>\n",
              "      <td>0.0</td>\n",
              "      <td>8.925552</td>\n",
              "      <td>$\\delta$ meson effects on neutron stars in the...</td>\n",
              "      <td>[nucl-th]</td>\n",
              "    </tr>\n",
              "    <tr>\n",
              "      <th>1</th>\n",
              "      <td>808.3997</td>\n",
              "      <td>Aurel Rascanu</td>\n",
              "      <td>Viability for stochastic differential equation...</td>\n",
              "      <td>nan</td>\n",
              "      <td>nan</td>\n",
              "      <td>nan</td>\n",
              "      <td>http://arxiv.org/licenses/nonexclusive-distrib...</td>\n",
              "      <td>In this paper we prove a viability result fo...</td>\n",
              "      <td>[-0.04423050954937935, -0.07066845893859863, -...</td>\n",
              "      <td>2008-09-01</td>\n",
              "      <td>No data</td>\n",
              "      <td>No data</td>\n",
              "      <td>Thu, 28 Aug 2008 21:06:47 GMT</td>\n",
              "      <td>v1</td>\n",
              "      <td>['Ciotir Ioana', 'Rascanu Aurel']</td>\n",
              "      <td>['math.DS', 'math.CA']</td>\n",
              "      <td>Reflected Solutions of Backward Doubly Stochas...</td>\n",
              "      <td>[math.PR]</td>\n",
              "      <td>0.0</td>\n",
              "      <td>0.0</td>\n",
              "      <td>1.742899</td>\n",
              "      <td>0.0</td>\n",
              "      <td>0.0</td>\n",
              "      <td>0.036042</td>\n",
              "      <td>Dynamics of non-harmonic internal gravity wave...</td>\n",
              "      <td>[physics.flu-dyn, physics.ao-ph]</td>\n",
              "    </tr>\n",
              "    <tr>\n",
              "      <th>2</th>\n",
              "      <td>803.0858</td>\n",
              "      <td>Oleg Verbitsky</td>\n",
              "      <td>Untangling planar graphs from a specified vert...</td>\n",
              "      <td>Discrete Applied Mathematics 159:8 (2011) 789-799</td>\n",
              "      <td>10.1016/j.dam.2011.01.011</td>\n",
              "      <td>nan</td>\n",
              "      <td>http://arxiv.org/licenses/nonexclusive-distrib...</td>\n",
              "      <td>Given a planar graph $G$, we consider drawin...</td>\n",
              "      <td>[0.018981892615556717, -0.060920633375644684, ...</td>\n",
              "      <td>2011-05-20</td>\n",
              "      <td>18</td>\n",
              "      <td>4</td>\n",
              "      <td>Tue, 23 Nov 2010 09:59:13 GMT</td>\n",
              "      <td>v5</td>\n",
              "      <td>['Kang Mihyun', 'Pikhurko Oleg', 'Ravsky Alexa...</td>\n",
              "      <td>['cs.DM', 'cs.CG']</td>\n",
              "      <td>Untangling polygons and graphs</td>\n",
              "      <td>[cs.CG, cs.DM]</td>\n",
              "      <td>1.0</td>\n",
              "      <td>1.0</td>\n",
              "      <td>1.746162</td>\n",
              "      <td>1.0</td>\n",
              "      <td>1.0</td>\n",
              "      <td>30.227854</td>\n",
              "      <td>Untangling a Planar Graph</td>\n",
              "      <td>[cs.CG, cs.DM]</td>\n",
              "    </tr>\n",
              "    <tr>\n",
              "      <th>3</th>\n",
              "      <td>809.4575</td>\n",
              "      <td>Giuseppe Vallone Dr.</td>\n",
              "      <td>Multi-path entanglement of two photons</td>\n",
              "      <td>Phys. Rev. Lett. 102, 153902 (2009)</td>\n",
              "      <td>10.1103/PhysRevLett.102.153902</td>\n",
              "      <td>nan</td>\n",
              "      <td>http://arxiv.org/licenses/nonexclusive-distrib...</td>\n",
              "      <td>We present a novel optical device based on a...</td>\n",
              "      <td>[-0.04593786597251892, -0.062123969197273254, ...</td>\n",
              "      <td>2009-04-27</td>\n",
              "      <td>4</td>\n",
              "      <td>3</td>\n",
              "      <td>Mon, 23 Feb 2009 13:43:16 GMT</td>\n",
              "      <td>v3</td>\n",
              "      <td>['Rossi A.', 'Vallone G.', 'Chiuri A.', 'De Ma...</td>\n",
              "      <td>['quant-ph']</td>\n",
              "      <td>Synthesis and Analysis of Entangled Photonic Q...</td>\n",
              "      <td>[quant-ph]</td>\n",
              "      <td>1.0</td>\n",
              "      <td>1.0</td>\n",
              "      <td>1.768435</td>\n",
              "      <td>0.0</td>\n",
              "      <td>0.0</td>\n",
              "      <td>9.529106</td>\n",
              "      <td>Novel Bonding technologies for wafer-level tra...</td>\n",
              "      <td>[cs.OH]</td>\n",
              "    </tr>\n",
              "    <tr>\n",
              "      <th>4</th>\n",
              "      <td>708.1239</td>\n",
              "      <td>Nicola Cufaro Petroni</td>\n",
              "      <td>Selfdecomposability and selfsimilarity: a conc...</td>\n",
              "      <td>Physica A 387 (2008) 1875-94</td>\n",
              "      <td>10.1016/j.physa.2007.11.036</td>\n",
              "      <td>Rapporto n. 32/07 - Dpt of Mathematics, Bari U...</td>\n",
              "      <td>nan</td>\n",
              "      <td>We summarize the relations among three class...</td>\n",
              "      <td>[0.032743390649557114, -0.05095825716853142, 0...</td>\n",
              "      <td>2008-05-06</td>\n",
              "      <td>24</td>\n",
              "      <td>3</td>\n",
              "      <td>Tue, 27 Nov 2007 22:03:31 GMT</td>\n",
              "      <td>v3</td>\n",
              "      <td>['Petroni Nicola Cufaro']</td>\n",
              "      <td>['cond-mat.stat-mech', 'math.PR']</td>\n",
              "      <td>One-dimensional space-discrete transport subje...</td>\n",
              "      <td>[math-ph, math.MP]</td>\n",
              "      <td>0.0</td>\n",
              "      <td>0.0</td>\n",
              "      <td>1.624572</td>\n",
              "      <td>0.0</td>\n",
              "      <td>0.0</td>\n",
              "      <td>0.758185</td>\n",
              "      <td>Study of the young stellar population of NGC 4...</td>\n",
              "      <td>[astro-ph]</td>\n",
              "    </tr>\n",
              "  </tbody>\n",
              "</table>\n",
              "</div>"
            ],
            "text/plain": [
              "         id  ...     most_similar_categories_TFIDF\n",
              "0  710.0314  ...                         [nucl-th]\n",
              "1  808.3997  ...  [physics.flu-dyn, physics.ao-ph]\n",
              "2  803.0858  ...                    [cs.CG, cs.DM]\n",
              "3  809.4575  ...                           [cs.OH]\n",
              "4  708.1239  ...                        [astro-ph]\n",
              "\n",
              "[5 rows x 26 columns]"
            ]
          },
          "metadata": {
            "tags": []
          },
          "execution_count": 4
        }
      ]
    },
    {
      "cell_type": "code",
      "metadata": {
        "colab": {
          "base_uri": "https://localhost:8080/"
        },
        "id": "43APpft3hKEc",
        "outputId": "4a1796cf-fe2a-45d5-c673-bdaa48316d5f"
      },
      "source": [
        "df_eval.columns"
      ],
      "execution_count": null,
      "outputs": [
        {
          "output_type": "execute_result",
          "data": {
            "text/plain": [
              "Index(['id', 'submitter', 'title', 'journal_ref', 'doi', 'report_no',\n",
              "       'license', 'abstract', 'abstract_vectorized', 'update_date', 'pages',\n",
              "       'figures', 'latest_version_date', 'latest_version', 'list_of_authors',\n",
              "       'categories', 'most_similar_title_universal_sentence_encoder',\n",
              "       'most_similar_categories_universal_sentence_encoder',\n",
              "       'precision_universal_sentence_encoder',\n",
              "       'recall_universal_sentence_encoder', 'score_universal_sentence_encoder',\n",
              "       'precision_TFIDF', 'recall_TFIDF', 'score_TFIDF',\n",
              "       'most_similar_title_TFIDF', 'most_similar_categories_TFIDF'],\n",
              "      dtype='object')"
            ]
          },
          "metadata": {
            "tags": []
          },
          "execution_count": 5
        }
      ]
    },
    {
      "cell_type": "code",
      "metadata": {
        "colab": {
          "base_uri": "https://localhost:8080/"
        },
        "id": "FMjMUlpHk_l0",
        "outputId": "ec4f8a08-7f70-41d0-d62e-61eea92b4119"
      },
      "source": [
        "print(\"mean precision universal sentence encoder  {}\".format(\n",
        "   df_eval['precision_universal_sentence_encoder'].mean()))\n",
        "print(\"mean recall universal sentence encoder {}\".format(\n",
        "    df_eval['recall_universal_sentence_encoder'].mean()))\n",
        "print(\"---------------------------------------\")\n",
        "print(\"mean precision TFIDF  {}\".format(\n",
        "   df_eval['precision_TFIDF'].mean()))\n",
        "print(\"mean recall TFIDF {}\".format(\n",
        "    df_eval['recall_TFIDF'].mean()))"
      ],
      "execution_count": null,
      "outputs": [
        {
          "output_type": "stream",
          "text": [
            "mean precision universal sentence encoder  0.5714428944320555\n",
            "mean recall universal sentence encoder 0.5774386765544787\n",
            "---------------------------------------\n",
            "mean precision TFIDF  0.43336012722778205\n",
            "mean recall TFIDF 0.4354586941865882\n"
          ],
          "name": "stdout"
        }
      ]
    },
    {
      "cell_type": "code",
      "metadata": {
        "colab": {
          "base_uri": "https://localhost:8080/",
          "height": 762
        },
        "id": "LA7FZuhAhz70",
        "outputId": "1bbf1bf7-ece3-4fd3-ff0c-a09811f51fb6"
      },
      "source": [
        "df_eval.sort_values(by=['score_universal_sentence_encoder','score_TFIDF'],ascending=False)[['title','categories','most_similar_categories_universal_sentence_encoder','most_similar_title_universal_sentence_encoder','most_similar_title_TFIDF']]"
      ],
      "execution_count": null,
      "outputs": [
        {
          "output_type": "execute_result",
          "data": {
            "text/html": [
              "<div>\n",
              "<style scoped>\n",
              "    .dataframe tbody tr th:only-of-type {\n",
              "        vertical-align: middle;\n",
              "    }\n",
              "\n",
              "    .dataframe tbody tr th {\n",
              "        vertical-align: top;\n",
              "    }\n",
              "\n",
              "    .dataframe thead th {\n",
              "        text-align: right;\n",
              "    }\n",
              "</style>\n",
              "<table border=\"1\" class=\"dataframe\">\n",
              "  <thead>\n",
              "    <tr style=\"text-align: right;\">\n",
              "      <th></th>\n",
              "      <th>title</th>\n",
              "      <th>categories</th>\n",
              "      <th>most_similar_categories_universal_sentence_encoder</th>\n",
              "      <th>most_similar_title_universal_sentence_encoder</th>\n",
              "      <th>most_similar_title_TFIDF</th>\n",
              "    </tr>\n",
              "  </thead>\n",
              "  <tbody>\n",
              "    <tr>\n",
              "      <th>11845</th>\n",
              "      <td>\\\"Uber Pro-p-Fundamentalgruppen markierter ari...</td>\n",
              "      <td>['math.NT']</td>\n",
              "      <td>[math.NT]</td>\n",
              "      <td>On pro-p fundamental groups of marked arithmet...</td>\n",
              "      <td>On pro-p fundamental groups of marked arithmet...</td>\n",
              "    </tr>\n",
              "    <tr>\n",
              "      <th>12007</th>\n",
              "      <td>Parton distribution function uncertainties &amp; n...</td>\n",
              "      <td>['hep-ph']</td>\n",
              "      <td>[hep-ph]</td>\n",
              "      <td>Nuclear Parton Distribution Functions</td>\n",
              "      <td>Nuclear Parton Distribution Functions</td>\n",
              "    </tr>\n",
              "    <tr>\n",
              "      <th>7204</th>\n",
              "      <td>The Dynamical State of the Starless Dense Core...</td>\n",
              "      <td>['astro-ph']</td>\n",
              "      <td>[astro-ph]</td>\n",
              "      <td>The Dynamical State fo the Starless Dense Core...</td>\n",
              "      <td>The Dynamical State fo the Starless Dense Core...</td>\n",
              "    </tr>\n",
              "    <tr>\n",
              "      <th>9173</th>\n",
              "      <td>Singlet fermionic dark matter</td>\n",
              "      <td>['hep-ph']</td>\n",
              "      <td>[hep-ph]</td>\n",
              "      <td>Singlet fermionic dark matter as a natural hig...</td>\n",
              "      <td>Singlet fermionic dark matter as a natural hig...</td>\n",
              "    </tr>\n",
              "    <tr>\n",
              "      <th>13308</th>\n",
              "      <td>Codes Associated with Orthogonal Groups and Po...</td>\n",
              "      <td>['math.NT', 'cs.IT', 'math.IT']</td>\n",
              "      <td>[math.NT, cs.IT, math.IT]</td>\n",
              "      <td>Codes Associated with $O^+(2n,2^r)$ and Power ...</td>\n",
              "      <td>Codes Associated with $O^+(2n,2^r)$ and Power ...</td>\n",
              "    </tr>\n",
              "    <tr>\n",
              "      <th>...</th>\n",
              "      <td>...</td>\n",
              "      <td>...</td>\n",
              "      <td>...</td>\n",
              "      <td>...</td>\n",
              "      <td>...</td>\n",
              "    </tr>\n",
              "    <tr>\n",
              "      <th>11566</th>\n",
              "      <td>Discussion of: Statistical analysis of an arch...</td>\n",
              "      <td>['stat.AP']</td>\n",
              "      <td></td>\n",
              "      <td></td>\n",
              "      <td></td>\n",
              "    </tr>\n",
              "    <tr>\n",
              "      <th>12768</th>\n",
              "      <td>Comment: Struggles with Survey Weighting and R...</td>\n",
              "      <td>['stat.ME']</td>\n",
              "      <td></td>\n",
              "      <td></td>\n",
              "      <td></td>\n",
              "    </tr>\n",
              "    <tr>\n",
              "      <th>13041</th>\n",
              "      <td>Comment: The 2005 Neyman Lecture: Dynamic Inde...</td>\n",
              "      <td>['stat.ME']</td>\n",
              "      <td></td>\n",
              "      <td></td>\n",
              "      <td></td>\n",
              "    </tr>\n",
              "    <tr>\n",
              "      <th>17832</th>\n",
              "      <td>Comment: Fisher Lecture: Dimension Reduction i...</td>\n",
              "      <td>['stat.ME']</td>\n",
              "      <td></td>\n",
              "      <td></td>\n",
              "      <td></td>\n",
              "    </tr>\n",
              "    <tr>\n",
              "      <th>18528</th>\n",
              "      <td>Discussion of ``2004 IMS Medallion Lecture: Lo...</td>\n",
              "      <td>['q-fin.RM', 'math.ST', 'stat.TH']</td>\n",
              "      <td></td>\n",
              "      <td></td>\n",
              "      <td></td>\n",
              "    </tr>\n",
              "  </tbody>\n",
              "</table>\n",
              "<p>19283 rows × 5 columns</p>\n",
              "</div>"
            ],
            "text/plain": [
              "                                                   title  ...                           most_similar_title_TFIDF\n",
              "11845  \\\"Uber Pro-p-Fundamentalgruppen markierter ari...  ...  On pro-p fundamental groups of marked arithmet...\n",
              "12007  Parton distribution function uncertainties & n...  ...              Nuclear Parton Distribution Functions\n",
              "7204   The Dynamical State of the Starless Dense Core...  ...  The Dynamical State fo the Starless Dense Core...\n",
              "9173                       Singlet fermionic dark matter  ...  Singlet fermionic dark matter as a natural hig...\n",
              "13308  Codes Associated with Orthogonal Groups and Po...  ...  Codes Associated with $O^+(2n,2^r)$ and Power ...\n",
              "...                                                  ...  ...                                                ...\n",
              "11566  Discussion of: Statistical analysis of an arch...  ...                                                   \n",
              "12768  Comment: Struggles with Survey Weighting and R...  ...                                                   \n",
              "13041  Comment: The 2005 Neyman Lecture: Dynamic Inde...  ...                                                   \n",
              "17832  Comment: Fisher Lecture: Dimension Reduction i...  ...                                                   \n",
              "18528  Discussion of ``2004 IMS Medallion Lecture: Lo...  ...                                                   \n",
              "\n",
              "[19283 rows x 5 columns]"
            ]
          },
          "metadata": {
            "tags": []
          },
          "execution_count": 10
        }
      ]
    },
    {
      "cell_type": "code",
      "metadata": {
        "colab": {
          "base_uri": "https://localhost:8080/"
        },
        "id": "3l0Y3wpYW9NH",
        "outputId": "d669b295-50ec-493f-8c20-fadff853096f"
      },
      "source": [
        "df_eval.columns"
      ],
      "execution_count": null,
      "outputs": [
        {
          "output_type": "execute_result",
          "data": {
            "text/plain": [
              "Index(['id', 'submitter', 'title', 'journal_ref', 'doi', 'report_no',\n",
              "       'license', 'abstract', 'abstract_vectorized', 'update_date', 'pages',\n",
              "       'figures', 'latest_version_date', 'latest_version', 'list_of_authors',\n",
              "       'categories', 'most_similar_title_universal_sentence_encoder',\n",
              "       'most_similar_categories_universal_sentence_encoder',\n",
              "       'precision_universal_sentence_encoder',\n",
              "       'recall_universal_sentence_encoder', 'score_universal_sentence_encoder',\n",
              "       'precision_TFIDF', 'recall_TFIDF', 'score_TFIDF',\n",
              "       'most_similar_title_TFIDF', 'most_similar_categories_TFIDF'],\n",
              "      dtype='object')"
            ]
          },
          "metadata": {
            "tags": []
          },
          "execution_count": 7
        }
      ]
    },
    {
      "cell_type": "code",
      "metadata": {
        "id": "kyWUPSh_JlSk"
      },
      "source": [
        "df_eval[['title','categories','most_similar_title_universal_sentence_encoder','most_similar_categories_universal_sentence_encoder','precision_universal_sentence_encoder','recall_universal_sentence_encoder','score_universal_sentence_encoder','most_similar_title_TFIDF','most_similar_categories_TFIDF','precision_TFIDF','recall_TFIDF','score_TFIDF']].to_excel('/content/drive/My Drive/ING/VINF/evaluate_100k.xlsx')"
      ],
      "execution_count": null,
      "outputs": []
    }
  ]
}